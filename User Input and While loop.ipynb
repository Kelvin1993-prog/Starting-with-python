{
 "cells": [
  {
   "cell_type": "markdown",
   "metadata": {},
   "source": [
    "### User Input and While Loops"
   ]
  },
  {
   "cell_type": "markdown",
   "metadata": {},
   "source": [
    "This is an end user interface possibility. That is, ability to interact with the end user over a given task. Let's say for an example, you want the user to input or enter his name or age, this will be possible through a channel known as input function.\n",
    "\n",
    "We will later introduce while loop."
   ]
  },
  {
   "cell_type": "code",
   "execution_count": 1,
   "metadata": {},
   "outputs": [
    {
     "name": "stdout",
     "output_type": "stream",
     "text": [
      "please enter your name: kel\n",
      "Hello Kel!\n"
     ]
    }
   ],
   "source": [
    "#how input function works\n",
    "#the input function takes one argument\n",
    "\n",
    "name = input(\"please enter your name: \")\n",
    "print(\"Hello \" + name.title() + \"!\")"
   ]
  },
  {
   "cell_type": "code",
   "execution_count": 2,
   "metadata": {},
   "outputs": [
    {
     "name": "stdout",
     "output_type": "stream",
     "text": [
      "Tell us why you really wanted to learn python!\n",
      "what is your name?kel\n",
      "Hello, Kel!\n"
     ]
    }
   ],
   "source": [
    "#storing the prompt message in a variable before passing it down\n",
    "\n",
    "user_prompt = 'Tell us why you really wanted to learn python!'\n",
    "user_prompt += '\\nwhat is your name?'\n",
    "\n",
    "name = input(user_prompt)\n",
    "print(\"Hello, \" + name.title() + \"!\")\n"
   ]
  },
  {
   "cell_type": "code",
   "execution_count": 3,
   "metadata": {},
   "outputs": [
    {
     "name": "stdout",
     "output_type": "stream",
     "text": [
      "How old are you? 44\n",
      "44\n",
      "<class 'str'>\n"
     ]
    }
   ],
   "source": [
    "#using int to accept numerical input\n",
    "\n",
    "age = input(\"How old are you? \")\n",
    "print(age)\n",
    "print(type(age)) #the type is showing it as a string, we need to convert it to integer"
   ]
  },
  {
   "cell_type": "code",
   "execution_count": 4,
   "metadata": {},
   "outputs": [
    {
     "name": "stdout",
     "output_type": "stream",
     "text": [
      "How old are you? 45\n"
     ]
    },
    {
     "ename": "TypeError",
     "evalue": "'>=' not supported between instances of 'str' and 'int'",
     "output_type": "error",
     "traceback": [
      "\u001b[1;31m---------------------------------------------------------------------------\u001b[0m",
      "\u001b[1;31mTypeError\u001b[0m                                 Traceback (most recent call last)",
      "\u001b[1;32m<ipython-input-4-d0b94171537d>\u001b[0m in \u001b[0;36m<module>\u001b[1;34m\u001b[0m\n\u001b[0;32m      1\u001b[0m \u001b[0mage\u001b[0m \u001b[1;33m=\u001b[0m \u001b[0minput\u001b[0m\u001b[1;33m(\u001b[0m\u001b[1;34m\"How old are you? \"\u001b[0m\u001b[1;33m)\u001b[0m\u001b[1;33m\u001b[0m\u001b[1;33m\u001b[0m\u001b[0m\n\u001b[1;32m----> 2\u001b[1;33m \u001b[0mage\u001b[0m \u001b[1;33m>=\u001b[0m \u001b[1;36m35\u001b[0m\u001b[1;33m\u001b[0m\u001b[1;33m\u001b[0m\u001b[0m\n\u001b[0m\u001b[0;32m      3\u001b[0m \u001b[0mprint\u001b[0m\u001b[1;33m(\u001b[0m\u001b[0mage\u001b[0m\u001b[1;33m)\u001b[0m \u001b[1;31m#this shows why we need to convert\u001b[0m\u001b[1;33m\u001b[0m\u001b[1;33m\u001b[0m\u001b[0m\n",
      "\u001b[1;31mTypeError\u001b[0m: '>=' not supported between instances of 'str' and 'int'"
     ]
    }
   ],
   "source": [
    "age = input(\"How old are you? \")\n",
    "age >= 35\n",
    "print(age) #this shows why we need to convert"
   ]
  },
  {
   "cell_type": "code",
   "execution_count": 5,
   "metadata": {},
   "outputs": [
    {
     "name": "stdout",
     "output_type": "stream",
     "text": [
      "How old are you? 45\n"
     ]
    },
    {
     "data": {
      "text/plain": [
       "True"
      ]
     },
     "execution_count": 5,
     "metadata": {},
     "output_type": "execute_result"
    }
   ],
   "source": [
    "age = input(\"How old are you? \")\n",
    "age = int(age)\n",
    "age >= 24"
   ]
  },
  {
   "cell_type": "code",
   "execution_count": 7,
   "metadata": {},
   "outputs": [
    {
     "name": "stdout",
     "output_type": "stream",
     "text": [
      "How tall are you, in inches? 43\n",
      "\n",
      "you're tall enough to compete!\n"
     ]
    }
   ],
   "source": [
    "#using int function with input function\n",
    "#let's say we want to determine the height to be used for our players standard role acceptance\n",
    "\n",
    "height = input(\"How tall are you, in inches? \")\n",
    "height = int(height)\n",
    "\n",
    "if height >= 34:\n",
    "    print(\"\\nyou're tall enough to compete!\")\n",
    "else:\n",
    "    print(\"\\nwe can not accept you in this competition\")"
   ]
  },
  {
   "cell_type": "code",
   "execution_count": 8,
   "metadata": {},
   "outputs": [
    {
     "name": "stdout",
     "output_type": "stream",
     "text": [
      "1\n",
      "2\n"
     ]
    }
   ],
   "source": [
    "#Modulo Operator, is a userful tool for working with numerical information (%)\n",
    "#it divides one number by another, and returns the remainder\n",
    "\n",
    "print(4 % 3)\n",
    "print(8 % 3)\n",
    "\n",
    "#this is a perfect operator to use in determining if we are dealing with an even or odd number"
   ]
  },
  {
   "cell_type": "code",
   "execution_count": 9,
   "metadata": {},
   "outputs": [
    {
     "name": "stdout",
     "output_type": "stream",
     "text": [
      "Enter a number and i will guess if it is an even or odd number 42\n",
      "\n",
      "we are good to go, 42 is an even number\n"
     ]
    }
   ],
   "source": [
    "#lets use it for our number check\n",
    "\n",
    "number_check = input(\"Enter a number and i will guess if it is an even or odd number \")\n",
    "number_check = int(number_check)\n",
    "\n",
    "if number_check % 2 == 0:\n",
    "    print(\"\\nwe are good to go, \" + str(number_check) + \" is an even number\")\n",
    "else:\n",
    "    print(\"\\nwe are good to go, \" + str(number_check) + \" is an odd number\")"
   ]
  },
  {
   "cell_type": "code",
   "execution_count": 10,
   "metadata": {},
   "outputs": [
    {
     "name": "stdout",
     "output_type": "stream",
     "text": [
      "what type of car do you want sir? audi\n",
      "\n",
      "let me see if i can find you Audi\n"
     ]
    }
   ],
   "source": [
    "rental_car = input(\"what type of car do you want sir? \")\n",
    "print(\"\\nlet me see if i can find you \" + rental_car.title())"
   ]
  },
  {
   "cell_type": "code",
   "execution_count": 11,
   "metadata": {},
   "outputs": [
    {
     "name": "stdout",
     "output_type": "stream",
     "text": [
      "How many people all together sir? 8\n",
      "\n",
      "Sir, you will have to wait for a table\n"
     ]
    }
   ],
   "source": [
    "#lets check out for our dinner night invitation setting\n",
    "dinner_night = input(\"How many people all together sir? \")\n",
    "dinner_night = int(dinner_night)\n",
    "\n",
    "if dinner_night >= 8:\n",
    "    print(\"\\nSir, you will have to wait for a table\")\n",
    "else:\n",
    "    print(\"\\nSir, your table is ready\")"
   ]
  },
  {
   "cell_type": "code",
   "execution_count": 14,
   "metadata": {},
   "outputs": [
    {
     "name": "stdout",
     "output_type": "stream",
     "text": [
      "Enter your number 45\n",
      "45 is not a multiple of 10\n"
     ]
    }
   ],
   "source": [
    "#getting the multiples of 10\n",
    "mutiples_10 = input(\"Enter your number \")\n",
    "mutiples_10 = int(mutiples_10)\n",
    "\n",
    "if mutiples_10 % 10 == 0:\n",
    "    print(str(mutiples_10) + \" is a multiple of 10 number \")\n",
    "else:\n",
    "    print(str(mutiples_10) + \" is not a multiple of 10\")"
   ]
  },
  {
   "cell_type": "markdown",
   "metadata": {},
   "source": [
    "### While Loops"
   ]
  },
  {
   "cell_type": "markdown",
   "metadata": {},
   "source": [
    "Remember that the for loops takes a collection of items and executes a block of code once for each item in the collection\n",
    "\n",
    "The while loop, which is different runs as long as, or while a certain condition is true\n",
    "\n"
   ]
  },
  {
   "cell_type": "code",
   "execution_count": 16,
   "metadata": {},
   "outputs": [
    {
     "name": "stdout",
     "output_type": "stream",
     "text": [
      "0\n",
      "1\n",
      "2\n",
      "3\n",
      "4\n",
      "5\n"
     ]
    }
   ],
   "source": [
    "#using a while loop to count up to series of number\n",
    "#let's use while loop to count up to 5\n",
    "\n",
    "current_num = 0\n",
    "while current_num  <= 5: #our program keeps on running till the value 5 is met\n",
    "    print(current_num)\n",
    "    current_num += 1"
   ]
  },
  {
   "cell_type": "code",
   "execution_count": 20,
   "metadata": {},
   "outputs": [
    {
     "name": "stdout",
     "output_type": "stream",
     "text": [
      "\n",
      "Tell me anything, i will repeat it exaclty to you: \n",
      "Enter 'quit' to end the program. ed\n",
      "ed\n",
      "\n",
      "Tell me anything, i will repeat it exaclty to you: \n",
      "Enter 'quit' to end the program. quit\n",
      "quit\n"
     ]
    }
   ],
   "source": [
    "#letting the user choose when to quit\n",
    "\n",
    "prompt = \"\\nTell me anything, i will repeat it exaclty to you: \"\n",
    "prompt += \"\\nEnter 'quit' to end the program. \"\n",
    "\n",
    "message = \" \"\n",
    "while message != 'quit':\n",
    "    message = input(prompt)\n",
    "    print(message)"
   ]
  },
  {
   "cell_type": "code",
   "execution_count": 21,
   "metadata": {},
   "outputs": [
    {
     "name": "stdout",
     "output_type": "stream",
     "text": [
      "\n",
      "Tell me anything, i will repeat it exaclty to you: \n",
      "Enter 'quit' to end the program. esd\n",
      "esd\n",
      "\n",
      "Tell me anything, i will repeat it exaclty to you: \n",
      "Enter 'quit' to end the program. quit\n"
     ]
    }
   ],
   "source": [
    "#letting the user choose when to quit\n",
    "#introducing the if statement\n",
    "\n",
    "prompt = \"\\nTell me anything, i will repeat it exaclty to you: \"\n",
    "prompt += \"\\nEnter 'quit' to end the program. \"\n",
    "\n",
    "message = \" \"\n",
    "while message != 'quit':\n",
    "    message = input(prompt)\n",
    "    \n",
    "    if message != 'quit':\n",
    "        print(message)"
   ]
  },
  {
   "cell_type": "markdown",
   "metadata": {},
   "source": [
    "### Using a flag"
   ]
  },
  {
   "cell_type": "markdown",
   "metadata": {},
   "source": [
    "sometimes running a program that captures all possibilites with a while loop is very stressful. you'll have to introduce the flag.\n",
    "\n",
    "in this case, you might have to define a variable that should run as long as many conditions are true, this will help determine if the entire program is active.\n",
    "\n",
    "The variable called a flag acts as a singnal to the program."
   ]
  },
  {
   "cell_type": "code",
   "execution_count": 1,
   "metadata": {},
   "outputs": [
    {
     "name": "stdout",
     "output_type": "stream",
     "text": [
      "\n",
      "Tell me anything, i will repeat it exaclty to you: \n",
      "Enter 'quit' to end the program. kell\n",
      "kell\n",
      "\n",
      "Tell me anything, i will repeat it exaclty to you: \n",
      "Enter 'quit' to end the program. quit\n"
     ]
    }
   ],
   "source": [
    "#letting the user choose when to quit\n",
    "#introducing the if statement\n",
    "#we will add a flag here\n",
    "\n",
    "prompt = \"\\nTell me anything, i will repeat it exaclty to you: \"\n",
    "prompt += \"\\nEnter 'quit' to end the program. \"\n",
    "\n",
    "active = True #setting our flag\n",
    "while active:\n",
    "    message = input(prompt)\n",
    "    \n",
    "    if message == 'quit':\n",
    "        active =  False\n",
    "    else:    \n",
    "        print(message)\n",
    "        "
   ]
  },
  {
   "cell_type": "markdown",
   "metadata": {},
   "source": [
    "### using a break to exit a loop\n",
    "\n"
   ]
  },
  {
   "cell_type": "markdown",
   "metadata": {},
   "source": [
    "to exit a while loop immediately without running any remaining code in the loop without considereing the result of the conditional statement, we use the break statement.\n",
    "\n",
    "we use it to direct the line of our program and specify which should be carried out and which should't\n",
    "\n"
   ]
  },
  {
   "cell_type": "code",
   "execution_count": 2,
   "metadata": {},
   "outputs": [
    {
     "name": "stdout",
     "output_type": "stream",
     "text": [
      "\n",
      "Please enter the name of a city you have been to:\n",
      "(Enter 'quit' when you are finished.)aba\n",
      "I'd love to go to to Aba!\n",
      "\n",
      "Please enter the name of a city you have been to:\n",
      "(Enter 'quit' when you are finished.)ikeja\n",
      "I'd love to go to to Ikeja!\n",
      "\n",
      "Please enter the name of a city you have been to:\n",
      "(Enter 'quit' when you are finished.)yaba\n",
      "I'd love to go to to Yaba!\n",
      "\n",
      "Please enter the name of a city you have been to:\n",
      "(Enter 'quit' when you are finished.)quit\n"
     ]
    }
   ],
   "source": [
    "#using while loop\n",
    "\n",
    "visited = \"\\nPlease enter the name of a city you have been to:\"\n",
    "visited += \"\\n(Enter 'quit' when you are finished.)\"\n",
    "\n",
    "#a loop startng with true, will run unless it reaches a break statement\n",
    "while True:\n",
    "    city = input(visited)\n",
    "    \n",
    "    #when the enter quit, the break statement is executed\n",
    "    if city == 'quit':\n",
    "        break\n",
    "    else:\n",
    "        print(\"I'd love to go to to \" + city.title() + \"!\")\n"
   ]
  },
  {
   "cell_type": "markdown",
   "metadata": {},
   "source": [
    "### Using Continue in a loop\n",
    "\n"
   ]
  },
  {
   "cell_type": "markdown",
   "metadata": {},
   "source": [
    "sometimes, we wont want to breal out from our loop entirely without executing the rest of its code. we use the continue statement to acheive this i.e to return to the beginning of the loop based on the result of the conditional test."
   ]
  },
  {
   "cell_type": "code",
   "execution_count": 11,
   "metadata": {},
   "outputs": [
    {
     "name": "stdout",
     "output_type": "stream",
     "text": [
      "1\n",
      "3\n",
      "5\n",
      "7\n",
      "9\n"
     ]
    }
   ],
   "source": [
    "#getting the old numbers in the range of 10\n",
    "current_num = 0\n",
    "while current_num < 10:\n",
    "    current_num += 1\n",
    "    if current_num % 2 == 0:\n",
    "        continue\n",
    "    print(current_num)\n",
    "    "
   ]
  },
  {
   "cell_type": "code",
   "execution_count": 15,
   "metadata": {},
   "outputs": [
    {
     "name": "stdout",
     "output_type": "stream",
     "text": [
      "1\n",
      "2\n",
      "3\n",
      "4\n",
      "5\n"
     ]
    }
   ],
   "source": [
    "#avoiding infinite loops\n",
    "\n",
    "x = 1\n",
    "while x <= 5:\n",
    "    print(x)\n",
    "    x += 1"
   ]
  },
  {
   "cell_type": "code",
   "execution_count": 1,
   "metadata": {},
   "outputs": [
    {
     "name": "stdout",
     "output_type": "stream",
     "text": [
      "1\n",
      "2\n",
      "3\n",
      "4\n",
      "5\n"
     ]
    }
   ],
   "source": [
    "x = 1\n",
    "while x <= 5:\n",
    "    print(x)\n",
    "    x += 1\n",
    "    \n"
   ]
  },
  {
   "cell_type": "code",
   "execution_count": 1,
   "metadata": {},
   "outputs": [
    {
     "name": "stdout",
     "output_type": "stream",
     "text": [
      "\n",
      "Please enter your pizza order:\n",
      "Enter('quit') to stop ordering lao\n",
      "\n",
      "your topping of lao has been added\n",
      "\n",
      "Please enter your pizza order:\n",
      "Enter('quit') to stop ordering quit\n"
     ]
    }
   ],
   "source": [
    "#creating our pizza order list\n",
    "\n",
    "pizza_order = \"\\nPlease enter your pizza order:\"\n",
    "pizza_order += \"\\nEnter('quit') to stop ordering \"\n",
    "\n",
    "order = True\n",
    "while order:\n",
    "    message = input(pizza_order)\n",
    "    \n",
    "    if message == 'quit':\n",
    "        break\n",
    "    else:\n",
    "        print(\"\\nyour topping of \" + message + \" has been added\")"
   ]
  },
  {
   "cell_type": "code",
   "execution_count": null,
   "metadata": {},
   "outputs": [
    {
     "name": "stdout",
     "output_type": "stream",
     "text": [
      "\n",
      "Please enter you age here:2\n",
      "\n",
      "your ticket is free\n",
      "\n",
      "Please enter you age here:3\n",
      "\n",
      "your price is $10\n",
      "\n",
      "Please enter you age here:4\n",
      "\n",
      "your price is $10\n",
      "\n",
      "Please enter you age here:67\n",
      "\n",
      "your price is $15\n",
      "\n",
      "Please enter you age here:43\n",
      "\n",
      "your price is $15\n",
      "\n",
      "Please enter you age here:23\n",
      "\n",
      "your price is $15\n"
     ]
    }
   ],
   "source": [
    "#movie ticket charges based on age\n",
    "age = \"\\nPlease enter you age here:\"\n",
    "active = True\n",
    "while active:\n",
    "    message = int(input(age))\n",
    "    \n",
    "    if message < 3:\n",
    "        print(\"\\nyour ticket is free\")\n",
    "    elif message >=3 and message <= 12:\n",
    "        print(\"\\nyour price is $10\")\n",
    "    else:\n",
    "        print(\"\\nyour price is $15\")\n"
   ]
  },
  {
   "cell_type": "markdown",
   "metadata": {},
   "source": [
    "#### using a while loop in a list. \n",
    "\n",
    "using a while loop in a list allows you to collect, store and organize a lots of input to examine and report them \n",
    "later\n",
    "\n",
    "\n"
   ]
  },
  {
   "cell_type": "code",
   "execution_count": 1,
   "metadata": {},
   "outputs": [
    {
     "name": "stdout",
     "output_type": "stream",
     "text": [
      "Verifying user: Joy\n",
      "Verifying user: Ada\n",
      "Verifying user: Mekus\n",
      "\n",
      "The following users have been confirmed:\n",
      "Joy\n",
      "Ada\n",
      "Mekus\n"
     ]
    }
   ],
   "source": [
    "#lets start with storing user information in a website\n",
    "\n",
    "unconfirmed_users = ['mekus', 'ada', 'joy']\n",
    "confirmed_users = []\n",
    "\n",
    "#verify each user until there are no more unconfirmed users\n",
    "#move each to the verififed_user\n",
    "while unconfirmed_users:\n",
    "    current_user = unconfirmed_users.pop() #the pop function removes unverified users one at a time from end of the unconfirmed_users\n",
    "    print(\"Verifying user: \" + current_user.title())\n",
    "    confirmed_users.append(current_user)\n",
    "#display all confirmed users\n",
    "print(\"\\nThe following users have been confirmed:\")\n",
    "for users in confirmed_users:\n",
    "    print(users.title())"
   ]
  },
  {
   "cell_type": "code",
   "execution_count": 8,
   "metadata": {},
   "outputs": [
    {
     "name": "stdout",
     "output_type": "stream",
     "text": [
      "['dog', 'cat', 'pig', 'lion', 'dog', 'cat', 'pig', 'lion']\n",
      "['dog', 'pig', 'lion', 'dog', 'pig', 'lion']\n"
     ]
    }
   ],
   "source": [
    "#removing all instances of specific values from a list\n",
    "\n",
    "animals = ['dog', 'cat', 'pig', 'lion', 'dog', 'cat', 'pig', 'lion']\n",
    "print(animals)\n",
    "\n",
    "while 'cat' in animals:\n",
    "    animals.remove('cat')\n",
    "print(animals)"
   ]
  },
  {
   "cell_type": "code",
   "execution_count": 9,
   "metadata": {},
   "outputs": [
    {
     "name": "stdout",
     "output_type": "stream",
     "text": [
      "\n",
      "what is your name? kelvin\n",
      "which city do you want to vivst now? new york\n",
      "Would you like to let another person respond? (yes/ no) no\n",
      "\n",
      "--- Poll Results ---\n",
      "Kelvin Would like to go to New York\n"
     ]
    }
   ],
   "source": [
    "# filling a dictionary with user input\n",
    "# let us collect a pool made by responders to store them\n",
    "\n",
    "responses = {}\n",
    "polling_active = True\n",
    "\n",
    "#set a flag to indicate that polling is active\n",
    "while polling_active:\n",
    "    #prompt for the persons name and responses\n",
    "    name = input(\"\\nwhat is your name? \")\n",
    "    response = input(\"which city do you want to vivst now? \")\n",
    "    \n",
    "    #let us store our respponses in a dictionary\n",
    "    responses[name] = response\n",
    "    \n",
    "    #find out if anyone else is interested in the pool\n",
    "    repeat = input(\"Would you like to let another person respond? (yes/ no) \")\n",
    "    if repeat == 'no':\n",
    "        polling_active = False\n",
    "        \n",
    "#polling is complete. show the results\n",
    "print(\"\\n--- Poll Results ---\")\n",
    "for name, response in responses.items():\n",
    "    print(name.title() + \" Would like to go to \" + response.title())"
   ]
  },
  {
   "cell_type": "code",
   "execution_count": 14,
   "metadata": {},
   "outputs": [
    {
     "name": "stdout",
     "output_type": "stream",
     "text": [
      "\n",
      "I will make your Indomie order available soon\n",
      "\n",
      "I will make your Rice order available soon\n",
      "\n",
      "I will make your Beans order available soon\n",
      "\n",
      "I will make your Ukwa order available soon\n",
      "\n",
      "I will make your Akara order available soon\n",
      "\n",
      "please find below your distinguished orders\n",
      "\n",
      "Indomie\n",
      "\n",
      "Rice\n",
      "\n",
      "Beans\n",
      "\n",
      "Ukwa\n",
      "\n",
      "Akara\n",
      "\n",
      "I hope you enjoy your meal soon\n"
     ]
    }
   ],
   "source": [
    "#let us recreate this with sandwich order\n",
    "\n",
    "sandwich_orders = ['akara','ukwa','beans','rice','indomie']\n",
    "finished_sandwich = []\n",
    "\n",
    "while sandwich_orders:\n",
    "    pre_order = sandwich_orders.pop()\n",
    "    print(\"\\nI will make your \" + pre_order.title() + \" order available soon\")\n",
    "    finished_sandwich.append(pre_order)\n",
    "\n",
    "#printing all our ordered items\n",
    "print(\"\\nplease find below your distinguished orders\")\n",
    "for order in finished_sandwich:\n",
    "    print(\"\\n\" + order.title())\n",
    "print(\"\\nI hope you enjoy your meal soon\")\n",
    "    "
   ]
  },
  {
   "cell_type": "code",
   "execution_count": 15,
   "metadata": {},
   "outputs": [
    {
     "name": "stdout",
     "output_type": "stream",
     "text": [
      "['ukwa', 'beans', 'rice', 'indomie']\n"
     ]
    }
   ],
   "source": [
    "sandwich_orders = ['akara','akara','akara','akara','ukwa','beans','rice','indomie']\n",
    "\n",
    "while 'akara' in sandwich_orders:\n",
    "    sandwich_orders.remove('akara')\n",
    "print(sandwich_orders)"
   ]
  },
  {
   "cell_type": "code",
   "execution_count": 16,
   "metadata": {},
   "outputs": [
    {
     "name": "stdout",
     "output_type": "stream",
     "text": [
      "\n",
      "Please what is your name? kelvin\n",
      "what city would you like to visit now? ikeja\n",
      "\n",
      "Would you like to take another pool? Enter (yes/no)yes\n",
      "\n",
      "Please what is your name? calistus\n",
      "what city would you like to visit now? udoka\n",
      "\n",
      "Would you like to take another pool? Enter (yes/no)no\n",
      "\n",
      "---poll result---\n",
      "Kelvin will be at Ikeja next\n",
      "Calistus will be at Udoka next\n"
     ]
    }
   ],
   "source": [
    "#write a program that pools  users about their dream vocation\n",
    "\n",
    "user_responses = {}\n",
    "polling_active = True\n",
    "\n",
    "while polling_active:\n",
    "    name = input(\"\\nPlease what is your name? \")\n",
    "    response = input(\"what city would you like to visit now? \")\n",
    "    \n",
    "    #collecting and storing as a dictionary\n",
    "    user_responses[name] = response\n",
    "    \n",
    "    #repeating the poll\n",
    "    repeat = input(\"\\nWould you like to take another pool? Enter (yes/no)\")\n",
    "    if repeat == 'no':\n",
    "        polling_active = False\n",
    "        \n",
    "print(\"\\n---poll result---\")\n",
    "for name, response in user_responses.items():\n",
    "    print(name.title() + \" will be at \" + response.title() + \" next\")"
   ]
  },
  {
   "cell_type": "code",
   "execution_count": null,
   "metadata": {},
   "outputs": [],
   "source": []
  }
 ],
 "metadata": {
  "kernelspec": {
   "display_name": "Python 3",
   "language": "python",
   "name": "python3"
  },
  "language_info": {
   "codemirror_mode": {
    "name": "ipython",
    "version": 3
   },
   "file_extension": ".py",
   "mimetype": "text/x-python",
   "name": "python",
   "nbconvert_exporter": "python",
   "pygments_lexer": "ipython3",
   "version": "3.7.7"
  }
 },
 "nbformat": 4,
 "nbformat_minor": 4
}
