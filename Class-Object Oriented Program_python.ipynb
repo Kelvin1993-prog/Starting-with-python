{
 "cells": [
  {
   "cell_type": "markdown",
   "metadata": {},
   "source": [
    "### CLASSES"
   ]
  },
  {
   "cell_type": "code",
   "execution_count": 51,
   "metadata": {},
   "outputs": [],
   "source": [
    "#Creating and using a class\n",
    "#let's create a cat class\n",
    "\n",
    "#NB each class created from the cat class will store a name and age \n",
    "#and we will give each cat the ability to sit() and roll()\n",
    "\n",
    "class Cat():\n",
    "    \"\"\"A simple illustration to model a cat\"\"\"\n",
    "    def __init__(self, name, age):\n",
    "        \"\"\"Initialize name and age of cat\"\"\"\n",
    "        self.name = name\n",
    "        self.age = age\n",
    "    \n",
    "    def sit(self):\n",
    "        \"\"\"Simulate a cat sitting in response to bright light \"\"\"\n",
    "        print(self.name.title()+ \" is now sitting\")\n",
    "    \n",
    "    def roll_over(self):\n",
    "        \"\"\"Simulate rolling over in response to a command\"\"\"\n",
    "        print(self.name.title() + \" rolled over!\")\n",
    "        \n",
    "\n"
   ]
  },
  {
   "cell_type": "markdown",
   "metadata": {},
   "source": [
    "1) You might be getting confused now, we first created a class called Cat() which is empty because we are creating from the start. After that, we had a docstring, explainig what our class should do. It should model a cat. So we had to fed this class a meaning by initiating instances. \n",
    "\n",
    "2) The __init__() method. A function that is part of a class is known as method. we used the __init__ () method so that python can automatically create a new instance based on the Cat class. notice that we passed in self first.it is required for the class to have access to its instances. We passed two arguments, name and age, which takes on the instance of self. The name argument, assigns the self instance to a variable called names, so that it can belong to the class Cat. The same with the age. The other methods defined doesnt do much other than define what the self is doing, either sitting or rolling.\n",
    "\n",
    "#### Making an instance from a class\n",
    "\n",
    "let us think of a class as a set of instructions for how to make an instance for example, the defined class cat, is an instruction that tells python how to make individual instances represnting specific cats.\n",
    "\n",
    "Let us make an instance of a specific cat"
   ]
  },
  {
   "cell_type": "code",
   "execution_count": 52,
   "metadata": {},
   "outputs": [
    {
     "name": "stdout",
     "output_type": "stream",
     "text": [
      "My cat's name is Spenzy\n",
      "My cat is 4 years old\n"
     ]
    }
   ],
   "source": [
    "#making an instance from a class\n",
    "my_cat = Cat('spenzy', 4)\n",
    "print(\"My cat's name is \" + my_cat.name.title())\n",
    "print(\"My cat is \" + str(my_cat.age) + \" years old\")"
   ]
  },
  {
   "cell_type": "markdown",
   "metadata": {},
   "source": [
    "#### Accessing Attributes\n",
    "\n",
    "To access an attributes of an instance, we use dot notation. It demonstrates how python finds as attributes value. From our example, python looks at an instance called my_cat, and looks for the attibute with the help of dot notation. The notation leads it to the attribute name and age respectively, i.e my_cat(instance).name(attribute) and my_cat.age(attribute)\n",
    "\n",
    "\n",
    "#### Calling methods\n",
    "\n",
    "After we create an instance from the class Cat, we can use dot notation to call any method defined in the class Cat.  Now let us make our cat sit and roll over"
   ]
  },
  {
   "cell_type": "code",
   "execution_count": 53,
   "metadata": {},
   "outputs": [
    {
     "name": "stdout",
     "output_type": "stream",
     "text": [
      "Spenzy is now sitting\n",
      "Spenzy rolled over!\n"
     ]
    }
   ],
   "source": [
    "my_cat.sit()\n",
    "my_cat.roll_over()"
   ]
  },
  {
   "cell_type": "code",
   "execution_count": 57,
   "metadata": {},
   "outputs": [
    {
     "name": "stdout",
     "output_type": "stream",
     "text": [
      "My cat's name is Willi\n",
      "My cat's age is 7 yearls old\n",
      "Willi is now sitting\n",
      "\n",
      "Johny's cat name is Johny\n",
      "johny's cat age is 4 years old\n",
      "Johny is now sitting\n"
     ]
    }
   ],
   "source": [
    "#creating multiple instances i.e creating different cats\n",
    "\n",
    "willi_cat = Cat('willi', 7)\n",
    "johny_cat = Cat('johny', 4)\n",
    "\n",
    "print(\"My cat's name is \" + willi_cat.name.title())\n",
    "print(\"My cat's age is \" + str(willi_cat.age) + \" yearls old\")\n",
    "willi_cat.sit()\n",
    "\n",
    "print(\"\\nJohny's cat name is \" + johny_cat.name.title())\n",
    "print(\"johny's cat age is \" + str(johny_cat.age) + \" years old\")\n",
    "johny_cat.sit()"
   ]
  },
  {
   "cell_type": "markdown",
   "metadata": {},
   "source": [
    "In the example above, we modeled different cats, Johny and Willi which serves as the different instances with its own specific set of attributes, capable of the same set of actions"
   ]
  },
  {
   "cell_type": "code",
   "execution_count": 15,
   "metadata": {},
   "outputs": [],
   "source": [
    "#let us make a resturant class.\n",
    "\n",
    "class Restaurant():\n",
    "    \"\"\"Displays informaton about the resturant functions\"\"\"\n",
    "    def __init__(self, restaurant_name, cuisine_type):\n",
    "        \"\"\"Initializes resturant name and cuisine type\"\"\"\n",
    "        self.restaurant_name = restaurant_name\n",
    "        self.cuisine_type = cuisine_type\n",
    "    #making the description method \n",
    "    def describe_restaurant(self):\n",
    "        \"\"\"prints informations\"\"\"\n",
    "        print(\"Welcome to \" + self.restaurant_name.title() + \" quality resturant\")\n",
    "        print(\"We are happy to have you here! and to serve you your \" + self.cuisine_type.title())\n",
    "    def open_restaurant(self):\n",
    "        \"\"\"shows working hours\"\"\"\n",
    "        print(\"We are currently opened for orders!\\n\")\n",
    "        \n",
    "        \n",
    "    \n",
    "    "
   ]
  },
  {
   "cell_type": "code",
   "execution_count": 19,
   "metadata": {},
   "outputs": [
    {
     "name": "stdout",
     "output_type": "stream",
     "text": [
      "I am going to Belvo restaurant\n",
      "i hope to eat Fried rice over there\n"
     ]
    }
   ],
   "source": [
    "#making an instance\n",
    "restaurant = Restaurant('Belvo', 'Fried rice')\n",
    "# print(restaurant.describe_resturant())\n",
    "print(\"I am going to \" + restaurant.restaurant_name.title() + \" restaurant\")\n",
    "print(\"i hope to eat \" + restaurant.cuisine_type + \" over there\")\n",
    "\n"
   ]
  },
  {
   "cell_type": "code",
   "execution_count": 97,
   "metadata": {},
   "outputs": [
    {
     "name": "stdout",
     "output_type": "stream",
     "text": [
      "Welcome to Belvo quality resturant\n",
      "We are happy to have you here! and to serve you your Fried Rice\n",
      "We are currently opened for orders!\n",
      "\n",
      "Welcome to Domino quality resturant\n",
      "We are happy to have you here! and to serve you your Shawama\n",
      "We are currently opened for orders!\n",
      "\n",
      "Welcome to Mr Biggs quality resturant\n",
      "We are happy to have you here! and to serve you your Cake\n",
      "We are currently opened for orders!\n",
      "\n"
     ]
    }
   ],
   "source": [
    "restaurant = Restaurant('Belvo', 'Fried rice')\n",
    "restaurant2 = Restaurant(\"domino\", 'shawama')\n",
    "restaurant3 = Restaurant('mr biggs', 'cake')\n",
    "restaurant.describe_restaurant()\n",
    "restaurant.open_restaurant()\n",
    "\n",
    "restaurant2.describe_restaurant()\n",
    "restaurant2.open_restaurant()\n",
    "\n",
    "restaurant3.describe_restaurant()\n",
    "restaurant3.open_restaurant()\n",
    "\n"
   ]
  },
  {
   "cell_type": "code",
   "execution_count": 45,
   "metadata": {},
   "outputs": [],
   "source": [
    "\n",
    "class User():\n",
    "    \"\"\"Displays users info\"\"\"\n",
    "    def __init__(self, first_name, last_name, password, location):\n",
    "        \"\"\"Initializing users profile\"\"\"\n",
    "        self.first_name = first_name\n",
    "        self.last_name = last_name\n",
    "        self.password = password\n",
    "        self.location = location\n",
    "        \n",
    "    def describe_user(self):\n",
    "        \"\"\"prints users summary\"\"\"\n",
    "        print(\"users profile \" + self.first_name.title() + ' '+ self.last_name.title() + ' ' + str(self.password) + ' '+ str(self.location))\n",
    "        print(\"\\n Hello \" + self.first_name + \" you're welcome!\")\n"
   ]
  },
  {
   "cell_type": "code",
   "execution_count": 46,
   "metadata": {},
   "outputs": [
    {
     "name": "stdout",
     "output_type": "stream",
     "text": [
      "User1 profile summary as emeka nwafor 29id9 Abuja\n"
     ]
    }
   ],
   "source": [
    "user1 = User('emeka', 'nwafor','29id9','Abuja')\n",
    "print(\"User1 profile summary as \" + user1.first_name + ' ' + user1.last_name\n",
    "     + ' ' + user1.password + ' '+ user1.location)"
   ]
  },
  {
   "cell_type": "code",
   "execution_count": 143,
   "metadata": {},
   "outputs": [
    {
     "name": "stdout",
     "output_type": "stream",
     "text": [
      "users profile Emeka Nwafor 29id9 Abuja\n",
      "\n",
      " Hello emeka you're welcome!\n"
     ]
    }
   ],
   "source": [
    "user1.describe_user()"
   ]
  },
  {
   "cell_type": "code",
   "execution_count": 144,
   "metadata": {},
   "outputs": [
    {
     "name": "stdout",
     "output_type": "stream",
     "text": [
      "users profile John Nwprie 29e9 Abuja\n",
      "\n",
      " Hello john you're welcome!\n"
     ]
    }
   ],
   "source": [
    "user2 = User('john', 'nwprie','29e9','Abuja')\n",
    "user2.describe_user()"
   ]
  },
  {
   "cell_type": "markdown",
   "metadata": {},
   "source": [
    "### Working With Classes and instances"
   ]
  },
  {
   "cell_type": "markdown",
   "metadata": {},
   "source": [
    "classes can be used to represent many real world scenarios. once we create a class, we will spend most of our time, working with instances created in the class. one of our task is to modify the attributes associated with an instance. Attrubutes can be modified directly or through created methods that update each attributes in the class."
   ]
  },
  {
   "cell_type": "code",
   "execution_count": 13,
   "metadata": {},
   "outputs": [
    {
     "name": "stdout",
     "output_type": "stream",
     "text": [
      "2017 Audi Beast\n"
     ]
    }
   ],
   "source": [
    "# let us create a class car\n",
    "# it will store the information about the kind of car we are working with\n",
    "# and it will have a method that summarizes this information\n",
    "\n",
    "class Car():\n",
    "    \"\"\"Summarizes the information regarding cars\"\"\"\n",
    "    \n",
    "    def __init__(self, make, model, year):\n",
    "        \"\"\"initializes attributes to describe car features\"\"\"\n",
    "        self.make = make\n",
    "        self.model = model\n",
    "        self.year = year\n",
    "    \n",
    "    def get_descriptive(self):\n",
    "        \"\"\"Return a neatly formatted descriptive name\"\"\"\n",
    "        long_name = str(self.year) + ' ' + self.make + ' ' + self.model\n",
    "        return long_name.title()\n",
    "    \n",
    "my_new_car = Car('audi', 'beast', 2017)\n",
    "print(my_new_car.get_descriptive())"
   ]
  },
  {
   "cell_type": "code",
   "execution_count": 1,
   "metadata": {},
   "outputs": [
    {
     "name": "stdout",
     "output_type": "stream",
     "text": [
      "2017 Audi Beast\n",
      "This car has 0 mile's on it\n",
      "None\n"
     ]
    }
   ],
   "source": [
    "#lets make the car more attractive by storing the car mileage\n",
    "\n",
    "class Car():\n",
    "    \"\"\"Summarizes the information regarding cars\"\"\"\n",
    "    \n",
    "    def __init__(self, make, model, year):\n",
    "        \"\"\"initializes attributes to describe car features\"\"\"\n",
    "        self.make = make\n",
    "        self.model = model\n",
    "        self.year = year\n",
    "        self.odomoter_reading = 0\n",
    "    \n",
    "    def get_descriptive(self):\n",
    "        \"\"\"Return a neatly formatted descriptive name\"\"\"\n",
    "        long_name = str(self.year) + ' ' + self.make + ' ' + self.model\n",
    "        return long_name.title()\n",
    "    \n",
    "    def read_odometer(self):\n",
    "        \"\"\"Prints a statement showing the car's mileage\"\"\"\n",
    "        print(\"This car has \" + str(self.odomoter_reading) + \" mile's on it\")\n",
    "    \n",
    "    def update_odometer(self, mileage):\n",
    "        \"\"\"\n",
    "        Updates the current value of odometer reading.\n",
    "        Set the odometer reading to a given value and reject \n",
    "        change if attempts are made to roll odometer back\n",
    "        \"\"\"\n",
    "        if mileage >= self.odomoter_reading:\n",
    "            self.odomoter_reading = mileage\n",
    "        else:\n",
    "            print(\"You can't roll back an odometer!\")\n",
    "    \n",
    "    def increment_odometer(self, miles):\n",
    "        \"\"\"\n",
    "        Add a given amount to the odometer readings\n",
    "        \"\"\"\n",
    "        self.odomoter_reading += miles\n",
    "        \n",
    "my_new_car = Car('audi','beast', 2017)\n",
    "print(my_new_car.get_descriptive())\n",
    "print(my_new_car.read_odometer())\n",
    "        \n",
    "    "
   ]
  },
  {
   "cell_type": "markdown",
   "metadata": {},
   "source": [
    "### modifying Attributes Values\n"
   ]
  },
  {
   "cell_type": "markdown",
   "metadata": {},
   "source": [
    "An attributes value can be changes in 3 ways\n",
    "\n",
    "a) it can be changed directly through the instance\n",
    "\n",
    "b) set the value through a method\n",
    "\n",
    "c) or increment the value (that is add a certain amount to it)"
   ]
  },
  {
   "cell_type": "code",
   "execution_count": 2,
   "metadata": {},
   "outputs": [
    {
     "name": "stdout",
     "output_type": "stream",
     "text": [
      "2017 Audi Beast\n",
      "This car has 30 mile's on it\n"
     ]
    }
   ],
   "source": [
    "# the easiest way is to access the attribute directly through an instance\n",
    "\n",
    "# setting the odmeter_reading to 30\n",
    "my_new_car = Car('audi', 'beast', 2017)\n",
    "print(my_new_car.get_descriptive())\n",
    "my_new_car.odomoter_reading = 30\n",
    "my_new_car.read_odometer()"
   ]
  },
  {
   "cell_type": "code",
   "execution_count": 3,
   "metadata": {},
   "outputs": [
    {
     "name": "stdout",
     "output_type": "stream",
     "text": [
      "2017 Audi Beast\n",
      "This car has 30 mile's on it\n"
     ]
    }
   ],
   "source": [
    "# the second option is to have a method that updates the value\n",
    "# of the odometer_reading\n",
    "\n",
    "my_new_car = Car('audi', 'beast', 2017)\n",
    "print(my_new_car.get_descriptive())\n",
    "\n",
    "my_new_car.update_odometer(30)\n",
    "my_new_car.read_odometer()"
   ]
  },
  {
   "cell_type": "code",
   "execution_count": 4,
   "metadata": {},
   "outputs": [
    {
     "name": "stdout",
     "output_type": "stream",
     "text": [
      "You can't roll back an odometer!\n",
      "This car has 30 mile's on it\n"
     ]
    }
   ],
   "source": [
    "#checking out on our updated version\n",
    "my_new_car.update_odometer(21)\n",
    "my_new_car.read_odometer()"
   ]
  },
  {
   "cell_type": "code",
   "execution_count": 5,
   "metadata": {},
   "outputs": [
    {
     "name": "stdout",
     "output_type": "stream",
     "text": [
      "2018 Benz Okara\n",
      "This car has 22000 mile's on it\n",
      "This car has 22100 mile's on it\n"
     ]
    }
   ],
   "source": [
    "# incrementing an attributes value through a method\n",
    "\n",
    "used_car = Car('benz', 'okara', 2018)\n",
    "print(used_car.get_descriptive())\n",
    "\n",
    "used_car.update_odometer(22000)\n",
    "used_car.read_odometer()\n",
    "\n",
    "used_car.increment_odometer(100)\n",
    "used_car.read_odometer()\n",
    "\n"
   ]
  },
  {
   "cell_type": "code",
   "execution_count": 8,
   "metadata": {},
   "outputs": [
    {
     "name": "stdout",
     "output_type": "stream",
     "text": [
      "This car has 22400 mile's on it\n"
     ]
    }
   ],
   "source": [
    "used_car.increment_odometer(200)\n",
    "used_car.read_odometer()"
   ]
  },
  {
   "cell_type": "code",
   "execution_count": 225,
   "metadata": {},
   "outputs": [],
   "source": [
    "# let us modify our resturant class\n",
    "\n",
    "\n",
    "class Restaurant():\n",
    "    \"\"\"Displays informaton about the resturant functions\"\"\"\n",
    "    \n",
    "    def __init__(self, restaurant_name, cuisine_type):\n",
    "        \"\"\"Initializes resturant name and cuisine type\"\"\"\n",
    "        \n",
    "        self.restaurant_name = restaurant_name\n",
    "        self.cuisine_type = cuisine_type\n",
    "        self.number_served = 0\n",
    "        \n",
    "    #making the description method \n",
    "    def describe_restaurant(self):\n",
    "        \"\"\"prints informations\"\"\"\n",
    "        print(\"Welcome to \" + self.restaurant_name.title() + \" quality resturant\")\n",
    "        print(\"We are happy to have you here! and to serve you your \" + self.cuisine_type.title())\n",
    "    \n",
    "    def open_restaurant(self):\n",
    "        \"\"\"shows working hours\"\"\"\n",
    "        print(\"We are currently opened for orders!\\n\")\n",
    "    \n",
    "    def restaurant(self):\n",
    "            \"\"\"customers seved number\"\"\"\n",
    "            print(\"We have served \" + str(self.number_served) + ' customers so far')\n",
    "    def set_number_served(self, num_served):\n",
    "        \"\"\"prints total customers served\"\"\"\n",
    "        self.number_served = num_served\n",
    "    def increment_num_served(self, numbers_served):\n",
    "        \"\"\"increment the served customers\"\"\"\n",
    "        self.number_served += numbers_served\n",
    "\n",
    "class IceCreamStand(Restaurant):\n",
    "    \"\"\"Displays flavors of icecream\"\"\"\n",
    "    \n",
    "    def __init__(self, restaurant_name, cuisine_type):\n",
    "        \"\"\"\n",
    "        Initializes attribute of a parent class\n",
    "        Then initializes the child class\n",
    "        \"\"\"\n",
    "        super().__init__(restaurant_name, cuisine_type)\n",
    "        self.flavor = ['Chocolate', 'banana', 'pinky', 'rosy']\n",
    "        \n",
    "    def get_flavors(self):\n",
    "        \"\"\"Prints the flavor of icecream ordered\"\"\"\n",
    "        print(\"We have  \", self.flavor, ' Icecreams in our list', 'please select your choice and Enjoy our best')\n",
    "        \n",
    "    \n",
    "    "
   ]
  },
  {
   "cell_type": "code",
   "execution_count": 226,
   "metadata": {},
   "outputs": [
    {
     "name": "stdout",
     "output_type": "stream",
     "text": [
      "Welcome to Domino quality resturant\n",
      "We are happy to have you here! and to serve you your Shawama\n",
      "We are currently opened for orders!\n",
      "\n",
      "We have served 23 customers so far\n",
      "We have   ['Chocolate', 'banana', 'pinky', 'rosy']  Icecreams in our list please select your choice and Enjoy our best\n"
     ]
    }
   ],
   "source": [
    "emeka_cos = IceCreamStand('Domino', 'Shawama')\n",
    "emeka_cos.describe_restaurant()\n",
    "emeka_cos.open_restaurant()\n",
    "emeka_cos.number_served = 5\n",
    "emeka_cos.set_number_served(10)\n",
    "emeka_cos.increment_num_served(13)\n",
    "emeka_cos.restaurant()\n",
    "\n",
    "emeka_cos.get_flavors()"
   ]
  },
  {
   "cell_type": "code",
   "execution_count": 227,
   "metadata": {},
   "outputs": [
    {
     "name": "stdout",
     "output_type": "stream",
     "text": [
      "Welcome to Belvo quality resturant\n",
      "We are happy to have you here! and to serve you your Fried Rice\n",
      "We are currently opened for orders!\n",
      "\n",
      "We have served 30 customers so far\n",
      "We have served 32 customers so far\n",
      "We have served 72 customers so far\n"
     ]
    }
   ],
   "source": [
    "customers = Restaurant('Belvo', 'Fried rice')\n",
    "customers.describe_restaurant()\n",
    "\n",
    "customers.open_restaurant()\n",
    "\n",
    "customers.number_served = 30\n",
    "customers.restaurant()\n",
    "\n",
    "customers.set_number_served(32)\n",
    "customers.restaurant()\n",
    "\n",
    "customers.increment_num_served(40)\n",
    "customers.restaurant()\n",
    "\n"
   ]
  },
  {
   "cell_type": "code",
   "execution_count": 263,
   "metadata": {},
   "outputs": [],
   "source": [
    "# making instances in  the login user attempt\n",
    "\n",
    "\n",
    "\n",
    "class User():\n",
    "    \"\"\"Displays users info\"\"\"\n",
    "    \n",
    "    def __init__(self, first_name, last_name, password, location):\n",
    "        \"\"\"Initializing users profile\"\"\"\n",
    "        self.first_name = first_name\n",
    "        self.last_name = last_name\n",
    "        self.password = password\n",
    "        self.location = location\n",
    "        self.login_attempts = 0\n",
    "        \n",
    "    def describe_user(self):\n",
    "        \"\"\"prints users summary\"\"\"\n",
    "        print(\"users profile \" + self.first_name.title() + ' '+ self.last_name.title() + ' ' + str(self.password) + ' '+ str(self.location).title())\n",
    "        print(\"\\nHello \" + self.first_name + \" you're welcome!\")\n",
    "        print(\"You logged in \", self.login_attempts)\n",
    "        \n",
    "    def login_attempt(self):\n",
    "        \"\"\" increment log in attemps\"\"\"\n",
    "        self.login_attempts += 1\n",
    "    \n",
    "    def reset_login(self):\n",
    "        self.login_attempts = 0\n",
    "        print(\"Successful reset, your new logon is \", self.login_attempts)\n",
    "\n",
    "class Privilege():\n",
    "    \"\"\"Shows the privileges of an Admin\"\"\"\n",
    "    \n",
    "    def __init__(self, privilege=''):\n",
    "        \"\"\"Initializes the privilege list\"\"\"\n",
    "        self.privilege = ['can add a post', 'can delete a post', 'can ban user', 'can shut down a system']\n",
    "    \n",
    "    def show_privileges(self):\n",
    "        \"\"\"shows Admin privileges\"\"\"\n",
    "        \n",
    "        print(\"\\nAs an admin, you have the following rights in,\" \n",
    "              \"the database system \")\n",
    "        for i in self.privilege:\n",
    "            print(i.title())\n",
    "    \n",
    "        \n",
    "class Admin(User):\n",
    "    \"\"\"Displays the privileges of the Admin\"\"\"\n",
    "    def __init__(self,first_name, last_name, password, location):\n",
    "        \"\"\"\n",
    "        Initializes the attribuest of the parent class\n",
    "        Then initiaizes the attribute of the child class\n",
    "        \"\"\"\n",
    "        super().__init__(first_name, last_name, password, location)\n",
    "        self.privilege = Privilege()\n",
    "        \n",
    "    "
   ]
  },
  {
   "cell_type": "code",
   "execution_count": 264,
   "metadata": {},
   "outputs": [
    {
     "name": "stdout",
     "output_type": "stream",
     "text": [
      "users profile Onyia Okpara 13dfwr Uyo\n",
      "\n",
      "Hello onyia you're welcome!\n",
      "You logged in  0\n",
      "\n",
      "As an admin, you have the following rights in,the database system \n",
      "Can Add A Post\n",
      "Can Delete A Post\n",
      "Can Ban User\n",
      "Can Shut Down A System\n"
     ]
    }
   ],
   "source": [
    "Admin_support = Admin('onyia', 'okpara', '13dfwr', 'uyo')\n",
    "Admin_support.describe_user()\n",
    "Admin_support.privilege.show_privileges()"
   ]
  },
  {
   "cell_type": "code",
   "execution_count": 265,
   "metadata": {},
   "outputs": [
    {
     "name": "stdout",
     "output_type": "stream",
     "text": [
      "users profile Emeka Okpara 13dfwr Aba\n",
      "\n",
      "Hello emeka you're welcome!\n",
      "You logged in  0\n"
     ]
    },
    {
     "ename": "AttributeError",
     "evalue": "'Admin' object has no attribute 'show_privileges'",
     "output_type": "error",
     "traceback": [
      "\u001b[1;31m---------------------------------------------------------------------------\u001b[0m",
      "\u001b[1;31mAttributeError\u001b[0m                            Traceback (most recent call last)",
      "\u001b[1;32m<ipython-input-265-3bf57329b5bc>\u001b[0m in \u001b[0;36m<module>\u001b[1;34m\u001b[0m\n\u001b[0;32m      1\u001b[0m \u001b[0mAdmin_user\u001b[0m \u001b[1;33m=\u001b[0m \u001b[0mAdmin\u001b[0m\u001b[1;33m(\u001b[0m\u001b[1;34m'emeka'\u001b[0m\u001b[1;33m,\u001b[0m \u001b[1;34m'okpara'\u001b[0m\u001b[1;33m,\u001b[0m \u001b[1;34m'13dfwr'\u001b[0m\u001b[1;33m,\u001b[0m \u001b[1;34m'aba'\u001b[0m\u001b[1;33m)\u001b[0m\u001b[1;33m\u001b[0m\u001b[1;33m\u001b[0m\u001b[0m\n\u001b[0;32m      2\u001b[0m \u001b[0mAdmin_user\u001b[0m\u001b[1;33m.\u001b[0m\u001b[0mdescribe_user\u001b[0m\u001b[1;33m(\u001b[0m\u001b[1;33m)\u001b[0m\u001b[1;33m\u001b[0m\u001b[1;33m\u001b[0m\u001b[0m\n\u001b[1;32m----> 3\u001b[1;33m \u001b[0mAdmin_user\u001b[0m\u001b[1;33m.\u001b[0m\u001b[0mshow_privileges\u001b[0m\u001b[1;33m(\u001b[0m\u001b[1;33m)\u001b[0m\u001b[1;33m\u001b[0m\u001b[1;33m\u001b[0m\u001b[0m\n\u001b[0m",
      "\u001b[1;31mAttributeError\u001b[0m: 'Admin' object has no attribute 'show_privileges'"
     ]
    }
   ],
   "source": [
    "Admin_user = Admin('emeka', 'okpara', '13dfwr', 'aba')\n",
    "Admin_user.describe_user()\n",
    "Admin_user.show_privileges()"
   ]
  },
  {
   "cell_type": "code",
   "execution_count": 266,
   "metadata": {},
   "outputs": [
    {
     "name": "stdout",
     "output_type": "stream",
     "text": [
      "users profile Emeka Nwafor 29id9 Abuja\n",
      "\n",
      "Hello emeka you're welcome!\n",
      "You logged in  2\n"
     ]
    }
   ],
   "source": [
    "user1 = User('emeka', 'nwafor','29id9','Abuja')\n",
    "user1.login_attempt()\n",
    "user1.login_attempt()\n",
    "user1.describe_user()"
   ]
  },
  {
   "cell_type": "code",
   "execution_count": 267,
   "metadata": {},
   "outputs": [
    {
     "name": "stdout",
     "output_type": "stream",
     "text": [
      "users profile Emeka Nwafor 29id9 Lagos\n",
      "\n",
      "Hello emeka you're welcome!\n",
      "You logged in  1\n"
     ]
    }
   ],
   "source": [
    "user2 = User('emeka', 'nwafor','29id9','Lagos')\n",
    "user2.login_attempt()\n",
    "user2.describe_user()"
   ]
  },
  {
   "cell_type": "code",
   "execution_count": 268,
   "metadata": {},
   "outputs": [
    {
     "name": "stdout",
     "output_type": "stream",
     "text": [
      "users profile Emeka Nwafor 29id9 Lagos\n",
      "\n",
      "Hello emeka you're welcome!\n",
      "You logged in  2\n",
      "Successful reset, your new logon is  0\n"
     ]
    }
   ],
   "source": [
    "user2.login_attempt()\n",
    "user2.describe_user()\n",
    "user2.reset_login()"
   ]
  },
  {
   "cell_type": "code",
   "execution_count": 269,
   "metadata": {},
   "outputs": [
    {
     "name": "stdout",
     "output_type": "stream",
     "text": [
      "users profile Emeka Nwafor 29id9 Lagos\n",
      "\n",
      "Hello emeka you're welcome!\n",
      "You logged in  8\n"
     ]
    }
   ],
   "source": [
    "user2.login_attempt()\n",
    "user2.login_attempt()\n",
    "user2.login_attempt()\n",
    "user2.login_attempt()\n",
    "user2.login_attempt()\n",
    "user2.login_attempt()\n",
    "user2.login_attempt()\n",
    "user2.login_attempt()\n",
    "\n",
    "user2.describe_user()"
   ]
  },
  {
   "cell_type": "code",
   "execution_count": 270,
   "metadata": {},
   "outputs": [
    {
     "name": "stdout",
     "output_type": "stream",
     "text": [
      "Successful reset, your new logon is  0\n"
     ]
    }
   ],
   "source": [
    "user2.reset_login()"
   ]
  },
  {
   "cell_type": "code",
   "execution_count": 271,
   "metadata": {},
   "outputs": [
    {
     "name": "stdout",
     "output_type": "stream",
     "text": [
      "None\n"
     ]
    }
   ],
   "source": [
    "print(user2.login_attempt())"
   ]
  },
  {
   "cell_type": "markdown",
   "metadata": {},
   "source": [
    "### Inheritance"
   ]
  },
  {
   "cell_type": "markdown",
   "metadata": {},
   "source": [
    "We don't always have to define a new class, if we are writing a specialized version of another class we wrote. We can do this by using inheritance. When one class inherits from another, it automatically takes on all the attributes and methods of that class. The original class is the parent class while the new class is the childclass. The childclass inherits every attribute and methods from its parent class but it is also free to add or define new attributes and methods of its own.\n",
    "\n",
    "#### The __init__ method for a child class\n",
    "\n",
    "The first task python has when dealing with the childclass is to assign values to all the attributes in the parent class.\n",
    "\n",
    "To  do this, we use the __init__() method for a child class, which needs help from the parent class.\n"
   ]
  },
  {
   "cell_type": "code",
   "execution_count": 272,
   "metadata": {},
   "outputs": [],
   "source": [
    "# let us modify our car class by adding new instance called electric car\n",
    "\n",
    "class Car():\n",
    "    \"\"\"Summarizes the information regarding cars\"\"\"\n",
    "    \n",
    "    def __init__(self, make, model, year):\n",
    "        \"\"\"initializes attributes to describe car features\"\"\"\n",
    "        self.make = make\n",
    "        self.model = model\n",
    "        self.year = year\n",
    "        self.odomoter_reading = 0\n",
    "    \n",
    "    def get_descriptive(self):\n",
    "        \"\"\"Return a neatly formatted descriptive name\"\"\"\n",
    "        long_name = str(self.year) + ' ' + self.make + ' ' + self.model\n",
    "        return long_name.title()\n",
    "    \n",
    "    def read_odometer(self):\n",
    "        \"\"\"Prints a statement showing the car's mileage\"\"\"\n",
    "        print(\"This car has \" + str(self.odomoter_reading) + \" mile's on it\")\n",
    "    \n",
    "    def update_odometer(self, mileage):\n",
    "        \"\"\"\n",
    "        Updates the current value of odometer reading.\n",
    "        Set the odometer reading to a given value and reject \n",
    "        change if attempts are made to roll odometer back\n",
    "        \"\"\"\n",
    "        if mileage >= self.odomoter_reading:\n",
    "            self.odomoter_reading = mileage\n",
    "        else:\n",
    "            print(\"You can't roll back an odometer!\")\n",
    "    \n",
    "    def increment_odometer(self, miles):\n",
    "        \"\"\"\n",
    "        Add a given amount to the odometer readings\n",
    "        \"\"\"\n",
    "        self.odomoter_reading += miles\n",
    "        \n",
    "class Battery():\n",
    "    \"\"\"A simple attempt to model a battery for an electric car\"\"\"\n",
    "    def __init__(self, battery_size=70):\n",
    "        \"\"\"Initialize the battery's attribute\"\"\"\n",
    "        self.battery_size = battery_size\n",
    "        \n",
    "    def describe_battery(self):\n",
    "        \"\"\"Print a statement describing the battery size\"\"\"\n",
    "        print(\"This car has a \" + str(self.battery_size) + \"-kwh battery\")\n",
    "    \n",
    "    def get_range(self):\n",
    "        \"\"\"Print a statement about the range this battery provides\"\"\"\n",
    "        if self.battery_size == 70:\n",
    "            range = 240\n",
    "        elif self.battery_size == 85:\n",
    "            range = 270\n",
    "        \n",
    "        message = \"This car can go approximately \" + str(range)\n",
    "        message += \" miles on a full charge\"\n",
    "        print(message)\n",
    "    \n",
    "    def upgrade_battery(self):\n",
    "        \"\"\"Check the battery size and set the capacity to 85\"\"\"\n",
    "        if self.battery_size != 85:\n",
    "            self.battery_size = 85\n",
    "            range = 270\n",
    "    \n",
    "class ElectricCar(Car):\n",
    "    \"\"\"Represent aspects of a car, specific to the electric vehicles\"\"\"\n",
    "    \n",
    "    def __init__(self, make, model, year):\n",
    "        \"\"\"\n",
    "        initialize attributes of the parent class\n",
    "        Then initialize attributes specific to an electric car\n",
    "        \"\"\"\n",
    "        super().__init__(make, model, year)\n",
    "        self.battery = Battery()\n",
    "        \n",
    "    \n",
    "    "
   ]
  },
  {
   "cell_type": "code",
   "execution_count": 273,
   "metadata": {},
   "outputs": [
    {
     "name": "stdout",
     "output_type": "stream",
     "text": [
      "2017 Telsa Model S\n",
      "This car has a 70-kwh battery\n",
      "This car has 200 mile's on it\n",
      "This car has 500 mile's on it\n",
      "You can't roll back an odometer!\n"
     ]
    }
   ],
   "source": [
    "my_telsa = ElectricCar('telsa','model s', 2017)\n",
    "print(my_telsa.get_descriptive())\n",
    "my_telsa.battery.describe_battery()\n",
    "\n",
    "my_telsa.odometer_reading = 100\n",
    "my_telsa.update_odometer(200)\n",
    "my_telsa.read_odometer()\n",
    "\n",
    "my_telsa.increment_odometer(300)\n",
    "my_telsa.read_odometer()\n",
    "\n",
    "my_telsa.update_odometer(100)"
   ]
  },
  {
   "cell_type": "code",
   "execution_count": 277,
   "metadata": {},
   "outputs": [
    {
     "name": "stdout",
     "output_type": "stream",
     "text": [
      "2017 Telsa Model S\n",
      "This car has a 70-kwh battery\n",
      "This car can go approximately 240 miles on a full charge\n",
      "This car has a 85-kwh battery\n",
      "This car can go approximately 270 miles on a full charge\n"
     ]
    }
   ],
   "source": [
    "\n",
    "\n",
    "car = ElectricCar('telsa','model s', 2017)\n",
    "print(car.get_descriptive())\n",
    "\n",
    "car.battery.describe_battery()\n",
    "car.battery.get_range()\n",
    "car.battery.upgrade_battery()\n",
    "\n",
    "car.battery.describe_battery()\n",
    "car.battery.get_range()"
   ]
  },
  {
   "cell_type": "markdown",
   "metadata": {},
   "source": [
    "### Importing classes"
   ]
  },
  {
   "cell_type": "code",
   "execution_count": 278,
   "metadata": {},
   "outputs": [],
   "source": [
    "\"\"\" A class that can be used to represent a car\"\"\"\n",
    "\n",
    "class Car():\n",
    "    \"\"\"Summarizes the information regarding cars\"\"\"\n",
    "    \n",
    "    def __init__(self, make, model, year):\n",
    "        \"\"\"initializes attributes to describe car features\"\"\"\n",
    "        self.make = make\n",
    "        self.model = model\n",
    "        self.year = year\n",
    "        self.odomoter_reading = 0\n",
    "    \n",
    "    def get_descriptive(self):\n",
    "        \"\"\"Return a neatly formatted descriptive name\"\"\"\n",
    "        long_name = str(self.year) + ' ' + self.make + ' ' + self.model\n",
    "        return long_name.title()\n",
    "    \n",
    "    def read_odometer(self):\n",
    "        \"\"\"Prints a statement showing the car's mileage\"\"\"\n",
    "        print(\"This car has \" + str(self.odomoter_reading) + \" mile's on it\")\n",
    "    \n",
    "    def update_odometer(self, mileage):\n",
    "        \"\"\"\n",
    "        Updates the current value of odometer reading.\n",
    "        Set the odometer reading to a given value and reject \n",
    "        change if attempts are made to roll odometer back\n",
    "        \"\"\"\n",
    "        if mileage >= self.odomoter_reading:\n",
    "            self.odomoter_reading = mileage\n",
    "        else:\n",
    "            print(\"You can't roll back an odometer!\")\n",
    "    \n",
    "    def increment_odometer(self, miles):\n",
    "        \"\"\"\n",
    "        Add a given amount to the odometer readings\n",
    "        \"\"\"\n",
    "        self.odomoter_reading += miles\n",
    "        \n",
    "class Battery():\n",
    "    \"\"\"A simple attempt to model a battery for an electric car\"\"\"\n",
    "    def __init__(self, battery_size=70):\n",
    "        \"\"\"Initialize the battery's attribute\"\"\"\n",
    "        self.battery_size = battery_size\n",
    "        \n",
    "    def describe_battery(self):\n",
    "        \"\"\"Print a statement describing the battery size\"\"\"\n",
    "        print(\"This car has a \" + str(self.battery_size) + \"-kwh battery\")\n",
    "    \n",
    "    def get_range(self):\n",
    "        \"\"\"Print a statement about the range this battery provides\"\"\"\n",
    "        if self.battery_size == 70:\n",
    "            range = 240\n",
    "        elif self.battery_size == 85:\n",
    "            range = 270\n",
    "        \n",
    "        message = \"This car can go approximately \" + str(range)\n",
    "        message += \" miles on a full charge\"\n",
    "        print(message)\n",
    "    \n",
    "    def upgrade_battery(self):\n",
    "        \"\"\"Check the battery size and set the capacity to 85\"\"\"\n",
    "        if self.battery_size != 85:\n",
    "            self.battery_size = 85\n",
    "            range = 270"
   ]
  },
  {
   "cell_type": "markdown",
   "metadata": {},
   "source": [
    "### Python Standard Library"
   ]
  },
  {
   "cell_type": "code",
   "execution_count": 279,
   "metadata": {},
   "outputs": [
    {
     "name": "stdout",
     "output_type": "stream",
     "text": [
      "Jen's faavorite language is Python\n",
      "Sarah's faavorite language is C\n",
      "Edward's faavorite language is Ruby\n",
      "Phil's faavorite language is Python\n"
     ]
    }
   ],
   "source": [
    "from collections import OrderedDict\n",
    "\n",
    "favorite_lang = OrderedDict()\n",
    "\n",
    "favorite_lang['jen'] = 'python'\n",
    "favorite_lang['sarah'] = 'c'\n",
    "favorite_lang['edward'] = 'ruby'\n",
    "favorite_lang['phil'] = 'python'\n",
    "\n",
    "for name, language in favorite_lang.items():\n",
    "    print(name.title() + \"'s faavorite language is \" + language.title())"
   ]
  },
  {
   "cell_type": "code",
   "execution_count": 280,
   "metadata": {},
   "outputs": [
    {
     "data": {
      "text/plain": [
       "OrderedDict([('jen', 'python'),\n",
       "             ('sarah', 'c'),\n",
       "             ('edward', 'ruby'),\n",
       "             ('phil', 'python')])"
      ]
     },
     "execution_count": 280,
     "metadata": {},
     "output_type": "execute_result"
    }
   ],
   "source": [
    "favorite_lang"
   ]
  },
  {
   "cell_type": "code",
   "execution_count": 281,
   "metadata": {},
   "outputs": [],
   "source": [
    "OrderedDict?"
   ]
  },
  {
   "cell_type": "code",
   "execution_count": 283,
   "metadata": {},
   "outputs": [
    {
     "name": "stdout",
     "output_type": "stream",
     "text": [
      "Addidas produces Shirt\n",
      "Nike produces Jean\n",
      "Mikel produces Polo\n"
     ]
    }
   ],
   "source": [
    "glossary = OrderedDict()\n",
    "glossary['shirt'] = 'addidas'\n",
    "glossary['jean'] = 'Nike'\n",
    "glossary['polo'] = 'mikel'\n",
    "\n",
    "for i, v in glossary.items():\n",
    "    print(v.title() + \" produces \" + i.title())"
   ]
  },
  {
   "cell_type": "code",
   "execution_count": 319,
   "metadata": {},
   "outputs": [],
   "source": [
    "import random\n",
    "\n",
    "class Die():\n",
    "    \"\"\"Iniitiating the class Die\"\"\"\n",
    "    \n",
    "    def __init__(self, sides=6):\n",
    "        \"\"\" produces a defult value\"\"\"\n",
    "        self.sides = sides\n",
    "    def roll_die(self):\n",
    "        print(\"your die showed number \", random.randint(1, self.sides))\n",
    "#             x = random.randint(1, self.sides)\n",
    "#             print(\"your die showed number \", x)\n",
    "            "
   ]
  },
  {
   "cell_type": "code",
   "execution_count": 320,
   "metadata": {},
   "outputs": [
    {
     "name": "stdout",
     "output_type": "stream",
     "text": [
      "your die showed number  5\n"
     ]
    }
   ],
   "source": [
    "first = Die()\n",
    "first.roll_die()"
   ]
  },
  {
   "cell_type": "code",
   "execution_count": 308,
   "metadata": {},
   "outputs": [
    {
     "name": "stdout",
     "output_type": "stream",
     "text": [
      "your die showed number  3\n"
     ]
    }
   ],
   "source": [
    "second = Die()\n",
    "second.roll_die()"
   ]
  },
  {
   "cell_type": "code",
   "execution_count": null,
   "metadata": {},
   "outputs": [],
   "source": []
  }
 ],
 "metadata": {
  "kernelspec": {
   "display_name": "Python 3",
   "language": "python",
   "name": "python3"
  },
  "language_info": {
   "codemirror_mode": {
    "name": "ipython",
    "version": 3
   },
   "file_extension": ".py",
   "mimetype": "text/x-python",
   "name": "python",
   "nbconvert_exporter": "python",
   "pygments_lexer": "ipython3",
   "version": "3.7.7"
  }
 },
 "nbformat": 4,
 "nbformat_minor": 4
}
