{
 "cells": [
  {
   "cell_type": "markdown",
   "metadata": {},
   "source": [
    "### Functions Tutorial\n"
   ]
  },
  {
   "cell_type": "markdown",
   "metadata": {},
   "source": [
    "We can refer to fucntions as blocks of code which are designed to do a specific job. Hence, they are designed fo speceific tasks.\n",
    "\n",
    "#### Outlines:\n",
    "\n",
    "How to define functions.\n",
    "\n",
    "How to pass information to functions.\n",
    "\n",
    "How to write certain functions whose primary task is to display information.\n",
    "\n",
    "How to write functions to process data and return a value or set of values.\n",
    "\n",
    "How to store functions in a separate files called modules."
   ]
  },
  {
   "cell_type": "code",
   "execution_count": 15,
   "metadata": {},
   "outputs": [
    {
     "name": "stdout",
     "output_type": "stream",
     "text": [
      "Hello, you're welcome!\n"
     ]
    }
   ],
   "source": [
    "#defining a function. let us define a function named greet_user.\n",
    "#this functions prints a greeting message\n",
    "\n",
    "def greet_user():\n",
    "    \"\"\"displays a simple greeting.\"\"\"\n",
    "    print(\"Hello, you're welcome!\")\n",
    "\n",
    "greet_user()"
   ]
  },
  {
   "cell_type": "markdown",
   "metadata": {},
   "source": [
    "def tells python that we are defining a function. It is referred to as the function definition, which tells the python the name of the function and what kind of information the function needs to do its job if applicable. But in our case, the function holds no information which is usually stored in a parathesis().\n",
    "\n",
    "The definition ends with a colon. The text enclosed in a paranthesis is called a doctstring, which describes what the function does.\n",
    "\n",
    "The only line of code here is print('hello you are welcome') which is the only code that will run when the python executes the code."
   ]
  },
  {
   "cell_type": "code",
   "execution_count": 16,
   "metadata": {},
   "outputs": [
    {
     "name": "stdout",
     "output_type": "stream",
     "text": [
      "Hello, Henry you're welcome\n",
      "Hello, Sarah you're welcome\n"
     ]
    }
   ],
   "source": [
    "#Passing information to a function. let us modify our greet_user function\n",
    "\n",
    "def greet_user(username):\n",
    "    \"\"\"displays a simple greeting.\"\"\"\n",
    "    print(\"Hello, \" + username.title() + \" you're welcome\")\n",
    "    \n",
    "greet_user('henry')\n",
    "greet_user('sarah')"
   ]
  },
  {
   "cell_type": "code",
   "execution_count": 17,
   "metadata": {},
   "outputs": [
    {
     "name": "stdout",
     "output_type": "stream",
     "text": [
      "Things Fall Apart is my favorite book\n"
     ]
    }
   ],
   "source": [
    "#lets define a function to give us the title of our favorite book\n",
    "\n",
    "def favorite_book(title):\n",
    "    \"\"\"Display the title of favorite book\"\"\"\n",
    "    print(title.title() + ' is my favorite book')\n",
    "\n",
    "favorite_book('things fall apart')"
   ]
  },
  {
   "cell_type": "markdown",
   "metadata": {},
   "source": [
    "### Arguments and parameters\n",
    "\n",
    "The variable username we passed to the greet_user() is known as a piece of information the function needs to do its job, and it is called a parameter. The value such as sarah and jesse in greet_user('jesse') is an example of an argument.\n",
    "\n",
    "Hence an argument is a peice of information that is passed from a function call to a function.\n",
    "\n",
    "We can pass arguments to our functions in number of ways. We can use positional arguments, which needs to be in the same order the parameter were written. We can also use keyword arguments where each arguments consists of a variable name and a value."
   ]
  },
  {
   "cell_type": "code",
   "execution_count": 18,
   "metadata": {},
   "outputs": [
    {
     "name": "stdout",
     "output_type": "stream",
     "text": [
      "\n",
      "I have a Dog\n",
      "My Dog's name is Jack\n",
      "\n",
      "\n",
      "\n",
      "I have a Lion\n",
      "My Lion's name is Bully\n"
     ]
    }
   ],
   "source": [
    "#Positional Arguments. Just like the name, it matches with the \n",
    "#parameter position in the function when the dunction call of each arguments are passed\n",
    "\n",
    "def describe_pet(animal_type, pet_name):\n",
    "    \"\"\"Display information about a pet\"\"\"\n",
    "    print(\"\\nI have a \" + animal_type.title())\n",
    "    print(\"My \" + animal_type.title() + \"'s name is \" + pet_name.title())\n",
    "\n",
    "describe_pet('dog', 'jack')\n",
    "\n",
    "print(\"\\n\")\n",
    "\n",
    "#we can use the function call as many times as possible\n",
    "describe_pet('lion', 'bully')"
   ]
  },
  {
   "cell_type": "code",
   "execution_count": 19,
   "metadata": {},
   "outputs": [
    {
     "name": "stdout",
     "output_type": "stream",
     "text": [
      "\n",
      "I have a Dog\n",
      "My Dog's name is Jack\n",
      "\n",
      "\n",
      "\n",
      "I have a Lion\n",
      "My Lion's name is Bully\n"
     ]
    }
   ],
   "source": [
    "#Keyword arguments is a name-value pair that you pass to the function.\n",
    "#let us redefine our pets definition from above\n",
    "\n",
    "def describe_pet(animal_type='dog', pet_name='jack'):\n",
    "    \"\"\"Display information about a pet\"\"\"\n",
    "    print(\"\\nI have a \" + animal_type.title())\n",
    "    print(\"My \" + animal_type.title() + \"'s name is \" + pet_name.title())\n",
    "\n",
    "describe_pet()\n",
    "\n",
    "print(\"\\n\")\n",
    "\n",
    "#we can use the function call as many times as possible\n",
    "describe_pet('lion', 'bully')\n"
   ]
  },
  {
   "cell_type": "code",
   "execution_count": 30,
   "metadata": {},
   "outputs": [
    {
     "name": "stdout",
     "output_type": "stream",
     "text": [
      "\n",
      "I have a Dog\n",
      "My Dog's name is Willi\n",
      "\n",
      "I have a Dog\n",
      "My Dog's name is Brisket\n"
     ]
    }
   ],
   "source": [
    "#default value\n",
    "\n",
    "def describe_pet(pet_name, animal_type='dog'):\n",
    "    \"\"\"Display information about a pet\"\"\"\n",
    "    print(\"\\nI have a \" + animal_type.title())\n",
    "    print(\"My \" + animal_type.title() + \"'s name is \" + pet_name.title())\n",
    "#defualt value helps us maintainnthe constant value of animal type while the pet name changes\n",
    "\n",
    "describe_pet(pet_name = 'willi')\n",
    "describe_pet('brisket')\n",
    "    \n",
    "#in this case, our animal type dog is maintained as a default value"
   ]
  },
  {
   "cell_type": "markdown",
   "metadata": {},
   "source": [
    "#### Note:\n",
    "\n",
    "When you use default values, any parameter with a default value needs to be listed\n",
    "after all the parameters that don’t have default values. This allows Python to continue interpreting positional arguments correctly"
   ]
  },
  {
   "cell_type": "code",
   "execution_count": 32,
   "metadata": {},
   "outputs": [
    {
     "name": "stdout",
     "output_type": "stream",
     "text": [
      "\n",
      "I have a Dog\n",
      "My Dog's name is Jack\n",
      "\n",
      "I have a Dog\n",
      "My Dog's name is Jack\n",
      "\n",
      "I have a Dog\n",
      "My Dog's name is Harry\n",
      "\n",
      "I have a Dog\n",
      "My Dog's name is Harry\n",
      "\n",
      "I have a Dog\n",
      "My Dog's name is Harry\n"
     ]
    }
   ],
   "source": [
    "#equivalent functions. All this will produce same result\n",
    "\n",
    "#a dog named jack\n",
    "describe_pet('jack') #positional argument\n",
    "describe_pet(pet_name='jack') #keyword argument\n",
    "\n",
    "#an pet name and animal type called dog\n",
    "describe_pet('harry', 'dog') #positional argument\n",
    "describe_pet(pet_name='harry', animal_type='dog') #keyword argument\n",
    "describe_pet(animal_type='dog', pet_name='harry') #keyword arguement\n"
   ]
  },
  {
   "cell_type": "markdown",
   "metadata": {},
   "source": [
    "### Errors and Avoiding Errors in Function"
   ]
  },
  {
   "cell_type": "markdown",
   "metadata": {},
   "source": [
    "This can sometimes and you'll encounter more often in python when you pass little or more than required arguements in the function parameter.\n",
    "\n",
    "let's give an example with the desribe_pet() function"
   ]
  },
  {
   "cell_type": "code",
   "execution_count": 35,
   "metadata": {},
   "outputs": [
    {
     "ename": "TypeError",
     "evalue": "describe_pet() missing 1 required positional argument: 'pet_name'",
     "output_type": "error",
     "traceback": [
      "\u001b[1;31m---------------------------------------------------------------------------\u001b[0m",
      "\u001b[1;31mTypeError\u001b[0m                                 Traceback (most recent call last)",
      "\u001b[1;32m<ipython-input-35-87b85d8e6c4d>\u001b[0m in \u001b[0;36m<module>\u001b[1;34m\u001b[0m\n\u001b[1;32m----> 1\u001b[1;33m \u001b[0mdescribe_pet\u001b[0m\u001b[1;33m(\u001b[0m\u001b[1;33m)\u001b[0m\u001b[1;33m\u001b[0m\u001b[1;33m\u001b[0m\u001b[0m\n\u001b[0m\u001b[0;32m      2\u001b[0m \u001b[1;33m\u001b[0m\u001b[0m\n\u001b[0;32m      3\u001b[0m \u001b[1;31m#A traceback error will be generated at this point, telling us on where we got it wrong.\u001b[0m\u001b[1;33m\u001b[0m\u001b[1;33m\u001b[0m\u001b[1;33m\u001b[0m\u001b[0m\n",
      "\u001b[1;31mTypeError\u001b[0m: describe_pet() missing 1 required positional argument: 'pet_name'"
     ]
    }
   ],
   "source": [
    "describe_pet()\n",
    "\n",
    "#A traceback error will be generated at this point, telling us on where we got it wrong.\n"
   ]
  },
  {
   "cell_type": "code",
   "execution_count": 37,
   "metadata": {},
   "outputs": [
    {
     "name": "stdout",
     "output_type": "stream",
     "text": [
      "\n",
      "The size of your shirt is 6 and it has Data Is Life printed on it\n"
     ]
    }
   ],
   "source": [
    "#lets define a function named make_shirt\n",
    "#this is a positional argument.\n",
    "def make_shirt(size, text):\n",
    "    \"\"\"Display the size and text of a message\"\"\"\n",
    "    print(\"\\nThe size of your shirt is \" + str(size) + \" and it has \" + text.title() + \" printed on it\")\n",
    "    \n",
    "make_shirt(6, 'data is life')"
   ]
  },
  {
   "cell_type": "code",
   "execution_count": 43,
   "metadata": {},
   "outputs": [
    {
     "name": "stdout",
     "output_type": "stream",
     "text": [
      "\n",
      "The size of your shirt is Small and it has Data Is Life printed on it\n"
     ]
    }
   ],
   "source": [
    "#lets define a function named make_shirt\n",
    "#this is a keyword  argument.\n",
    "def make_shirt(size = 'small', text='data is life'):\n",
    "    \"\"\"Display the size and text of a message\"\"\"\n",
    "    print(\"\\nThe size of your shirt is \" + size.title() + \" and it has \" + text.title() + \" printed on it\")\n",
    "    \n",
    "make_shirt(size = 'small', text = 'data is life')"
   ]
  },
  {
   "cell_type": "code",
   "execution_count": 47,
   "metadata": {},
   "outputs": [
    {
     "name": "stdout",
     "output_type": "stream",
     "text": [
      "\n",
      "The size of your shirt is Large and it has I Love Python printed on it\n",
      "\n",
      "The size of your shirt is Medium and it has I Love Python printed on it\n",
      "\n",
      "The size of your shirt is Small and it has I Love Python printed on it\n"
     ]
    }
   ],
   "source": [
    "#let us define make shirt argument. but this time, we will make use of defualt argument\n",
    "def make_shirt(size, text= 'i love python'):\n",
    "    \"\"\"Display the size and text of a message\"\"\"\n",
    "    print(\"\\nThe size of your shirt is \" + size.title() + \" and it has \" + text.title() + \" printed on it\")\n",
    "make_shirt('large')\n",
    "make_shirt('medium')\n",
    "make_shirt('small')"
   ]
  },
  {
   "cell_type": "code",
   "execution_count": 48,
   "metadata": {},
   "outputs": [
    {
     "name": "stdout",
     "output_type": "stream",
     "text": [
      "\n",
      "Aba is in Nigeria\n",
      "\n",
      "Yaba is in Nigeria\n",
      "\n",
      "New Heaven is in Nigeria\n"
     ]
    }
   ],
   "source": [
    "#lets write a function to describe a name of a city and print its country\n",
    "\n",
    "def describe_city(city, country='nigeria'):\n",
    "    \"\"\"Displays a name of a city and the country\"\"\"\n",
    "    print(\"\\n\" + city.title() + \" is in \" + country.title())\n",
    "\n",
    "describe_city('aba')\n",
    "describe_city('yaba')\n",
    "describe_city('new heaven')\n",
    "    \n"
   ]
  },
  {
   "cell_type": "markdown",
   "metadata": {},
   "source": [
    "### Return Values"
   ]
  },
  {
   "cell_type": "markdown",
   "metadata": {},
   "source": [
    "sometimes, a function doesn't always display its output directly, it sometimesprocesses some data and then return a value or set of values. When the function returns a value or set of value its refered to as return value.\n"
   ]
  },
  {
   "cell_type": "code",
   "execution_count": 6,
   "metadata": {},
   "outputs": [
    {
     "name": "stdout",
     "output_type": "stream",
     "text": [
      "Kim John\n"
     ]
    }
   ],
   "source": [
    "#returning a simple value. let us return the first and last name of a person\n",
    "\n",
    "def full_names(first_name, last_name):\n",
    "    \"\"\"Returns the full name, neatly formatted\"\"\"\n",
    "    #neatly formating how our name will look like\n",
    "    full_name = first_name + ' ' + last_name\n",
    "    return full_name.title()\n",
    "#assigning our name to a viarible\n",
    "artist_name = full_names('kim', 'john')\n",
    "print(artist_name)\n"
   ]
  },
  {
   "cell_type": "markdown",
   "metadata": {},
   "source": [
    "#### making an argument optional. \n",
    "\n",
    "Sometimes, we would like to make an argument optional, so that people who are working on such function can choose to provide additional information if they want to. In this case, we can use the default values to make an argument optional.\n"
   ]
  },
  {
   "cell_type": "code",
   "execution_count": 14,
   "metadata": {},
   "outputs": [
    {
     "name": "stdout",
     "output_type": "stream",
     "text": [
      "Kim Baluk John\n"
     ]
    }
   ],
   "source": [
    "#let's modify our full_names function.\n",
    "#in this case, we want the full names to take care of middle names\n",
    "\n",
    "def full_names(first_name,middle_name, last_name):\n",
    "    \"\"\"Returns the full name, neatly formatted\"\"\"\n",
    "    #neatly formating how our name will look like\n",
    "    full_name = first_name + ' ' + middle_name + ' ' + last_name\n",
    "    return full_name.title()\n",
    "#assigning our name to a viarible\n",
    "artist_name = full_names('kim', 'baluk', 'john')\n",
    "print(artist_name)"
   ]
  },
  {
   "cell_type": "code",
   "execution_count": 23,
   "metadata": {},
   "outputs": [
    {
     "name": "stdout",
     "output_type": "stream",
     "text": [
      "Kim John Baluk\n",
      "\n",
      "Lakus Bisman\n"
     ]
    }
   ],
   "source": [
    "#let's modify our full_names function.\n",
    "#in this case, we want the full names to take care of middle names\n",
    "\n",
    "def full_names(first_name, last_name, middle_name=''):\n",
    "    \"\"\"Returns the full name, neatly formatted\"\"\"\n",
    "    #neatly formating how our name will look like\n",
    "    if middle_name:\n",
    "        full_name = first_name + ' ' + middle_name + ' ' + last_name\n",
    "    else:\n",
    "        full_name = first_name + ' ' + last_name\n",
    "    return full_name.title()\n",
    "#assigning our name to a viarible\n",
    "artist_name = full_names('kim', 'baluk', 'john')\n",
    "artis22_name = full_names('lakus', 'bisman')\n",
    "print(artist_name)\n",
    "print(\"\\n\" + artis22_name)"
   ]
  },
  {
   "cell_type": "code",
   "execution_count": 31,
   "metadata": {},
   "outputs": [
    {
     "name": "stdout",
     "output_type": "stream",
     "text": [
      "{'first_name': 'emeka', 'last_name': 'john'}\n"
     ]
    }
   ],
   "source": [
    "#returning a dictionary\n",
    "\n",
    "#we can use a function to return any type of data structures\n",
    "#let us return a dictionary\n",
    "\n",
    "def build_person(first_name, last_name):\n",
    "    \"\"\"Returns a dictionary of information about a person\"\"\"\n",
    "    person = {'first_name':first_name, 'last_name':last_name}\n",
    "    return person\n",
    "\n",
    "artist = build_person('emeka', 'john')\n",
    "print(artist)\n"
   ]
  },
  {
   "cell_type": "code",
   "execution_count": 36,
   "metadata": {},
   "outputs": [
    {
     "name": "stdout",
     "output_type": "stream",
     "text": [
      "{'first_name': 'emeka', 'last_name': 'john', 'age': 45}\n"
     ]
    }
   ],
   "source": [
    "#lets extend our function above to contain optional value\n",
    "\n",
    "def build_person(first_name, last_name, age=''):\n",
    "    \"\"\"Returns a dictionary of information about a person\"\"\"\n",
    "    person = {'first_name':first_name, 'last_name':last_name}\n",
    "    \n",
    "    #introducing optional instance of age\n",
    "    if age:\n",
    "        person['age'] = age\n",
    "        \n",
    "    return person\n",
    "\n",
    "artist = build_person('emeka', 'john', 45, )\n",
    "print(artist)\n"
   ]
  },
  {
   "cell_type": "markdown",
   "metadata": {},
   "source": [
    "### Using a function with a while loop"
   ]
  },
  {
   "cell_type": "code",
   "execution_count": 1,
   "metadata": {},
   "outputs": [
    {
     "name": "stdout",
     "output_type": "stream",
     "text": [
      "\n",
      "Please tell your name:\n",
      "(Enter 'quit' to exit)\n",
      "first_name: kelvin\n",
      "last_name: john\n",
      "\n",
      "Hello, Kelvin John you're welcome!\n",
      "\n",
      "Please tell your name:\n",
      "(Enter 'quit' to exit)\n",
      "first_name: quit\n"
     ]
    }
   ],
   "source": [
    "#let us use create a fucntion that greets people appropriately\n",
    "\n",
    "def greet_people(first_name, last_name):\n",
    "    \"\"\"Return a full name, neatly formatted\"\"\"\n",
    "    full_names = first_name + ' ' + last_name\n",
    "    return full_names.title()\n",
    "#let us now introudce our while(inifnite)loop\n",
    "while True:\n",
    "    print(\"\\nPlease tell your name:\")\n",
    "    print(\"(Enter 'quit' to exit)\")\n",
    "\n",
    "    f_name = input(\"first_name: \")\n",
    "    if f_name == 'quit':\n",
    "        break\n",
    "    l_name = input(\"last_name: \")\n",
    "    if l_name == 'quit':\n",
    "        break\n",
    "    message = greet_people(f_name,l_name)\n",
    "    print(\"\\nHello, \" + message + \" you're welcome!\")"
   ]
  },
  {
   "cell_type": "code",
   "execution_count": 5,
   "metadata": {},
   "outputs": [
    {
     "name": "stdout",
     "output_type": "stream",
     "text": [
      "Aba, Abia\n",
      "\n",
      "Ikeja, Lagos\n",
      "\n",
      "Nsukka, Enugu\n"
     ]
    }
   ],
   "source": [
    "#write a function called city_country that takes the name of a city and its country\n",
    "\n",
    "def city_country(city, country):\n",
    "    \"\"\"Returns a name of a city and the corresponding country\"\"\"\n",
    "    c_name = city+',' + ' ' + country\n",
    "    return c_name.title()\n",
    "city_1 = city_country('aba','abia')\n",
    "city_2 = city_country('ikeja','lagos')\n",
    "city_3 = city_country('nsukka','enugu')\n",
    "print(city_1)\n",
    "print(\"\\n\"+city_2)\n",
    "print(\"\\n\"+city_3)\n"
   ]
  },
  {
   "cell_type": "code",
   "execution_count": 14,
   "metadata": {},
   "outputs": [
    {
     "name": "stdout",
     "output_type": "stream",
     "text": [
      "{'artist_name': 'Joe cole', 'title': 'Logic'}\n",
      "{'artist_name': 'Chike', 'title': 'Boo of booless'}\n",
      "{'artist_name': 'Burna', 'title': 'Giant  of Africa'}\n",
      "{'artist_name': 'Wizkid', 'title': 'Fever', 'album_track': 10}\n"
     ]
    }
   ],
   "source": [
    "#write a function called make album that builds a dictionary describing the album\n",
    "\n",
    "def make_album(artist_name, title, album_track=''):\n",
    "    \"\"\"Returns abulm and corresponding information\"\"\"\n",
    "    name = {'artist_name':artist_name, 'title':title}\n",
    "    if album_track:\n",
    "        name['album_track'] = album_track\n",
    "    return name\n",
    "album_1 = make_album('Joe cole', 'Logic')\n",
    "album_2 = make_album('Chike', 'Boo of booless')\n",
    "album_3 = make_album('Burna', 'Giant  of Africa')\n",
    "album_4 = make_album('Wizkid', 'Fever', 10)\n",
    "\n",
    "print(album_1)\n",
    "print(album_2)\n",
    "print(album_3)\n",
    "print(album_4)"
   ]
  },
  {
   "cell_type": "code",
   "execution_count": 1,
   "metadata": {},
   "outputs": [
    {
     "name": "stdout",
     "output_type": "stream",
     "text": [
      "\n",
      "Please enter artist name and album title:\n",
      "(Enter 'quit' when you're done to exit)\n",
      "artist_name Joe\n",
      "album_title Logic\n",
      "{'artist_name': 'Joe', 'title': 'Logic'}\n",
      "\n",
      "Please enter artist name and album title:\n",
      "(Enter 'quit' when you're done to exit)\n",
      "artist_name Wizkid\n",
      "album_title Fever\n",
      "{'artist_name': 'Wizkid', 'title': 'Fever'}\n",
      "\n",
      "Please enter artist name and album title:\n",
      "(Enter 'quit' when you're done to exit)\n",
      "artist_name Burna\n",
      "album_title Giant of Africa\n",
      "{'artist_name': 'Burna', 'title': 'Giant of Africa'}\n",
      "\n",
      "Please enter artist name and album title:\n",
      "(Enter 'quit' when you're done to exit)\n",
      "artist_name quit\n"
     ]
    }
   ],
   "source": [
    "#let us try with while loop in our making album fuction\n",
    "\n",
    "\n",
    "def make_album(artist_name, title, album_track=''):\n",
    "    \"\"\"Returns abulm and corresponding information\"\"\"\n",
    "    name = {'artist_name':artist_name, 'title':title}\n",
    "    if album_track:\n",
    "        name['album_track'] = album_track\n",
    "    return name\n",
    "while True:\n",
    "    print(\"\\nPlease enter artist name and album title:\")\n",
    "    print(\"(Enter 'quit' when you're done to exit)\")\n",
    "    artist_name = input('artist_name ')\n",
    "    if artist_name == 'quit':\n",
    "        break\n",
    "    title = input('album_title ')\n",
    "    if title == 'quit':\n",
    "        break\n",
    "    message = make_album(artist_name, title)\n",
    "    print(message)\n",
    "\n",
    "# album_1 = \n",
    "# album_2 = make_album('Chike', 'Boo of booless')\n",
    "# album_3 = make_album('Burna', 'Giant  of Africa')\n",
    "# album_4 = make_album('Wizkid', 'Fever', 10)"
   ]
  },
  {
   "cell_type": "markdown",
   "metadata": {},
   "source": [
    "### Passing a List"
   ]
  },
  {
   "cell_type": "code",
   "execution_count": 2,
   "metadata": {},
   "outputs": [
    {
     "name": "stdout",
     "output_type": "stream",
     "text": [
      "Hello, Hannah!\n",
      "Hello, Bukasin!\n",
      "Hello, Feco!\n",
      "Hello, Laz_B!\n",
      "Hello, Chiomy!\n",
      "Hello, Metume!\n"
     ]
    }
   ],
   "source": [
    "#passing a list to a function.\n",
    "\n",
    "def greet_user(names):\n",
    "    \"\"\"Print a simple greeting message to each user in the list\"\"\"\n",
    "    for name in names:\n",
    "        message = \"Hello, \" + name.title() + \"!\"\n",
    "        print(message)\n",
    "usernames = ['hannah', 'bukasin', 'feco', 'laz_b', 'chiomy', 'metume']\n",
    "greet_user(usernames)\n"
   ]
  },
  {
   "cell_type": "code",
   "execution_count": 10,
   "metadata": {},
   "outputs": [
    {
     "name": "stdout",
     "output_type": "stream",
     "text": [
      "ordered food: moi-moi\n",
      "ordered food: shawama\n",
      "ordered food: akara\n",
      "ordered food: beans\n",
      "\n",
      " The following food have been supplied:\n",
      "\n",
      "moi-moi\n",
      "\n",
      "shawama\n",
      "\n",
      "akara\n",
      "\n",
      "beans\n"
     ]
    }
   ],
   "source": [
    "#modifying list\n",
    "\n",
    "#start with some foods that have been preordered\n",
    "pre_ordered = ['beans', 'akara', 'shawama', 'moi-moi']\n",
    "supplied = []\n",
    "\n",
    "#Simulate adding each food till none is left\n",
    "#move each ordered food to supplied food\n",
    "\n",
    "while pre_ordered:\n",
    "    food_ordered = pre_ordered.pop()\n",
    "    #simulate adding each food\n",
    "    print(\"ordered food: \" + food_ordered)\n",
    "    supplied.append(food_ordered)\n",
    "#display all completed supplied food\n",
    "print(\"\\n The following food have been supplied:\")\n",
    "for food in supplied:\n",
    "    print(\"\\n\" + food)"
   ]
  },
  {
   "cell_type": "code",
   "execution_count": 14,
   "metadata": {},
   "outputs": [
    {
     "name": "stdout",
     "output_type": "stream",
     "text": [
      "Ordered food: moi-moi\n",
      "Ordered food: shawama\n",
      "Ordered food: akara\n",
      "Ordered food: beans\n",
      "\n",
      "The following food have been supplied:\n",
      "moi-moi\n",
      "shawama\n",
      "akara\n",
      "beans\n"
     ]
    }
   ],
   "source": [
    "#this can ne written with two functions\n",
    "\n",
    "#the first function will take care of the ordered foods\n",
    "\n",
    "def print_ordered(food_ordered, food_supplied):\n",
    "    \"\"\"\n",
    "    Simulate adding each food till none is left\n",
    "    Move each ordered food to supplied food\n",
    "    \"\"\"\n",
    "    while food_ordered:\n",
    "        ordered = food_ordered.pop()\n",
    "        #simulate creating a print of ordered food\n",
    "        print(\"Ordered food: \" + ordered)\n",
    "        food_supplied.append(ordered)\n",
    "def show_supplied(supplied):\n",
    "    \"\"\"show the ordered foods\"\"\"\n",
    "    print(\"\\nThe following food have been supplied:\")\n",
    "    for food in supplied:\n",
    "        print(food)\n",
    "        \n",
    "pre_ordered = ['beans', 'akara', 'shawama', 'moi-moi']\n",
    "supplied = []\n",
    "\n",
    "print_ordered(pre_ordered, supplied)\n",
    "show_supplied(supplied)\n"
   ]
  },
  {
   "cell_type": "code",
   "execution_count": 18,
   "metadata": {},
   "outputs": [
    {
     "name": "stdout",
     "output_type": "stream",
     "text": [
      "Ordered food: moi-moi\n",
      "Ordered food: shawama\n",
      "Ordered food: akara\n",
      "Ordered food: beans\n",
      "['beans', 'akara', 'shawama', 'moi-moi']\n"
     ]
    }
   ],
   "source": [
    "#Preventing a function from modifying a list\n",
    "#sometimes, we would want to retain our original list\n",
    "\n",
    "#we make this possible by keeping a copy of the function we would want\n",
    "pre_ordered = ['beans', 'akara', 'shawama', 'moi-moi']\n",
    "supplied = []\n",
    "print_ordered(pre_ordered[:], supplied)\n",
    "print(pre_ordered)"
   ]
  },
  {
   "cell_type": "code",
   "execution_count": 9,
   "metadata": {},
   "outputs": [
    {
     "name": "stdout",
     "output_type": "stream",
     "text": [
      "the list of footballers are:\n",
      "messi\n",
      "ronaldo\n",
      "kaka\n",
      "ronaldinho\n",
      "nyemar\n",
      "hazard\n"
     ]
    }
   ],
   "source": [
    "#making a list of footballers and printing the names with defined fucntion\n",
    "\n",
    "names = ['messi','ronaldo','kaka','ronaldinho','nyemar','hazard']\n",
    "\n",
    "def show_ballers(names):\n",
    "    \"\"\"\n",
    "    shows list of recorded footballers names\n",
    "    \"\"\"\n",
    "    print(\"the list of footballers are:\")\n",
    "    for name in names:\n",
    "        print(name)\n",
    "        \n",
    "    \n",
    "show_ballers(names)"
   ]
  },
  {
   "cell_type": "code",
   "execution_count": 5,
   "metadata": {},
   "outputs": [
    {
     "name": "stdout",
     "output_type": "stream",
     "text": [
      "the list of great footballers are: \n",
      "Great Messi\n",
      "Great Ronaldo\n",
      "Great Kaka\n",
      "Great Ronaldinho\n",
      "Great Nyemar\n",
      "Great Hazard\n",
      "['messi', 'ronaldo', 'kaka', 'ronaldinho', 'nyemar', 'hazard']\n"
     ]
    }
   ],
   "source": [
    "names = ['messi','ronaldo','kaka','ronaldinho','nyemar','hazard']\n",
    "\n",
    "def great_ballers(names):\n",
    "    \"\"\"\n",
    "    shows list of recorded footballers names\n",
    "    \"\"\"\n",
    "    print(\"the list of great footballers are: \")\n",
    "    for name in names[:]:\n",
    "        print(\"Great \" + name.title())\n",
    "great_ballers(names)\n",
    "print(names)"
   ]
  },
  {
   "cell_type": "code",
   "execution_count": 12,
   "metadata": {},
   "outputs": [
    {
     "name": "stdout",
     "output_type": "stream",
     "text": [
      "\n",
      "show the ordered foods as: \n",
      "- rice\n",
      "\n",
      "show the ordered foods as: \n",
      "- beans\n",
      "- yam\n",
      "- malad\n"
     ]
    }
   ],
   "source": [
    "#passing an arbitrary Number of Arguments\n",
    "\n",
    "#the * parameter tells python to make an empty tupple called food\n",
    "def order_food(*food):\n",
    "    \"\"\"\n",
    "    print the list of ordered foods that have been requested\n",
    "    \"\"\"\n",
    "    print(\"\\nshow the ordered foods as: \")\n",
    "    for item in food:\n",
    "        print(\"- \" + item)\n",
    "\n",
    "    #python will show the result as a tuple\n",
    "order_food('rice')\n",
    "order_food('beans', 'yam', 'malad')\n"
   ]
  },
  {
   "cell_type": "code",
   "execution_count": 17,
   "metadata": {},
   "outputs": [
    {
     "name": "stdout",
     "output_type": "stream",
     "text": [
      "\n",
      "Ordering a 12 - quantities of food:\n",
      " - rice\n",
      "\n",
      "Ordering a 18 - quantities of food:\n",
      " - beans\n",
      " - yam\n",
      " - malad\n"
     ]
    }
   ],
   "source": [
    "#making Positional and Aribitrary Arguments\n",
    "\n",
    "#lets say we want to quantity of food we want to order\n",
    "#positional comes before making arbitrary arguments\n",
    "\n",
    "def order_food(size, *food):\n",
    "    \"\"\"\n",
    "    print the list of ordered foods that have been requested\n",
    "    \"\"\"\n",
    "    print(\"\\nOrdering a \" + str(size) + \" - quantities of food:\")\n",
    "    for item in food:\n",
    "        print(\" - \" + item)\n",
    "\n",
    "    #python will show the result as a tuple\n",
    "order_food(12, 'rice')\n",
    "order_food(18, 'beans', 'yam', 'malad')\n"
   ]
  },
  {
   "cell_type": "code",
   "execution_count": 20,
   "metadata": {},
   "outputs": [
    {
     "name": "stdout",
     "output_type": "stream",
     "text": [
      "{'first_name': 'albert', 'last_name': 'nkechi', 'location': 'lagos', 'field': 'geology', 'age': 22}\n"
     ]
    }
   ],
   "source": [
    "#Making Postional and Arbitrary Arguments\n",
    "#positional and keyword arguments comes before making arbitrary arguments\n",
    "\n",
    "#most times, we would want to define a function that accepts many information\n",
    "#but we are not sure of what the information is all about\n",
    "\n",
    "def build_profile(first, last, **user_info):\n",
    "    \"\"\"Build a dictionary containing everything we know about a user\n",
    "    \"\"\"\n",
    "    profile = {}\n",
    "    profile['first_name'] = first\n",
    "    profile['last_name'] = last\n",
    "    for key, value in user_info.items():\n",
    "        profile[key] = value\n",
    "    return profile\n",
    "\n",
    "user_profile = build_profile('albert', 'nkechi',\n",
    "                             location = 'lagos',\n",
    "                             field = 'geology',\n",
    "                             age = 22\n",
    "                            )\n",
    "print(user_profile)"
   ]
  },
  {
   "cell_type": "code",
   "execution_count": 24,
   "metadata": {},
   "outputs": [
    {
     "name": "stdout",
     "output_type": "stream",
     "text": [
      "\n",
      "Below are the necessary required items:\n",
      "\n",
      "book\n",
      "pen\n",
      "pencil\n",
      "orange\n"
     ]
    }
   ],
   "source": [
    "#let us practice\n",
    "\n",
    "def items_needed(*item):\n",
    "    \"\"\" prints a list of needed items\"\"\"\n",
    "    print(\"\\nBelow are the necessary required items:\")\n",
    "    \n",
    "    for i in item:\n",
    "        print(i)\n",
    "        \n",
    "items_needed('\\n' 'book','pen','pencil','orange')"
   ]
  },
  {
   "cell_type": "code",
   "execution_count": 40,
   "metadata": {},
   "outputs": [
    {
     "name": "stdout",
     "output_type": "stream",
     "text": [
      "{'first_name': 'Nkechi', 'last_name': 'Rubert', 'Location': 'lagos', 'Age': 22, 'Sex': 'female'}\n",
      "{'first_name': 'Nkechi', 'last_name': 'Rubert', 'Location': 'lagos', 'Age': 22, 'Sex': 'female'}\n"
     ]
    }
   ],
   "source": [
    "#let us rebuild our profile\n",
    "\n",
    "def profile_builder(first, last, **user_info):\n",
    "    \"\"\"prints the profile and information of each user\"\"\"\n",
    "    profile = {}\n",
    "    profile['first_name'] = first.title()\n",
    "    profile['last_name'] = last.title()\n",
    "    \n",
    "    #assigning key-value pair to the user_info\n",
    "    for key, value in user_info.items():\n",
    "        profile[key.title()] = value\n",
    "    return profile\n",
    "#let us assing this profile to an info\n",
    "\n",
    "profile = profile_builder('nkechi', 'rubert', location='lagos', age=22, sex='female')\n",
    "print(profile)"
   ]
  },
  {
   "cell_type": "code",
   "execution_count": 44,
   "metadata": {},
   "outputs": [
    {
     "name": "stdout",
     "output_type": "stream",
     "text": [
      "Lagos\n"
     ]
    }
   ],
   "source": [
    "title = profile['Location']\n",
    "print(title.title())"
   ]
  },
  {
   "cell_type": "code",
   "execution_count": 50,
   "metadata": {},
   "outputs": [
    {
     "name": "stdout",
     "output_type": "stream",
     "text": [
      "{'name': 'Toyota', 'model': 2017, 'Color': 'Red', 'Low_Package': 'True'}\n"
     ]
    }
   ],
   "source": [
    "#let us write a function that stores info of a car\n",
    "\n",
    "# def make_car(name, model, **car_info):\n",
    "#     \"\"\"Displays info of a car in a dict\"\"\"\n",
    "#     car_profile = {}\n",
    "#     car_profile['name'] = name.title()\n",
    "#     car_profile['model'] = model\n",
    "#     for key, value in car_info.items():\n",
    "#         car_profile[key.title()] = value.title()\n",
    "#     return car_profile\n",
    "# car = make_car('toyota', 2017, color='red', low_package='true')\n",
    "# print(car)"
   ]
  },
  {
   "cell_type": "markdown",
   "metadata": {},
   "source": [
    "### Storing our function\n",
    "\n",
    "To start importing functions, we need to create a module. A module is a file ending in .py that contains the code we want to import into our program\n",
    "\n",
    "If you are using a Jupyter below are the steps to take:\n",
    "\n",
    "a) Copy the function you created to a new notebook. This function contains the body of what your code does\n",
    "\n",
    "b) Save the function in the new module with a name.\n",
    "\n",
    "c) download as (name.py) you can download as anything but make sure it ends with .py\n",
    "\n",
    "d) the download should be at the same place with the current file directory\n",
    "\n",
    "e) That is it. Remember to leave a comment as to what your dunction does\n",
    "\n"
   ]
  },
  {
   "cell_type": "code",
   "execution_count": 52,
   "metadata": {},
   "outputs": [],
   "source": [
    "def make_car(name, model, **car_info):\n",
    "    \"\"\"Displays info of a car in a dict\"\"\"\n",
    "    car_profile = {}\n",
    "    car_profile['name'] = name.title()\n",
    "    car_profile['model'] = model\n",
    "    for key, value in car_info.items():\n",
    "        car_profile[key.title()] = value.title()\n",
    "    return car_profile"
   ]
  },
  {
   "cell_type": "code",
   "execution_count": 66,
   "metadata": {
    "scrolled": false
   },
   "outputs": [
    {
     "data": {
      "text/plain": [
       "{'name': 'Toyota', 'model': 2017, 'Color': 'Red', 'Low_Package': 'True'}"
      ]
     },
     "execution_count": 66,
     "metadata": {},
     "output_type": "execute_result"
    }
   ],
   "source": [
    "import describe_car as d\n",
    "\n",
    "d.make_car('toyota', 2017, color='red', low_package='true')\n",
    "\n",
    "\n"
   ]
  },
  {
   "cell_type": "code",
   "execution_count": 67,
   "metadata": {},
   "outputs": [
    {
     "data": {
      "text/plain": [
       "{'name': 'Toyota', 'model': 2017, 'Color': 'Red', 'Low_Package': 'True'}"
      ]
     },
     "execution_count": 67,
     "metadata": {},
     "output_type": "execute_result"
    }
   ],
   "source": [
    "from describe_car import make_car as mc\n",
    "\n",
    "mc('toyota', 2017, color='red', low_package='true')\n",
    "\n"
   ]
  },
  {
   "cell_type": "code",
   "execution_count": null,
   "metadata": {},
   "outputs": [],
   "source": []
  }
 ],
 "metadata": {
  "kernelspec": {
   "display_name": "Python 3",
   "language": "python",
   "name": "python3"
  },
  "language_info": {
   "codemirror_mode": {
    "name": "ipython",
    "version": 3
   },
   "file_extension": ".py",
   "mimetype": "text/x-python",
   "name": "python",
   "nbconvert_exporter": "python",
   "pygments_lexer": "ipython3",
   "version": "3.7.7"
  }
 },
 "nbformat": 4,
 "nbformat_minor": 4
}
