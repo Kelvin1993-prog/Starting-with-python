{
 "cells": [
  {
   "cell_type": "markdown",
   "metadata": {},
   "source": [
    "### FIles and Exceptions "
   ]
  },
  {
   "cell_type": "markdown",
   "metadata": {},
   "source": [
    "In this tutorial, we will learn how to work with reusable codes, and learn how to work with files so that our programs can quickly analyze lots of data.\n",
    "\n",
    "we will learn how to handle errors, so that our programs don't crash when they encounter unexpected situations. \n",
    "\n",
    "We will learn abiut exceptions which are special objects python creates to manage errors that arise while a program is running.\n",
    "\n",
    "We will also learn about Json module, which allows us to save user data so it isn;t lost when our program stops running."
   ]
  },
  {
   "cell_type": "markdown",
   "metadata": {},
   "source": [
    "### Reading from a file"
   ]
  },
  {
   "cell_type": "markdown",
   "metadata": {},
   "source": [
    "when you want to work with the information in a text file, the first step is to read the file into memory. There are ways to doing this, one is reading the entire file into the memory, the other is reading it line by line.\n",
    "\n"
   ]
  },
  {
   "cell_type": "code",
   "execution_count": 158,
   "metadata": {},
   "outputs": [
    {
     "name": "stdout",
     "output_type": "stream",
     "text": [
      "3.1415926535\n",
      "8979323846\n",
      "2643383279\n"
     ]
    }
   ],
   "source": [
    "# Reading an entire file\n",
    "# let us read in a file from our local system\n",
    "\n",
    "with open('pi_digits.txt') as file_open:\n",
    "    contents = file_open.read()\n",
    "    print(contents.rstrip())"
   ]
  },
  {
   "cell_type": "markdown",
   "metadata": {},
   "source": [
    "Before you get let us say your book from your bag, the first step is to open your bag right? yes! this applies as well in this case, the first step is to open the file we wanted to access. \n",
    "\n",
    "The open function needs one argument, and python looks for this file in the directory where the program that is currently executing is stored. python stores this opened file in (our case) the file_open which the program will work with.\n",
    "\n",
    "The with helps us to access the file in our program and as well closes it whenever it is not in use again.\n",
    "\n",
    "once we have the file object representing the pi_digits.txt, we use the read() method to read the entire contents of the file and store it as one long string in the variable contents.\n",
    "\n",
    "When we print the value of contents, we get the entire text file back."
   ]
  },
  {
   "cell_type": "markdown",
   "metadata": {},
   "source": [
    "### File Paths"
   ]
  },
  {
   "cell_type": "markdown",
   "metadata": {},
   "source": [
    "some times, we might notice that on how our work is strucutred, our text file might be stored in a directory that is different from our current program file. In this case, it will be impossible for python to directly open the file because it is not in the same directory with the current working program file.\n",
    "\n",
    "In this case, the file path comes in, which tells python to look in a specific areaa or location in our system for the file for the file. In this case, we will use a relative path to open a file from our text_files. A relative path tells python to look for a given location relative to the directory where the current running program file is stored.\n",
    "\n",
    "ANother type is called absolute file path, where you specify the exact position where the file is in your program.\n",
    "\n",
    "example of how relative path is:\n",
    "\n",
    "On Linux and OS X, you would write: \n",
    "\n",
    "with open('text_files/filename.text') as file_open: \n",
    "\n",
    "on windows\n",
    "\n",
    "with open(r'text_files\\filename.text') as file_open:\n",
    "\n"
   ]
  },
  {
   "cell_type": "code",
   "execution_count": 159,
   "metadata": {},
   "outputs": [
    {
     "name": "stdout",
     "output_type": "stream",
     "text": [
      "3.1415926535\n",
      "8979323846\n",
      "2643383279\n"
     ]
    }
   ],
   "source": [
    "# absolute file path example\n",
    "\n",
    "file_path = r'C:\\Users\\Nnabugwu kevin\\Desktop\\pi_digits.txt'\n",
    "with open(file_path) as file_open:\n",
    "    content = file_open.read()\n",
    "    print(content.rstrip())"
   ]
  },
  {
   "cell_type": "code",
   "execution_count": 160,
   "metadata": {},
   "outputs": [
    {
     "name": "stdout",
     "output_type": "stream",
     "text": [
      "3.1415926535\n",
      "8979323846\n",
      "2643383279\n"
     ]
    }
   ],
   "source": [
    "# reading line by line\n",
    "\n",
    "file_name = 'pi_digits.txt'\n",
    "\n",
    "with open(file_name) as file_object:\n",
    "    for line in file_object:\n",
    "        print(line.rstrip()) # the rstrip strips the invisible line character\n",
    "        \n",
    "# from the result, we could see a visible wide gap or line, which shows an invisible newline character\n"
   ]
  },
  {
   "cell_type": "code",
   "execution_count": 161,
   "metadata": {},
   "outputs": [
    {
     "name": "stdout",
     "output_type": "stream",
     "text": [
      "3.1415926535\n",
      "8979323846\n",
      "2643383279\n"
     ]
    }
   ],
   "source": [
    "# Making a list of line from the file\n",
    "\n",
    "filename = 'pi_digits.txt'\n",
    "with open(file_name) as file_object:\n",
    "    lines = file_object.readlines() # storiing the content of the file in a new list\n",
    "\n",
    "for line in lines:\n",
    "    print(line.rstrip())\n",
    "    \n",
    "# the readlines() method takes each line from the file and stores in a list\n",
    "# this list was then stored in a lines variable\n"
   ]
  },
  {
   "cell_type": "code",
   "execution_count": 162,
   "metadata": {},
   "outputs": [
    {
     "name": "stdout",
     "output_type": "stream",
     "text": [
      "3.141592653589793238462643383279\n",
      "32\n"
     ]
    }
   ],
   "source": [
    "# working with a files content\n",
    "\n",
    "pi_string = \"\"\n",
    "for line in lines:\n",
    "    pi_string += line.rstrip()\n",
    "    \n",
    "print(pi_string)\n",
    "print(len(pi_string))\n",
    "\n"
   ]
  },
  {
   "cell_type": "code",
   "execution_count": 163,
   "metadata": {},
   "outputs": [
    {
     "name": "stdout",
     "output_type": "stream",
     "text": [
      "Please Enter your birthday, in the form of mmddyy: \n",
      "\n",
      "Your birthday appears in the first 30 digits of pi \n"
     ]
    }
   ],
   "source": [
    "# let us play a game of birthday display\n",
    "\n",
    "birthday = input(\"Please Enter your birthday, in the form of mmddyy: \")\n",
    "if birthday in pi_string:\n",
    "    print(\"\\nYour birthday appears in the first 30 digits of pi \")\n",
    "else:\n",
    "    print(\"\\nYour birthday does not appear in the first 30 digits of pi\")"
   ]
  },
  {
   "cell_type": "code",
   "execution_count": 164,
   "metadata": {},
   "outputs": [
    {
     "data": {
      "text/plain": [
       "'I really would love to play football, chat and laugh out with my friends'"
      ]
     },
     "execution_count": 164,
     "metadata": {},
     "output_type": "execute_result"
    }
   ],
   "source": [
    "# using repalce() method\n",
    "\n",
    "message = 'I really would love to play soccer, chat and laugh out with my friends'\n",
    "message.replace('soccer', 'football')"
   ]
  },
  {
   "cell_type": "markdown",
   "metadata": {},
   "source": [
    "### Writing to a file"
   ]
  },
  {
   "cell_type": "markdown",
   "metadata": {},
   "source": [
    "One of the simplest way to save a data is to write it to a file."
   ]
  },
  {
   "cell_type": "code",
   "execution_count": 165,
   "metadata": {},
   "outputs": [],
   "source": [
    "# writing an empty file\n",
    "\n",
    "# to do this, we need to call open() method with a second argument, telling\n",
    "# python that we want to write it to a file\n",
    "\n",
    "filename = 'programming.txt'\n",
    "\n",
    "with open(filename, 'w') as file_object:\n",
    "    file_object.write('I love programming, and would love to improve on this path')\n",
    "\n",
    "# the open() method has two arguments, the first argument is the name of the file\n",
    "# we want to open, the second argumen is 'w' which tells python that we want to open\n",
    "# the file in write mode.\n",
    "# we can as well write in numerical format, but we will have to convert it to str() first"
   ]
  },
  {
   "cell_type": "code",
   "execution_count": 166,
   "metadata": {},
   "outputs": [],
   "source": [
    "# writing multiple lines\n",
    "filename = 'programming.txt'\n",
    "\n",
    "with open(filename, 'w') as file_object:\n",
    "    file_object.write('I love programming, and would love to improve on this path.\\n')\n",
    "    file_object.write('Though, this path might not be easy, but i am determined to tale the step.\\n')"
   ]
  },
  {
   "cell_type": "code",
   "execution_count": 167,
   "metadata": {},
   "outputs": [
    {
     "name": "stdout",
     "output_type": "stream",
     "text": [
      "I love programming, and would love to improve on this path.\n",
      "\n",
      "Though, this path might not be easy, but i am determined to tale the step.\n",
      "\n"
     ]
    }
   ],
   "source": [
    "opener = 'programming.txt'\n",
    "with open(opener) as file_object:\n",
    "    contents = file_object.readlines()\n",
    "for line in contents:\n",
    "    print(line)"
   ]
  },
  {
   "cell_type": "code",
   "execution_count": 168,
   "metadata": {},
   "outputs": [],
   "source": [
    "# appending a file\n",
    "# this helps to add more content to our existing files, instead of writing over it\n",
    "# let us add more content to our programming.txt\n",
    "\n",
    "file_name = 'programming.txt'\n",
    "\n",
    "with open(file_name, 'a') as file_object:\n",
    "    file_object.write(\"If you put your mind into it, then you can do it.\\n\")\n",
    "    file_object.write(\"if you're consistent, then, you will smile through.\\n\")"
   ]
  },
  {
   "cell_type": "code",
   "execution_count": 169,
   "metadata": {},
   "outputs": [
    {
     "name": "stdout",
     "output_type": "stream",
     "text": [
      "I love programming, and would love to improve on this path.\n",
      "\n",
      "Though, this path might not be easy, but i am determined to tale the step.\n",
      "\n",
      "If you put your mind into it, then you can do it.\n",
      "\n",
      "if you're consistent, then, you will smile through.\n",
      "\n"
     ]
    }
   ],
   "source": [
    "file_name = 'programming.txt'\n",
    "with open(file_name) as file_object:\n",
    "    contents = file_object.readlines()\n",
    "for line in contents:\n",
    "    print(line)"
   ]
  },
  {
   "cell_type": "code",
   "execution_count": 170,
   "metadata": {},
   "outputs": [
    {
     "name": "stdout",
     "output_type": "stream",
     "text": [
      "Please Enter your name here \n"
     ]
    }
   ],
   "source": [
    "\n",
    "file_name = 'guest.txt'\n",
    "\n",
    "with open(file_name, 'a') as file_object:\n",
    "    file_object.write(input(\"Please Enter your name here \"))\n",
    "    file_object.write(\"\\nYou're welcome to this city \\n\")\n",
    "    \n",
    "    "
   ]
  },
  {
   "cell_type": "code",
   "execution_count": 171,
   "metadata": {},
   "outputs": [
    {
     "name": "stdout",
     "output_type": "stream",
     "text": [
      "KelvinJohnEkeneJohnEkeneEmekaKEl\n",
      "\n",
      "EKleKeleKelvinKelvin\n",
      "\n",
      "You're welcome to this cityJohn\n",
      "\n",
      "You're welcome to this cityJohn\n",
      "\n",
      "You're welcome to this city\n",
      "\n",
      "John\n",
      "\n",
      "You're welcome to this city \n",
      "\n",
      "Busco\n",
      "\n",
      "You're welcome to this city \n",
      "\n",
      "Johnnn\n",
      "\n",
      "You're welcome to this city \n",
      "\n",
      "Kelvin\n",
      "\n",
      "You're welcome to this city \n",
      "\n",
      "hesk\n",
      "\n",
      "You're welcome to this city \n",
      "\n",
      "bush\n",
      "\n",
      "You're welcome to this city \n",
      "\n",
      "\n",
      "\n",
      "You're welcome to this city \n",
      "\n"
     ]
    }
   ],
   "source": [
    "file_name = 'guest.txt'\n",
    "with open(file_name) as file_object:\n",
    "    for line in file_object:\n",
    "        print(line)"
   ]
  },
  {
   "cell_type": "code",
   "execution_count": 172,
   "metadata": {},
   "outputs": [
    {
     "name": "stdout",
     "output_type": "stream",
     "text": [
      "KelvinJohnEkeneJohnEkeneEmekaKEl\n",
      "\n",
      "EKleKeleKelvinKelvin\n",
      "\n",
      "You're welcome to this cityJohn\n",
      "\n",
      "You're welcome to this cityJohn\n",
      "\n",
      "You're welcome to this city\n",
      "\n",
      "John\n",
      "\n",
      "You're welcome to this city \n",
      "\n",
      "Busco\n",
      "\n",
      "You're welcome to this city \n",
      "\n",
      "Johnnn\n",
      "\n",
      "You're welcome to this city \n",
      "\n",
      "Kelvin\n",
      "\n",
      "You're welcome to this city \n",
      "\n",
      "hesk\n",
      "\n",
      "You're welcome to this city \n",
      "\n",
      "bush\n",
      "\n",
      "You're welcome to this city \n",
      "\n",
      "\n",
      "\n",
      "You're welcome to this city \n",
      "\n"
     ]
    }
   ],
   "source": [
    "file_name = 'guest.txt'\n",
    "with open(file_name) as file_object:\n",
    "    content = file_object.readlines()\n",
    "for line in content:\n",
    "    print(line)"
   ]
  },
  {
   "cell_type": "markdown",
   "metadata": {},
   "source": [
    "### Exceptions"
   ]
  },
  {
   "cell_type": "markdown",
   "metadata": {},
   "source": [
    "python uses special cases called exception to manage special cases that occur during a programs execution.\n",
    "\n",
    "Exceptions are handled with try-except blocks. it tells python to do something and also informs python on whaat to do incase an exception is being raised.\n",
    "\n",
    "It kinda replaces the traceback error you are familiar with by now iin python with a more friendly note of error raised, if any.\n"
   ]
  },
  {
   "cell_type": "code",
   "execution_count": 173,
   "metadata": {},
   "outputs": [
    {
     "ename": "ZeroDivisionError",
     "evalue": "division by zero",
     "output_type": "error",
     "traceback": [
      "\u001b[1;31m---------------------------------------------------------------------------\u001b[0m",
      "\u001b[1;31mZeroDivisionError\u001b[0m                         Traceback (most recent call last)",
      "\u001b[1;32m<ipython-input-173-5e88e0d3ace6>\u001b[0m in \u001b[0;36m<module>\u001b[1;34m\u001b[0m\n\u001b[0;32m      1\u001b[0m \u001b[1;31m# Including the ZeroDivisionError Excception\u001b[0m\u001b[1;33m\u001b[0m\u001b[1;33m\u001b[0m\u001b[1;33m\u001b[0m\u001b[0m\n\u001b[0;32m      2\u001b[0m \u001b[1;31m# it is impossible to divide a number by zero in python. let us see the error\u001b[0m\u001b[1;33m\u001b[0m\u001b[1;33m\u001b[0m\u001b[1;33m\u001b[0m\u001b[0m\n\u001b[1;32m----> 3\u001b[1;33m \u001b[0mprint\u001b[0m\u001b[1;33m(\u001b[0m\u001b[1;36m5\u001b[0m\u001b[1;33m/\u001b[0m\u001b[1;36m0\u001b[0m\u001b[1;33m)\u001b[0m\u001b[1;33m\u001b[0m\u001b[1;33m\u001b[0m\u001b[0m\n\u001b[0m\u001b[0;32m      4\u001b[0m \u001b[1;33m\u001b[0m\u001b[0m\n\u001b[0;32m      5\u001b[0m \u001b[1;31m# the reported output zero is a zerodivisionerror\u001b[0m\u001b[1;33m\u001b[0m\u001b[1;33m\u001b[0m\u001b[1;33m\u001b[0m\u001b[0m\n",
      "\u001b[1;31mZeroDivisionError\u001b[0m: division by zero"
     ]
    }
   ],
   "source": [
    "# Including the ZeroDivisionError Excception\n",
    "# it is impossible to divide a number by zero in python. let us see the error\n",
    "print(5/0)\n",
    "\n",
    "# the reported output zero is a zerodivisionerror"
   ]
  },
  {
   "cell_type": "markdown",
   "metadata": {},
   "source": [
    "### using Try-Except block"
   ]
  },
  {
   "cell_type": "code",
   "execution_count": null,
   "metadata": {},
   "outputs": [],
   "source": [
    "# try-except for handling zeroDivisionError\n",
    "\n",
    "try:\n",
    "    print(10/0)\n",
    "except ZeroDivisionError:\n",
    "    print(\"You can't divide by zero\")"
   ]
  },
  {
   "cell_type": "code",
   "execution_count": null,
   "metadata": {},
   "outputs": [],
   "source": [
    "# Using Exceptions to prevent Crashes\n",
    "# let us create a simple calculator that only divides\n",
    "\n",
    "print(\"Give me two numbers, and i'll divide them and perform magic\")\n",
    "print(\"\\nEnter 'quit' to exit\")\n",
    "\n",
    "while True:\n",
    "    first_number = input(\"\\nFirst number: \")\n",
    "    if first_number == 'quit':\n",
    "        break\n",
    "    second_number = input(\"second number: \")\n",
    "    if second_number == 'quit':\n",
    "        break\n",
    "    try:\n",
    "        answer = int(first_number) / int(second_number) # it tries out this code to check for an exception\n",
    "    except ZeroDivisionError:\n",
    "        print(\"You can't divide by 0\") # once we found an exception, it prints out a friendly messsage\n",
    "    else:\n",
    "        print(answer) # we use the else the carry out the original output if no error is encountered"
   ]
  },
  {
   "cell_type": "code",
   "execution_count": null,
   "metadata": {},
   "outputs": [],
   "source": [
    "# Handling  the FileNotFoundError Exception\n",
    "# one common issue while working with files is handling missing files\n",
    "# let us check out how this works.\n",
    "\n",
    "filename = 'alice.txt'\n",
    "with open(filename) as file_object:\n",
    "    contents = file_object.readlines()\n"
   ]
  },
  {
   "cell_type": "markdown",
   "metadata": {},
   "source": [
    "from above, you can see that we encountered a FileNotFoundError type which directly seats on the open() method. This shows the place to insert our try except method."
   ]
  },
  {
   "cell_type": "code",
   "execution_count": null,
   "metadata": {},
   "outputs": [],
   "source": [
    "# try-except\n",
    "\n",
    "filename = 'alice.txt'\n",
    "try:\n",
    "    with open(filename) as file_object:\n",
    "        contents = file_object.readlines()\n",
    "except FileNotFoundError:\n",
    "    print(\"There is no such files like \" + filename +  \" in your directory\")"
   ]
  },
  {
   "cell_type": "code",
   "execution_count": null,
   "metadata": {},
   "outputs": [],
   "source": [
    "# Analyzing text\n",
    "# first let us see how the split method works\n",
    "\n",
    "title = 'i love programming languages'\n",
    "title.split()\n",
    "\n",
    "# the split seperates a string into different parts wherever it finds a space\n",
    "# and stores all the parts of the string as a list now\n"
   ]
  },
  {
   "cell_type": "code",
   "execution_count": null,
   "metadata": {},
   "outputs": [],
   "source": [
    "filename = 'guest.txt'\n",
    "try:\n",
    "    with open(filename) as file_object:\n",
    "        contents = file_object.read()\n",
    "except FileNotFoundError:\n",
    "    print(\"No such file in the directory as \" + filename)\n",
    "else:\n",
    "    # count all the approximate number f words in the file\n",
    "    words = contents.split()\n",
    "    num_word = len(words)\n",
    "    print(\"The file \" + filename + \" has about \" + str(num_word) + \" words\")\n",
    "\n"
   ]
  },
  {
   "cell_type": "code",
   "execution_count": null,
   "metadata": {},
   "outputs": [],
   "source": [
    "\n",
    "\n",
    "filename = 'Kelvin Case Study assignment.txt'\n",
    "\n",
    "try:\n",
    "    with open(filename) as file_object:\n",
    "        contents = file_object.read()\n",
    "except FileNotFoundError:\n",
    "    print(\"No such file in the directory as \" + filename)\n",
    "else:\n",
    "    # count all the approximate number of words in the file\n",
    "    words = contents.split()\n",
    "    num_word = len(words)\n",
    "    print(\"The file \" + filename + \" has about \"+ str(num_word) + \" words\")\n"
   ]
  },
  {
   "cell_type": "code",
   "execution_count": null,
   "metadata": {},
   "outputs": [],
   "source": [
    "# Working with Multiple files\n",
    "# lets create a function called count words\n",
    "\n",
    "def count_words(filename):\n",
    "    \"\"\"Count the approximate number of words in a file\"\"\"\n",
    "    try:\n",
    "        with open(filename) as file_object:\n",
    "            contents = file_object.read()\n",
    "    except FileNotFoundError:\n",
    "        msg = \"Sorry, we could not find the file \" + filename \n",
    "        print(msg)\n",
    "    else:\n",
    "        # count the appreocimatwe number of words in the file\n",
    "        words = contents.split()\n",
    "        num_word = len(words)\n",
    "        print(\"The file \"+ filename + \" has about \"+ str(num_word) + \" words\")"
   ]
  },
  {
   "cell_type": "code",
   "execution_count": null,
   "metadata": {},
   "outputs": [],
   "source": [
    "filename = 'Kelvin Case Study assignment.txt'\n",
    "count_words(filename)"
   ]
  },
  {
   "cell_type": "code",
   "execution_count": null,
   "metadata": {},
   "outputs": [],
   "source": [
    "# let us count multiple text using our created function with one missing file\n",
    "# in this case Alice.txt which we don't have\n",
    "\n",
    "filename = ['Kelvin Case Study assignment.txt', 'guest.txt', 'programming.txt', 'Alice.txt']\n",
    "\n",
    "# using a simple loop method to iterate\n",
    "for file in filename:\n",
    "    count_words(file), print('\\n')\n",
    "    "
   ]
  },
  {
   "cell_type": "markdown",
   "metadata": {},
   "source": [
    "### Failing Silently"
   ]
  },
  {
   "cell_type": "markdown",
   "metadata": {},
   "source": [
    "This is used to bypass the exception error feedback raised by try and except error method. this is referred to as our program falling silently. In this cass, we will just use the pass keyword in our try and except code block.\n",
    "\n",
    "In this case, python will directly communicate with the code and direct it to pass any try and xcept feedback encountered.\n",
    "\n",
    "The pass statement also serves as a placeholder, telling your program that you might revisit it to do something with it later.\n",
    "\n",
    "Sometimes, we don't really want to report all the errors, we would want to decide the error we would want to report. It is up to you to decide which one to display to your users. Display when the feedback is  necessary, else you pass.\n"
   ]
  },
  {
   "cell_type": "code",
   "execution_count": null,
   "metadata": {},
   "outputs": [],
   "source": [
    "def count_words(filename):\n",
    "    \"\"\"Count the approximate number of words in a txt.file\"\"\"\n",
    "    try:\n",
    "        with open(filename) as file_object:\n",
    "            contents = file_object.read()\n",
    "    except FileNotFoundError:\n",
    "        pass \n",
    "    else:\n",
    "        # count the approcimate number\n",
    "        words = contents.split()\n",
    "        num_word = len(words)\n",
    "        print(\"The file \"+ filename + \" has about \"+ str(num_word) + \" words\")\n",
    "        "
   ]
  },
  {
   "cell_type": "code",
   "execution_count": null,
   "metadata": {},
   "outputs": [],
   "source": [
    "# let us count multiple text using our created function with one missing file\n",
    "# in this case Alice.txt which we don't have to try our pass method\n",
    "\n",
    "tester = ['Kelvin Case Study assignment.txt', 'guest.txt', 'programming.txt', 'Alice.txt']\n",
    "\n",
    "for file in tester:\n",
    "    count_words(file), print('\\n')\n",
    "    \n",
    "# the display error for Alice.txt was ignored"
   ]
  },
  {
   "cell_type": "code",
   "execution_count": null,
   "metadata": {},
   "outputs": [],
   "source": [
    "print(\"This adds two numbers together\")\n",
    "\n",
    "first = input(\"Enter first number \")\n",
    "second = input(\"Enter second number \")\n",
    "try:\n",
    "    adding = int(first) + int(second)\n",
    "except ValueError:\n",
    "    print(\" You can only add integers and not text\")\n",
    "else:\n",
    "    print(adding)"
   ]
  },
  {
   "cell_type": "code",
   "execution_count": null,
   "metadata": {},
   "outputs": [],
   "source": [
    "# addition of two int numbers and error hadnling if a text number was used\n",
    "# using reoccuring input with while loop\n",
    "\n",
    "print(\"This gives the addition of any two numbers\")\n",
    "print(\"Enter quit to stop\")\n",
    "\n",
    "while True:\n",
    "    first = input(\" Enter number \") \n",
    "    if first == 'quit':\n",
    "        break\n",
    "    second =input(\" Enter number \") \n",
    "    if second == 'quit':\n",
    "        break\n",
    "    \n",
    "    try:\n",
    "        # adds the both number\n",
    "        adding = int(first) + int(second)\n",
    "    except ValueError:\n",
    "        print(\"You can only add integer numbers\")\n",
    "    else:\n",
    "        print(adding)\n",
    "        \n",
    "    \n",
    "                              "
   ]
  },
  {
   "cell_type": "code",
   "execution_count": null,
   "metadata": {},
   "outputs": [],
   "source": [
    "# creating cat and god name txt file in my directory\n",
    "\n",
    "cat_names = 'cat names.txt'\n",
    "with open(cat_names, 'a') as file_obj:\n",
    "    file_obj.write('Amibo.\\n')\n",
    "    file_obj.write('Akiri.\\n')\n",
    "    file_obj.write('suso.\\n')\n",
    "    \n",
    "dog_names = 'dog names.txt'\n",
    "with open(dog_names, 'a') as file_object:\n",
    "    file_object.write('Bull. \\n')\n",
    "    file_object.write('Police. \\n')\n",
    "    file_object.write('kaddy. \\n')"
   ]
  },
  {
   "cell_type": "code",
   "execution_count": null,
   "metadata": {},
   "outputs": [],
   "source": [
    "filename = 'cat names.txt'\n",
    "with open(filename) as file_name:\n",
    "    contents = file_name.read()\n",
    "for line in contents.split():\n",
    "    print(line)"
   ]
  },
  {
   "cell_type": "code",
   "execution_count": null,
   "metadata": {},
   "outputs": [],
   "source": [
    "filename = 'dog names.txt'\n",
    "try:\n",
    "    with open(filename) as file_obj:\n",
    "        contents = file_obj.read()\n",
    "except FileNotFoundError:\n",
    "    print(\"File missing in the directory\")\n",
    "else:\n",
    "    for line in contents.split():\n",
    "        print(line)"
   ]
  },
  {
   "cell_type": "code",
   "execution_count": null,
   "metadata": {},
   "outputs": [],
   "source": [
    "filename = 'dug names.txt'\n",
    "try:\n",
    "    with open(filename) as file_obj:\n",
    "        contents = file_obj.read()\n",
    "except FileNotFoundError:\n",
    "    print(\"File missing in the directory\")\n",
    "else:\n",
    "    for line in contents.split():\n",
    "        print(line)"
   ]
  },
  {
   "cell_type": "code",
   "execution_count": null,
   "metadata": {},
   "outputs": [],
   "source": [
    "# passing silently\n",
    "filename = 'dug names.txt'\n",
    "try:\n",
    "    with open(filename) as file_obj:\n",
    "        contents = file_obj.read()\n",
    "except FileNotFoundError:\n",
    "    pass\n",
    "else:\n",
    "    for line in contents.split():\n",
    "        print(line)"
   ]
  },
  {
   "cell_type": "code",
   "execution_count": null,
   "metadata": {},
   "outputs": [],
   "source": [
    "filename = 'dog names.txt'\n",
    "try:\n",
    "    with open(filename) as file_obj:\n",
    "        contents = file_obj.read()\n",
    "except FileNotFoundError:\n",
    "    pass\n",
    "else:\n",
    "    for line in contents.split():\n",
    "        print(line)"
   ]
  },
  {
   "cell_type": "code",
   "execution_count": null,
   "metadata": {},
   "outputs": [],
   "source": [
    "filename = 'Kelvin Case Study assignment.txt'\n",
    "\n",
    "with open(filename) as file_object:\n",
    "    contents = file_object.read()\n",
    "    words = contents.split()\n",
    "words.count('select')\n",
    "\n",
    "    "
   ]
  },
  {
   "cell_type": "markdown",
   "metadata": {},
   "source": [
    "### Storing Data"
   ]
  },
  {
   "cell_type": "markdown",
   "metadata": {},
   "source": [
    "most of your program will require users to input there details, and will store this details in form of list, dictionaries etc. You will have to store this users information in data structures. SImple way of storing your users data is through the json module.\n",
    "\n",
    "The json module helps you to dump simple python data structures into a file and load the data from that file the next time the program runs.\n",
    "\n",
    "we can also share data between different python programs using json. JSON means JavaScript Object Notation. It is a data format."
   ]
  },
  {
   "cell_type": "markdown",
   "metadata": {},
   "source": [
    "### Using Json.dump() and Json.load()"
   ]
  },
  {
   "cell_type": "code",
   "execution_count": null,
   "metadata": {},
   "outputs": [],
   "source": [
    "# let us store a set of numbers by writing a program\n",
    "# in storing the set of numbers which is a data format, we will use\n",
    "# json.dump(), like dumping the data.\n",
    "# the json.dump() takes in two arguments, a piece of data to store and the file \n",
    "# object it can use in storing the data.\n",
    "\n",
    "import json\n",
    "\n",
    "league = [2,3,4,5,23,54]\n",
    "\n",
    "# write a program to write this into memory\n",
    "\n",
    "filename = 'league.json' # storing it as a json format\n",
    "with open(filename, 'w') as file_obj: # writing the data into the file\n",
    "    json.dump(league, file_obj)  # storing the numbers in the file league\n",
    "    \n",
    "# this generates no output at this instance\n",
    "\n"
   ]
  },
  {
   "cell_type": "code",
   "execution_count": null,
   "metadata": {},
   "outputs": [],
   "source": [
    "# reading our json file into memory\n",
    "\n",
    "filename = 'league.json'\n",
    "with open(filename) as f_obj:\n",
    "    leagues = json.load(f_obj)\n",
    "print(leagues)"
   ]
  },
  {
   "cell_type": "markdown",
   "metadata": {},
   "source": [
    "### Saving and Reading User-Generated Data"
   ]
  },
  {
   "cell_type": "code",
   "execution_count": null,
   "metadata": {},
   "outputs": [],
   "source": [
    "# let us generate a program that will request and store a users \n",
    "# firstname the first time the run our program, but subsequenlty remebers the info\n",
    "\n",
    "import json\n",
    "\n",
    "firstname = input(\"Please, enter your first name here \")\n",
    "lastname = input(\"Enter your last name \")\n",
    "\n",
    "filename = 'username.json'\n",
    "\n",
    "# writing it into memory\n",
    "with open(filename, 'w') as f_obj:\n",
    "    json.dump([firstname, lastname], f_obj)\n",
    "    print(\"We have recorded the details of this user \" + firstname +\" \" + lastname)"
   ]
  },
  {
   "cell_type": "code",
   "execution_count": null,
   "metadata": {},
   "outputs": [],
   "source": [
    "# let us write a program that greets a user whose name has already been stored\n",
    "\n",
    "filename = 'username.json'\n",
    "with open(filename) as file_obj:\n",
    "    contents = json.load(file_obj)\n",
    "    print(\"welcome back, \" + firstname +\" \"+ lastname)"
   ]
  },
  {
   "cell_type": "markdown",
   "metadata": {},
   "source": [
    "### Refractoring"
   ]
  },
  {
   "cell_type": "code",
   "execution_count": null,
   "metadata": {},
   "outputs": [],
   "source": [
    "# writing a program that prompts for a favorite number and dumping it\n",
    "# using json\n",
    "\n",
    "def favorite_num():\n",
    "    \"\"\"prompts and stores users favorite number\"\"\"\n",
    "    fav_num = input(\"please enter your favorite number \")\n",
    "    file_num = 'file_num.json'\n",
    "    with open(file_num,'w') as file_num:\n",
    "        json.dump(fav_num, file_num)\n",
    "        print(\"Your number has been recorded\")\n",
    "        \n",
    "        "
   ]
  },
  {
   "cell_type": "code",
   "execution_count": null,
   "metadata": {
    "scrolled": true
   },
   "outputs": [],
   "source": [
    "favorite_num()"
   ]
  },
  {
   "cell_type": "code",
   "execution_count": null,
   "metadata": {},
   "outputs": [],
   "source": [
    "# a program that reads this fav_num\n",
    "\n",
    "def read_fav_num():\n",
    "    \"\"\"read my recorded fav num\"\"\"\n",
    "    reader_num = \"file_num.json\"\n",
    "    with open(reader_num) as read_obj:\n",
    "        read_num = json.load(read_obj)\n",
    "        print(read_num)"
   ]
  },
  {
   "cell_type": "code",
   "execution_count": null,
   "metadata": {},
   "outputs": [],
   "source": [
    "read_fav_num()"
   ]
  },
  {
   "cell_type": "code",
   "execution_count": null,
   "metadata": {},
   "outputs": [],
   "source": [
    "# let us combine this function together\n",
    "# if the number is stored, we print it else, we record it\n",
    "\n",
    "def combine_reader():\n",
    "    \"\"\"Reads and stores recorded num\"\"\"\n",
    "    file_number = \"filenumber.json\"\n",
    "    try:\n",
    "        with open(file_number) as file_num:\n",
    "            num_read = json.load(file_num)\n",
    "    except FileNotFoundError:\n",
    "        num_read = input(\"Please enter favorite number \")\n",
    "        with open(file_number,'w') as file_num:\n",
    "            json.dump(num_read, file_num)\n",
    "            print(\"your favorite number has been recorded\")\n",
    "    else:\n",
    "        print(num_read)\n"
   ]
  },
  {
   "cell_type": "code",
   "execution_count": 182,
   "metadata": {
    "scrolled": true
   },
   "outputs": [
    {
     "name": "stdout",
     "output_type": "stream",
     "text": [
      "1923\n"
     ]
    }
   ],
   "source": [
    "combine_reader()"
   ]
  },
  {
   "cell_type": "code",
   "execution_count": 183,
   "metadata": {},
   "outputs": [
    {
     "name": "stdout",
     "output_type": "stream",
     "text": [
      "1923\n"
     ]
    }
   ],
   "source": [
    "combine_reader()"
   ]
  },
  {
   "cell_type": "code",
   "execution_count": 184,
   "metadata": {},
   "outputs": [],
   "source": [
    "# let us write a program that will retriveo\n",
    "import json\n",
    "\n",
    "def get_stored_username():\n",
    "    \"\"\"Get stored username if available\"\"\"\n",
    "    filename = 'username.json'\n",
    "    try:\n",
    "        with open(filename) as f_obj:\n",
    "            username = json.load(f_obj)\n",
    "    except FileNotFoundError:\n",
    "        return None\n",
    "    else:\n",
    "        return username\n",
    "\n",
    "def get_new_username():\n",
    "    \"\"\"prompt for a new username\"\"\"\n",
    "    username = input(\"Enter your username here \")\n",
    "    filename = 'username.json'\n",
    "    with open(filename, 'w') as f_obj:\n",
    "        json.dump(username, f_obj)\n",
    "    return username\n",
    "\n",
    "def greet_user():\n",
    "    \"\"\"Greet the user by name\"\"\"\n",
    "    username = get_stored_username()\n",
    "    if username:\n",
    "        print(\"Is \" + username + \" your username?\")\n",
    "    else:\n",
    "        username = get_new_username()\n",
    "        print(\"Your user details \" + username +  \" has been recorded\")\n"
   ]
  },
  {
   "cell_type": "code",
   "execution_count": 185,
   "metadata": {},
   "outputs": [
    {
     "name": "stdout",
     "output_type": "stream",
     "text": [
      "Is Ekene your username?\n"
     ]
    }
   ],
   "source": [
    "greet_user()"
   ]
  },
  {
   "cell_type": "code",
   "execution_count": 186,
   "metadata": {},
   "outputs": [
    {
     "name": "stdout",
     "output_type": "stream",
     "text": [
      "Enter your username here Johnson\n"
     ]
    },
    {
     "data": {
      "text/plain": [
       "'Johnson'"
      ]
     },
     "execution_count": 186,
     "metadata": {},
     "output_type": "execute_result"
    }
   ],
   "source": [
    "get_new_username()"
   ]
  },
  {
   "cell_type": "code",
   "execution_count": 188,
   "metadata": {},
   "outputs": [
    {
     "name": "stdout",
     "output_type": "stream",
     "text": [
      "Is Johnson your username?\n"
     ]
    }
   ],
   "source": [
    "greet_user()"
   ]
  },
  {
   "cell_type": "code",
   "execution_count": 189,
   "metadata": {},
   "outputs": [
    {
     "name": "stdout",
     "output_type": "stream",
     "text": [
      "Enter your username here kelvin\n"
     ]
    },
    {
     "data": {
      "text/plain": [
       "'kelvin'"
      ]
     },
     "execution_count": 189,
     "metadata": {},
     "output_type": "execute_result"
    }
   ],
   "source": [
    "get_new_username()"
   ]
  },
  {
   "cell_type": "code",
   "execution_count": 190,
   "metadata": {},
   "outputs": [
    {
     "name": "stdout",
     "output_type": "stream",
     "text": [
      "Is kelvin your username?\n"
     ]
    }
   ],
   "source": [
    "greet_user()"
   ]
  },
  {
   "cell_type": "code",
   "execution_count": 191,
   "metadata": {},
   "outputs": [
    {
     "data": {
      "text/plain": [
       "'kelvin'"
      ]
     },
     "execution_count": 191,
     "metadata": {},
     "output_type": "execute_result"
    }
   ],
   "source": [
    "get_stored_username()"
   ]
  }
 ],
 "metadata": {
  "kernelspec": {
   "display_name": "Python 3",
   "language": "python",
   "name": "python3"
  },
  "language_info": {
   "codemirror_mode": {
    "name": "ipython",
    "version": 3
   },
   "file_extension": ".py",
   "mimetype": "text/x-python",
   "name": "python",
   "nbconvert_exporter": "python",
   "pygments_lexer": "ipython3",
   "version": "3.7.7"
  }
 },
 "nbformat": 4,
 "nbformat_minor": 4
}
