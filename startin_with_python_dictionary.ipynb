{
 "cells": [
  {
   "cell_type": "markdown",
   "metadata": {},
   "source": [
    "### Dictionary"
   ]
  },
  {
   "cell_type": "markdown",
   "metadata": {},
   "source": [
    "Having an idea on how information are gathered and stored will help us in our understanding of how dictionary functions. I mean storing related information.\n",
    "\n",
    "in this learning, you'll understand how related information are stored, gathered and accessed"
   ]
  },
  {
   "cell_type": "code",
   "execution_count": 39,
   "metadata": {
    "scrolled": true
   },
   "outputs": [
    {
     "name": "stdout",
     "output_type": "stream",
     "text": [
      "red\n",
      "you just earned 5 points\n"
     ]
    }
   ],
   "source": [
    "#let's start with simple dictionary\n",
    "#let's consider a game featuring alien that can have different colors and point values\n",
    "\n",
    "alien_0 = {'color': 'red', 'points': 5}\n",
    "print(alien_0['color']) #stores the color value\n",
    "print('you just earned '+ str(alien_0['points'])+' points') #stores the point value"
   ]
  },
  {
   "cell_type": "markdown",
   "metadata": {},
   "source": [
    "A dictionary in python is a collection of key-value pairs. that is, each key is connected to a value, and you can use the key to access the value associated with the key.\n",
    "\n",
    "A key's value can be a number, a string, a list or even a dictionary."
   ]
  },
  {
   "cell_type": "code",
   "execution_count": 40,
   "metadata": {},
   "outputs": [
    {
     "name": "stdout",
     "output_type": "stream",
     "text": [
      "{'color': 'red', 'points': 5}\n",
      "{'color': 'red', 'points': 5, 'x_position': 0, 'y_position': 30}\n"
     ]
    }
   ],
   "source": [
    "print(alien_0)\n",
    "alien_0['x_position'] = 0\n",
    "alien_0['y_position'] = 30\n",
    "\n",
    "print(alien_0)"
   ]
  },
  {
   "cell_type": "code",
   "execution_count": 41,
   "metadata": {},
   "outputs": [
    {
     "name": "stdout",
     "output_type": "stream",
     "text": [
      "{'color': 'green', 'points': 10, 'x_position': 30, 'y_position': 30}\n"
     ]
    }
   ],
   "source": [
    "#starting with an empty dictionary\n",
    "\n",
    "#building alien_1 from scratch\n",
    "\n",
    "alien_1 = {} #setting an empty dictionary\n",
    "alien_1['color'] = 'green'\n",
    "alien_1['points'] = 10\n",
    "alien_1['x_position'] = 30\n",
    "alien_1['y_position'] = 30\n",
    "\n",
    "print(alien_1)\n"
   ]
  },
  {
   "cell_type": "code",
   "execution_count": 42,
   "metadata": {},
   "outputs": [
    {
     "name": "stdout",
     "output_type": "stream",
     "text": [
      "The alien is red.\n",
      "The alien is now yellow.\n"
     ]
    }
   ],
   "source": [
    "#modifying your dictionary\n",
    "\n",
    "alien_0 = {'color': 'red', 'points': 5}\n",
    "print(\"The alien is \"+ alien_0['color'] +'.')\n",
    "\n",
    "alien_0['color'] = 'yellow'\n",
    "print(\"The alien is now \" + alien_0['color'] + \".\")"
   ]
  },
  {
   "cell_type": "code",
   "execution_count": 43,
   "metadata": {},
   "outputs": [
    {
     "name": "stdout",
     "output_type": "stream",
     "text": [
      "Original x-position: 0\n",
      "New x-position: 2\n"
     ]
    }
   ],
   "source": [
    "#tracking the position of an alien that can move at different speeds\n",
    "alien_0 = {'x_position': 0, 'y_position': 25, 'speed': 'fast'}\n",
    "print(\"Original x-position: \"+ str(alien_0['x_position']))\n",
    "alien_0['speed'] = 'medium'\n",
    "#move the alien to the right.\n",
    "# determine how far to move the alien based on its current speed\n",
    "\n",
    "if alien_0['speed'] == 'slow':\n",
    "    x_increment = 1\n",
    "elif alien_0['speed'] == 'medium':\n",
    "    x_increment = 2\n",
    "else:\n",
    "    #this must be a fast alien\n",
    "    x_increment = 3\n",
    "\n",
    "#The new position is the old position plus the new position\n",
    "\n",
    "alien_0['x_position'] = alien_0['x_position'] + x_increment\n",
    "\n",
    "print(\"New x-position: \" + str(alien_0['x_position']))"
   ]
  },
  {
   "cell_type": "code",
   "execution_count": 46,
   "metadata": {},
   "outputs": [
    {
     "name": "stdout",
     "output_type": "stream",
     "text": [
      "{'color': 'green', 'points': 5}\n"
     ]
    }
   ],
   "source": [
    "#removing key-value pairs\n",
    "alien_0 = {'color': 'green', 'points': 5}\n",
    "\n",
    "print(alien_0)"
   ]
  },
  {
   "cell_type": "code",
   "execution_count": 47,
   "metadata": {},
   "outputs": [
    {
     "name": "stdout",
     "output_type": "stream",
     "text": [
      "{'color': 'green'}\n"
     ]
    }
   ],
   "source": [
    "del alien_0['points']\n",
    "print(alien_0)"
   ]
  },
  {
   "cell_type": "markdown",
   "metadata": {},
   "source": [
    "### Dictionary of similar objects"
   ]
  },
  {
   "cell_type": "code",
   "execution_count": 83,
   "metadata": {},
   "outputs": [
    {
     "name": "stdout",
     "output_type": "stream",
     "text": [
      "{'Jen': 'python', 'Emeka': 'R', 'John': 'c', 'Ekene': 'ruby', 'Edward': 'python'}\n"
     ]
    }
   ],
   "source": [
    "#multiple instances of storing information in a dictionary\n",
    "\n",
    "favorite_language = {\n",
    "    'Jen': 'python',\n",
    "    'Emeka': 'R',\n",
    "    'John': 'c',\n",
    "    'Ekene': 'ruby',\n",
    "    'Edward': 'python',\n",
    "    }\n",
    "\n",
    "print(favorite_language)"
   ]
  },
  {
   "cell_type": "code",
   "execution_count": 99,
   "metadata": {},
   "outputs": [
    {
     "name": "stdout",
     "output_type": "stream",
     "text": [
      "jen's favorite language is Python.\n"
     ]
    }
   ],
   "source": [
    "print(\"jen's favorite language is \"+ \n",
    "      str(favorite_language['Jen'].title()+ \n",
    "      '.'))"
   ]
  },
  {
   "cell_type": "code",
   "execution_count": 85,
   "metadata": {},
   "outputs": [
    {
     "name": "stdout",
     "output_type": "stream",
     "text": [
      "\n",
      "Jen's favorite langauge is Python\n",
      "\n",
      "Emeka's favorite langauge is R\n",
      "\n",
      "John's favorite langauge is C\n",
      "\n",
      "Ekene's favorite langauge is Ruby\n",
      "\n",
      "Edward's favorite langauge is Python\n"
     ]
    }
   ],
   "source": [
    "for name, language in favorite_language.items():\n",
    "    print(\"\\n\"+ name.title() +\n",
    "          \"'s favorite langauge is \" +\n",
    "          language.title())"
   ]
  },
  {
   "cell_type": "code",
   "execution_count": 86,
   "metadata": {},
   "outputs": [
    {
     "name": "stdout",
     "output_type": "stream",
     "text": [
      "{'first_name': 'John', 'last_name': 'Omeh', 'age': 24, 'city': 'Ikorodu', 'state': 'Lagos'}\n"
     ]
    }
   ],
   "source": [
    "personal_info = {\n",
    "    'first_name': 'John',\n",
    "    'last_name': 'Omeh',\n",
    "    'age': 24,\n",
    "    'city': 'Ikorodu',\n",
    "    'state': 'Lagos',\n",
    "    }\n",
    "print(personal_info)"
   ]
  },
  {
   "cell_type": "code",
   "execution_count": 87,
   "metadata": {},
   "outputs": [
    {
     "name": "stdout",
     "output_type": "stream",
     "text": [
      "\n",
      "key: First_Name\n",
      "value: John\n",
      "\n",
      "key: Last_Name\n",
      "value: Omeh\n",
      "\n",
      "key: Age\n",
      "value: 24\n",
      "\n",
      "key: City\n",
      "value: Ikorodu\n",
      "\n",
      "key: State\n",
      "value: Lagos\n"
     ]
    }
   ],
   "source": [
    "for k, v in personal_info.items():\n",
    "    print(\"\\nkey: \"+ k.title())\n",
    "    print(\"value: \"+ str(v))"
   ]
  },
  {
   "cell_type": "code",
   "execution_count": 88,
   "metadata": {
    "scrolled": true
   },
   "outputs": [
    {
     "name": "stdout",
     "output_type": "stream",
     "text": [
      "\n",
      "key: username\n",
      "value: kelvino\n",
      "\n",
      "key: first\n",
      "value: kelv\n",
      "\n",
      "key: last\n",
      "value: ino\n"
     ]
    }
   ],
   "source": [
    "#looping through a dictionary\n",
    "\n",
    "user_0 = {\n",
    "    'username': 'kelvino',\n",
    "    'first': \"kelv\",\n",
    "    'last': 'ino',\n",
    "    }\n",
    "\n",
    "for key, value in user_0.items():\n",
    "    print(\"\\nkey: \" + key)\n",
    "    print(\"value: \" + value)"
   ]
  },
  {
   "cell_type": "code",
   "execution_count": 89,
   "metadata": {},
   "outputs": [
    {
     "name": "stdout",
     "output_type": "stream",
     "text": [
      "Jen\n",
      "Emeka\n",
      "John\n",
      "Ekene\n",
      "Edward\n",
      "\n",
      "\n",
      "Python\n",
      "R\n",
      "C\n",
      "Ruby\n",
      "Python\n"
     ]
    }
   ],
   "source": [
    "#looping through all the keys in the dictionary\n",
    "\n",
    "#this works perfectly well when we don't necessary need the values\n",
    "for name in favorite_language.keys():\n",
    "    print(name.title())\n",
    "    \n",
    "print('\\n')\n",
    "\n",
    "#getting only the values in the dictionary\n",
    "for name in favorite_language.values():\n",
    "    print(name.title())"
   ]
  },
  {
   "cell_type": "code",
   "execution_count": 90,
   "metadata": {},
   "outputs": [
    {
     "name": "stdout",
     "output_type": "stream",
     "text": [
      "Jen\n",
      "Emeka\n",
      "John\n",
      " Hi John, i see your favorite language is C!\n",
      "Ekene\n",
      " Hi Ekene, i see your favorite language is Ruby!\n",
      "Edward\n"
     ]
    }
   ],
   "source": [
    "\n",
    "friends = ['Ekene', 'James', \"John\"]\n",
    "\n",
    "for name in favorite_language.keys():\n",
    "    print(name.title())\n",
    "    \n",
    "    if name in friends:\n",
    "        print(\" Hi \"+ name.title() + \n",
    "             \", i see your favorite language is \"\n",
    "             + favorite_language[name].title() + \"!\")"
   ]
  },
  {
   "cell_type": "code",
   "execution_count": 91,
   "metadata": {},
   "outputs": [
    {
     "name": "stdout",
     "output_type": "stream",
     "text": [
      "Edward thank you for the pull.\n",
      "Ekene thank you for the pull.\n",
      "Emeka thank you for the pull.\n",
      "Jen thank you for the pull.\n",
      "John thank you for the pull.\n"
     ]
    }
   ],
   "source": [
    "#looping through s dictionary's keys in order\n",
    "\n",
    "for k in sorted(favorite_language.keys()):\n",
    "    print(k.title() + \" thank you for the pull.\")\n"
   ]
  },
  {
   "cell_type": "code",
   "execution_count": 97,
   "metadata": {},
   "outputs": [
    {
     "name": "stdout",
     "output_type": "stream",
     "text": [
      "{'Jen': 'python', 'Emeka': 'R', 'John': 'c', 'Ekene': 'ruby', 'Edward': 'python'}\n",
      "\n",
      "Python is my favorite.\n",
      "\n",
      "R is my favorite.\n",
      "\n",
      "C is my favorite.\n",
      "\n",
      "Ruby is my favorite.\n",
      "\n",
      "Python is my favorite.\n"
     ]
    }
   ],
   "source": [
    "#looping through all values in the dictionary\n",
    "print(favorite_language)\n",
    "\n",
    "for language in favorite_language.values():\n",
    "    print(\"\\n\" + language.title() + \" is my favorite.\")"
   ]
  },
  {
   "cell_type": "code",
   "execution_count": 98,
   "metadata": {},
   "outputs": [
    {
     "name": "stdout",
     "output_type": "stream",
     "text": [
      "Ruby\n",
      "C\n",
      "Python\n",
      "R\n"
     ]
    }
   ],
   "source": [
    "#a set is used to return unique items in a list\n",
    "\n",
    "for language in set(favorite_language.values()):\n",
    "    print(language.title())"
   ]
  },
  {
   "cell_type": "code",
   "execution_count": 103,
   "metadata": {},
   "outputs": [
    {
     "name": "stdout",
     "output_type": "stream",
     "text": [
      "Nile runs through egypt\n",
      "Niger runs through nigeria\n",
      "Chad runs through chad\n",
      "Benue runs through nigeria\n",
      "Blue runs through ghana\n"
     ]
    }
   ],
   "source": [
    "rivers = {\n",
    "    'nile': 'egypt',\n",
    "    'niger': 'nigeria',\n",
    "    'chad': 'chad',\n",
    "    'benue': 'nigeria',\n",
    "    'blue': 'ghana',\n",
    "    }\n",
    "for river in rivers.keys():\n",
    "    print(river.title() + \" runs through \" + rivers[river])"
   ]
  },
  {
   "cell_type": "code",
   "execution_count": 108,
   "metadata": {},
   "outputs": [
    {
     "name": "stdout",
     "output_type": "stream",
     "text": [
      "Nile\n",
      "Niger\n",
      "Chad\n",
      "Benue\n",
      "Blue\n",
      "\n",
      "\n",
      "Egypt\n",
      "Nigeria\n",
      "Chad\n",
      "Nigeria\n",
      "Ghana\n"
     ]
    }
   ],
   "source": [
    "for river in rivers.keys():\n",
    "    print(river.title())\n",
    "print('\\n')\n",
    "\n",
    "for value in rivers.values():\n",
    "    print(value.title())"
   ]
  },
  {
   "cell_type": "markdown",
   "metadata": {},
   "source": [
    "### Nesting"
   ]
  },
  {
   "cell_type": "markdown",
   "metadata": {},
   "source": [
    "nesting invloves storing a set of values as a list in a dictionary or storing a set of dictionaries in a list."
   ]
  },
  {
   "cell_type": "code",
   "execution_count": 114,
   "metadata": {},
   "outputs": [
    {
     "name": "stdout",
     "output_type": "stream",
     "text": [
      "{'food': 'rice', 'price': '$10'}\n",
      "{'food': 'beans', 'price': '$8'}\n",
      "{'food': 'spaghetti', 'price': '$10'}\n"
     ]
    }
   ],
   "source": [
    "#nesting a list of dictionaries\n",
    "first_order = {'food': 'rice', 'price': '$10'}\n",
    "second_order = {'food': 'beans', 'price': '$8'}\n",
    "third_order = {'food': 'spaghetti', 'price': '$10'}\n",
    "\n",
    "#let us nest this dictionaries as a list\n",
    "order = [first_order, second_order, third_order]\n",
    "\n",
    "#looping through each dictionary\n",
    "for food in order:\n",
    "    print(food)\n",
    "\n"
   ]
  },
  {
   "cell_type": "code",
   "execution_count": 115,
   "metadata": {},
   "outputs": [
    {
     "name": "stdout",
     "output_type": "stream",
     "text": [
      "{'food': 'rice', 'price': '$10'}\n",
      "{'food': 'rice', 'price': '$10'}\n",
      "{'food': 'rice', 'price': '$10'}\n",
      "{'food': 'rice', 'price': '$10'}\n",
      "{'food': 'rice', 'price': '$10'}\n",
      "...\n",
      "total number of ordered food: 30\n"
     ]
    }
   ],
   "source": [
    "#let us use range function in creating more orders\n",
    "#creating an empty list\n",
    "order = []\n",
    "\n",
    "#making 30 range of ordered rice\n",
    "for food in range(30):\n",
    "    set_order = {'food': 'rice', 'price': '$10'}\n",
    "    order.append(set_order)\n",
    "    \n",
    "#showing the first five food ordered\n",
    "for food in order[:5]:\n",
    "    print(food)\n",
    "print(\"...\")\n",
    "\n",
    "print(\"total number of ordered food: \" +str(len(order)))\n",
    "\n",
    "    \n",
    "    "
   ]
  },
  {
   "cell_type": "code",
   "execution_count": 121,
   "metadata": {},
   "outputs": [
    {
     "name": "stdout",
     "output_type": "stream",
     "text": [
      "{'food': 'beans', 'price': '$8'}\n",
      "{'food': 'beans', 'price': '$8'}\n",
      "{'food': 'beans', 'price': '$8'}\n",
      "{'food': 'rice', 'price': '$10'}\n",
      "{'food': 'rice', 'price': '$10'}\n"
     ]
    }
   ],
   "source": [
    "for food in order[:3]:\n",
    "    if food['food'] == 'rice':\n",
    "        food['food'] = 'beans'\n",
    "        food['price'] = '$8'\n",
    "for food in order[:5]:\n",
    "    print(food)"
   ]
  },
  {
   "cell_type": "code",
   "execution_count": 126,
   "metadata": {},
   "outputs": [
    {
     "name": "stdout",
     "output_type": "stream",
     "text": [
      "you ordered a thick-type of pizza with the following toppings:\n",
      "\tshawama\n",
      "\tbiscuit\n",
      "\tbrisket\n"
     ]
    }
   ],
   "source": [
    "#list in a dictionary\n",
    "\n",
    "pizza = {\n",
    "    'type': 'thick',\n",
    "    'order': ['shawama', 'biscuit', 'brisket'],\n",
    "    }\n",
    "#summarizing the order\n",
    "\n",
    "print(\"you ordered a \" + pizza['type'] + \"-type of pizza\"\n",
    "     + \" with the following toppings:\")\n",
    "\n",
    "for order in pizza['order']:\n",
    "    print(\"\\t\" + order)"
   ]
  },
  {
   "cell_type": "code",
   "execution_count": 136,
   "metadata": {},
   "outputs": [
    {
     "name": "stdout",
     "output_type": "stream",
     "text": [
      "\n",
      "Jen's favorite languages are:\n",
      "\tPython\n",
      "\tR\n",
      "\tPhp\n",
      "\tSql\n",
      "\n",
      "Emeka's favorite languages are:\n",
      "\tR\n",
      "\tSql\n",
      "\tPostgresql\n",
      "\n",
      "John's favorite languages are:\n",
      "\tC\n",
      "\tJava\n",
      "\tJavascript\n",
      "\n",
      "Ekene's favorite languages are:\n",
      "\tEkene favorite language is Ruby\n",
      "\n",
      "Edward's favorite languages are:\n",
      "\tPython\n",
      "\tMysql\n",
      "\tC\n"
     ]
    }
   ],
   "source": [
    "\n",
    "favorite_language = {\n",
    "    'Jen': ['python', 'R', 'PHP','SQL'],\n",
    "    'Emeka': ['R', 'SQL', 'Postgresql'],\n",
    "    'John': ['c', 'Java', 'Javascript'],\n",
    "    'Ekene': ['ruby'],\n",
    "    'Edward': ['python', 'MySQL', 'c'],\n",
    "    }\n",
    "for key, languages in favorite_language.items():\n",
    "    print(\"\\n\" + key.title() + \"'s favorite languages are:\")\n",
    "    for language in languages:\n",
    "        if len(languages) > 1:\n",
    "            print('\\t' + language.title())\n",
    "        else:\n",
    "            print('\\t' + key.title() +' favorite language is '+ language.title())"
   ]
  },
  {
   "cell_type": "code",
   "execution_count": 142,
   "metadata": {},
   "outputs": [
    {
     "name": "stdout",
     "output_type": "stream",
     "text": [
      "\n",
      "Username: Ekene_3\n",
      "\t  Fullname: Ekene Eze\n",
      "\t  Age: 34\n",
      "\n",
      "Username: Sixtus\n",
      "\t  Fullname: Sixtus Okah\n",
      "\t  Age: 23\n"
     ]
    }
   ],
   "source": [
    "#nesting a dictionary inside a dictionary\n",
    "\n",
    "users = {\n",
    "    'Ekene_3': {\n",
    "        'first_name': 'Ekene',\n",
    "        'last_name': 'Eze',\n",
    "        'Age': 34,\n",
    "        },\n",
    "    'Sixtus': {\n",
    "        'first_name': 'Sixtus',\n",
    "        'last_name': 'Okah',\n",
    "        'Age': 23,\n",
    "        },\n",
    "    }\n",
    "for user, user_info in users.items():\n",
    "    print(\"\\nUsername: \"+ user)\n",
    "    fullname = user_info['first_name'] + \" \" + user_info['last_name'] \n",
    "    Age = user_info['Age']\n",
    "    \n",
    "    print('\\t  Fullname: ' + fullname.title())\n",
    "    print('\\t  Age: ' + str(Age))"
   ]
  },
  {
   "cell_type": "code",
   "execution_count": null,
   "metadata": {},
   "outputs": [],
   "source": []
  }
 ],
 "metadata": {
  "kernelspec": {
   "display_name": "Python 3",
   "language": "python",
   "name": "python3"
  },
  "language_info": {
   "codemirror_mode": {
    "name": "ipython",
    "version": 3
   },
   "file_extension": ".py",
   "mimetype": "text/x-python",
   "name": "python",
   "nbconvert_exporter": "python",
   "pygments_lexer": "ipython3",
   "version": "3.7.7"
  }
 },
 "nbformat": 4,
 "nbformat_minor": 4
}
