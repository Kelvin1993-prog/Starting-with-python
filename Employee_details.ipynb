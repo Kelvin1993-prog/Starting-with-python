{
 "cells": [
  {
   "cell_type": "code",
   "execution_count": 3,
   "metadata": {},
   "outputs": [],
   "source": [
    "class Employee():\n",
    "    \"\"\"Employees annaul salary\"\"\"\n",
    "    \n",
    "    def __init__(self, first, last, salary):\n",
    "        \"\"\"Employees details\"\"\"\n",
    "        self.first = first.title()\n",
    "        self.last = last.title()\n",
    "        self.salary = salary\n",
    "        \n",
    "    def give_raise(self, salary=5000):\n",
    "        self.salary += salary\n",
    "    "
   ]
  },
  {
   "cell_type": "code",
   "execution_count": null,
   "metadata": {},
   "outputs": [],
   "source": []
  }
 ],
 "metadata": {
  "kernelspec": {
   "display_name": "Python 3",
   "language": "python",
   "name": "python3"
  },
  "language_info": {
   "codemirror_mode": {
    "name": "ipython",
    "version": 3
   },
   "file_extension": ".py",
   "mimetype": "text/x-python",
   "name": "python",
   "nbconvert_exporter": "python",
   "pygments_lexer": "ipython3",
   "version": "3.7.7"
  }
 },
 "nbformat": 4,
 "nbformat_minor": 4
}
