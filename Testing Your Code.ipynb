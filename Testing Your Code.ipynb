{
 "cells": [
  {
   "cell_type": "markdown",
   "metadata": {},
   "source": [
    "### Testing your code\n",
    "\n"
   ]
  },
  {
   "cell_type": "markdown",
   "metadata": {},
   "source": [
    "Testing provides that your code works perfectly for all inputs required in its form. It can be a class or a function. Every programmer makes mistakes with their codes, so it is better to test your code to know the problem before the users.\n",
    "\n",
    "In this short tutorial, you will learn:\n",
    "\n",
    "How to test your code using tools in python.\n",
    "\n",
    "How to build a set of test codes.\n",
    "\n",
    "How a passing and failing test looks like.\n",
    "\n",
    "How to test functions and classes.\n",
    "\n",
    "How many tests to write for a project.\n",
    "\n"
   ]
  },
  {
   "cell_type": "markdown",
   "metadata": {},
   "source": [
    "### Testing a Function"
   ]
  },
  {
   "cell_type": "code",
   "execution_count": 112,
   "metadata": {},
   "outputs": [],
   "source": [
    "# let us first write s function that takes in first and last name and displays it.\n",
    "\n",
    "# def get_formatted_name(first, last):\n",
    "#     \"\"\"Generate a neatly formatted full name\"\"\"\n",
    "#     full_name = first + ' ' + last\n",
    "#     return full_name.title()\n",
    "\n",
    "# i have saved this as a different module so that i can import it as a module below"
   ]
  },
  {
   "cell_type": "code",
   "execution_count": 113,
   "metadata": {},
   "outputs": [
    {
     "name": "stdout",
     "output_type": "stream",
     "text": [
      "The autoreload extension is already loaded. To reload it, use:\n",
      "  %reload_ext autoreload\n",
      "Enter 'quit' at any point to quit. \n",
      "\n",
      "Please enter your first name: ke;\n",
      "Please enter your last name: ed\n",
      "\tNeatly formatted name: Ke; Ed.\n",
      "\n",
      "Please enter your first name: quit\n"
     ]
    }
   ],
   "source": [
    "# making a program that uses this functions\n",
    "%load_ext autoreload\n",
    "%autoreload 2\n",
    "\n",
    "from get_names import get_formatted_name\n",
    "\n",
    "print(\"Enter 'quit' at any point to quit. \")\n",
    "\n",
    "while True:\n",
    "    first = input(\"\\nPlease enter your first name: \")\n",
    "    if first == 'quit':\n",
    "        break\n",
    "    last = input(\"Please enter your last name: \")\n",
    "    if last == 'quit':\n",
    "        break\n",
    "    formatted_name = get_formatted_name(first, last)\n",
    "    print(\"\\tNeatly formatted name: \" + formatted_name + '.')"
   ]
  },
  {
   "cell_type": "markdown",
   "metadata": {},
   "source": [
    "One of the tedious task in manually testing our code is to run the function each time we make a desired changes in the program. \n",
    "\n",
    "Python has a way of automating this task of changes so that it wont look tedious"
   ]
  },
  {
   "cell_type": "markdown",
   "metadata": {},
   "source": [
    "### Unit Test and Test Cases"
   ]
  },
  {
   "cell_type": "markdown",
   "metadata": {},
   "source": [
    "we will use the module unittest from python standard library which provides tools for testing our code.\n",
    "\n",
    "Unit test just like the name implies testing a specific aspect of a functions behaviours to check if it is correct.\n",
    "\n",
    "A test case is a collection of unit tests that together prove that a function behaves as it is supposed to within the full range of situations you expect it to handle. A good test case involves considering all the possible types of inputs the functions would recieve and includes test to represent each of these situations.\n",
    "\n",
    "\n",
    "\n"
   ]
  },
  {
   "cell_type": "markdown",
   "metadata": {},
   "source": [
    "### A passing Test\n",
    "\n",
    "The syntax for setting up a test might take a brief time to get used to, but once you are done with it, adding unit test is now pretty forward for your functions.\n",
    "\n",
    "To write a test case for our function, we would import the unittest module first and the function we want to test.\n",
    "\n",
    "The second step afterwards is to create a class that inherits from the unittest. Then testcase and write a series of methods to test different aspects of our functions behaviour.\n",
    "\n"
   ]
  },
  {
   "cell_type": "code",
   "execution_count": 119,
   "metadata": {},
   "outputs": [
    {
     "name": "stderr",
     "output_type": "stream",
     "text": [
      "test_city_country (__main__.CountryTestCase)\n",
      "Do names like Lagos Nigeria work here? ... ok\n",
      "test_city_country (__main__.NamesTestCase)\n",
      "Do names like Aba Nigeria work here? ... ok\n",
      "test_first_last_name (__main__.NamesTestCase)\n",
      "Do names like Kelvin Nnabugwu work? ... ok\n",
      "test_middle_names (__main__.NamesTestCase)\n",
      "Do names like Kelvin John Bark work? ... ok\n",
      "\n",
      "----------------------------------------------------------------------\n",
      "Ran 4 tests in 0.029s\n",
      "\n",
      "OK\n"
     ]
    },
    {
     "data": {
      "text/plain": [
       "<unittest.main.TestProgram at 0x1a623273c08>"
      ]
     },
     "execution_count": 119,
     "metadata": {},
     "output_type": "execute_result"
    }
   ],
   "source": [
    "# let us write a test case to confirm that our get_formatted_name works well\n",
    "\n",
    "# first step\n",
    "import unittest\n",
    "from get_names import get_formatted_name\n",
    "\n",
    "# second step\n",
    "class NamesTestCase(unittest.TestCase):\n",
    "    \"\"\"Tests for 'get_names.py'.\"\"\"\n",
    "    \n",
    "    def test_first_last_name(self):\n",
    "        \"\"\"Do names like Kelvin Nnabugwu work?\"\"\"\n",
    "        formatted_name = get_formatted_name('kelvin', 'john')\n",
    "        self.assertEqual(formatted_name, 'Kelvin John')\n",
    "        \n",
    "    def test_middle_names(self):\n",
    "        \"\"\"Do names like Kelvin John Bark work?\"\"\"\n",
    "        formatted_names = get_middle_name('kelvin', 'john', 'bark')\n",
    "        self.assertEqual(formatted_names, 'Kelvin Bark John')\n",
    "        \n",
    "    def test_city_country(self):\n",
    "        \"\"\"Do names like Lagos Nigeria work here?\"\"\"\n",
    "        formatted_name = country_city('lagos', 'nigeria', '234213')\n",
    "        self.assertEqual(formatted_name, 'Lagos Nigeria 234213')\n",
    "    def test_city_country(self):\n",
    "        \"\"\"Do names like Aba Nigeria work here?\"\"\"\n",
    "        formatted_name = country_city('aba', 'nigeria')\n",
    "        self.assertEqual(formatted_name, 'Aba Nigeria')\n",
    "\n",
    "unittest.main(argv=['ignored','-v'], exit=False)"
   ]
  },
  {
   "cell_type": "markdown",
   "metadata": {},
   "source": [
    "### A Failing Test"
   ]
  },
  {
   "cell_type": "markdown",
   "metadata": {},
   "source": [
    "From the above we could see that we have a failed status error. In breaking this error down, we could see that there is a lot of errors here.\n",
    "\n",
    "From the above, we could see that the Error happened at the test_middle_names() in MiddleTestCase caused an error. Finaaly, we could see the TypeError notification which suggests that our error is as a result of missing one required positional argument.\n",
    "\n",
    "FInally, a report showing that we have one error failed case and we ran 2 tests succesfully."
   ]
  },
  {
   "cell_type": "markdown",
   "metadata": {},
   "source": [
    "### Responding to a failed Test"
   ]
  },
  {
   "cell_type": "markdown",
   "metadata": {},
   "source": [
    "A passing test means that the functions is behaving correclty and a failing test means that there is an error in the new code we wrote. so when our test fails, we dont need to change the test, rather, we need to fix the code that caused the text to fail.\n",
    "\n",
    "In this case, our get_middle_name() requires two parameters, both first and last, and the middle name is occasionally given. So we have to modify our code to make the function accept the middle name if given, and still maintain balance when not given.\n",
    "\n",
    "If you are using Jupyter, the easiest way to remodify your created module without need to close and reload your jupyter is by putting this cell code magic at the beginning of your jupyter notebook\n",
    "\n",
    "%load_ext autoreload\n",
    "\n",
    "%autoreload 2"
   ]
  },
  {
   "cell_type": "code",
   "execution_count": 115,
   "metadata": {},
   "outputs": [
    {
     "data": {
      "text/plain": [
       "'Ekene John'"
      ]
     },
     "execution_count": 115,
     "metadata": {},
     "output_type": "execute_result"
    }
   ],
   "source": [
    "import get_names\n",
    "\n",
    "first_last = get_formatted_name('ekene', 'john')\n",
    "first_last"
   ]
  },
  {
   "cell_type": "code",
   "execution_count": 116,
   "metadata": {},
   "outputs": [
    {
     "data": {
      "text/plain": [
       "'Ekene Kelly John'"
      ]
     },
     "execution_count": 116,
     "metadata": {},
     "output_type": "execute_result"
    }
   ],
   "source": [
    "full_name = get_middle_name('ekene', 'john', 'kelly')\n",
    "full_name"
   ]
  },
  {
   "cell_type": "markdown",
   "metadata": {},
   "source": [
    "### mini Project\n",
    "\n",
    "i just created a function that accepts a city and country name while giving a nicely returned output.\n",
    "\n",
    "I want to test the function"
   ]
  },
  {
   "cell_type": "markdown",
   "metadata": {},
   "source": [
    "You could see from the output that anything related to test_ ran and was succesful. this shows that the unittest carries and shows all succesful tested codes with test_ format.\n"
   ]
  },
  {
   "cell_type": "code",
   "execution_count": null,
   "metadata": {},
   "outputs": [],
   "source": []
  }
 ],
 "metadata": {
  "kernelspec": {
   "display_name": "Python 3",
   "language": "python",
   "name": "python3"
  },
  "language_info": {
   "codemirror_mode": {
    "name": "ipython",
    "version": 3
   },
   "file_extension": ".py",
   "mimetype": "text/x-python",
   "name": "python",
   "nbconvert_exporter": "python",
   "pygments_lexer": "ipython3",
   "version": "3.7.7"
  }
 },
 "nbformat": 4,
 "nbformat_minor": 4
}
