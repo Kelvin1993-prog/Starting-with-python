{
 "cells": [
  {
   "cell_type": "markdown",
   "metadata": {},
   "source": [
    "### Testing Class"
   ]
  },
  {
   "cell_type": "markdown",
   "metadata": {},
   "source": [
    "In our previous tutorial which can be seen from my git(Testing your code), we tested a single function.\n",
    "\n",
    "But what of if we wanted to test for a class which comprises of different functions?.\n",
    "\n",
    "We will frequently come across building classes for our project, and it willbe a good practice to test our class to make sure that everything is on the spot.\n"
   ]
  },
  {
   "cell_type": "markdown",
   "metadata": {},
   "source": [
    "### A variety of Assert Methods"
   ]
  },
  {
   "cell_type": "markdown",
   "metadata": {},
   "source": [
    "Most of the available assert methods, which in its aim, gives us the valuability of our code as eithr true or not true, or if a given value or instance of our code will return the expected value or not.\n",
    "\n",
    "Some of the assert methods available from the unittest module are:\n",
    "\n",
    "assertEqual(a, b) which verify that a == b\n",
    "\n",
    "asserrtNotEqaul(a, b) which verifies that a != b\n",
    "\n",
    "assertTrue(a) which verifies that a is True\n",
    "\n",
    "assertFalse(a) which verifies that a is False\n",
    "\n",
    "assertIn(item, list) which verify that item is in list\n",
    "\n",
    "assertNotIn(item, list) which verify that item is not in list"
   ]
  },
  {
   "cell_type": "markdown",
   "metadata": {},
   "source": [
    "### A Class Test"
   ]
  },
  {
   "cell_type": "markdown",
   "metadata": {},
   "source": [
    "Testing a class is similar to testing a function. Much of our work invloves testing the behaviour of the methods in the class. \n",
    "\n",
    "lets create a class that looks at anonymous survey reports"
   ]
  },
  {
   "cell_type": "code",
   "execution_count": 68,
   "metadata": {},
   "outputs": [],
   "source": [
    "# class AnonymousSurvey():\n",
    "#     \"\"\"collect anonymous answers to a survey question\"\"\"\n",
    "    \n",
    "#     def __init__(self, question):\n",
    "#         \"\"\"store a question, and prepare to store responses\"\"\"\n",
    "#         self.question = question\n",
    "#         self.responses = []\n",
    "        \n",
    "#     def show_question(self):\n",
    "#         \"\"\"show the survey question\"\"\"\n",
    "#         print(self.question)\n",
    "    \n",
    "#     def store_response(self, new_response):\n",
    "#         \"\"\"store a single response to a survey\"\"\"\n",
    "#         self.responses.append(new_response)\n",
    "        \n",
    "#     def show_results(self):\n",
    "#         \"\"\"show all the responses that have been given\"\"\"\n",
    "#         print(\"Survey results:\")\n",
    "#         for response in responses:\n",
    "#             print('- ' + response)"
   ]
  },
  {
   "cell_type": "markdown",
   "metadata": {},
   "source": [
    "This class starts with a survey question that you provide and includes an empty list in which the responses are stored.\n",
    "\n",
    "The class has methods to print the survey question which is the show_question method(), and add a new response to the response list through the store_response() method.\n",
    "\n",
    "It then prints all the stored responses in this class.\n",
    "\n"
   ]
  },
  {
   "cell_type": "code",
   "execution_count": 69,
   "metadata": {},
   "outputs": [
    {
     "name": "stdout",
     "output_type": "stream",
     "text": [
      "The autoreload extension is already loaded. To reload it, use:\n",
      "  %reload_ext autoreload\n",
      "What is your learned programming labguages?\n",
      "Enter 'quit' at any time to exit.\n",
      "\n",
      "Language: sql\n",
      "Language: python\n",
      "Language: java\n",
      "Language: quit\n",
      "\n",
      "Thank you to eveyone who participated in this survey!\n",
      "Survey results:\n",
      "- SQL\n",
      "- PYTHON\n",
      "- JAVA\n"
     ]
    }
   ],
   "source": [
    "# showing that the AnonymousSurvey works\n",
    "%load_ext autoreload\n",
    "%autoreload 2\n",
    "\n",
    "from survey import AnonymousSurvey\n",
    "\n",
    "# Define a question, make a survey\n",
    "question = \"What is your learned programming labguages?\"\n",
    "my_survey = AnonymousSurvey(question)\n",
    "\n",
    "# Show the question and store the responses to the question\n",
    "my_survey.show_question()\n",
    "print(\"Enter 'quit' at any time to exit.\\n\")\n",
    "\n",
    "while True:\n",
    "    response = input(\"Language: \")\n",
    "    if response == 'quit':\n",
    "        break\n",
    "    my_survey.store_response(response)\n",
    "    \n",
    "# show the survey results\n",
    "print(\"\\nThank you to eveyone who participated in this survey!\")\n",
    "my_survey.show_results()"
   ]
  },
  {
   "cell_type": "markdown",
   "metadata": {},
   "source": [
    "### Testing the AnonymousSurvey Class"
   ]
  },
  {
   "cell_type": "code",
   "execution_count": 70,
   "metadata": {},
   "outputs": [
    {
     "name": "stderr",
     "output_type": "stream",
     "text": [
      "test_store_single_response (__main__.TestAnonymousSurvey)\n",
      "Test that a single response is stored properly ... ok\n",
      "test_give_custom_raise (__main__.TestEmployee) ... ok\n",
      "test_give_default_raise (__main__.TestEmployee) ... ok\n",
      "\n",
      "----------------------------------------------------------------------\n",
      "Ran 3 tests in 0.010s\n",
      "\n",
      "OK\n"
     ]
    },
    {
     "data": {
      "text/plain": [
       "<unittest.main.TestProgram at 0x264829e5f08>"
      ]
     },
     "execution_count": 70,
     "metadata": {},
     "output_type": "execute_result"
    }
   ],
   "source": [
    "import unittest\n",
    "from survey import AnonymousSurvey\n",
    "\n",
    "class TestAnonymousSurvey(unittest.TestCase):\n",
    "    \"\"\"Tests for the class AnonymousSurvey\"\"\"\n",
    "    \n",
    "    def test_store_single_response(self):\n",
    "        \"\"\"Test that a single response is stored properly\"\"\"\n",
    "        question = \"What is your learned programming labguages?\"\n",
    "        my_survey = AnonymousSurvey(question)\n",
    "        my_survey.store_response('sql')\n",
    "        self.assertIn('sql', my_survey.responses)\n",
    "    \n",
    "unittest.main(argv=['ignored', '-v'], exit=False)"
   ]
  },
  {
   "cell_type": "code",
   "execution_count": 71,
   "metadata": {},
   "outputs": [
    {
     "name": "stderr",
     "output_type": "stream",
     "text": [
      "test_store_single_response (__main__.TestAnonymousSurvey)\n",
      "Test that a single response is stored properly ... ok\n",
      "test_store_three_responses (__main__.TestAnonymousSurvey)\n",
      "Test that three individual responses is stored properly ... ok\n",
      "test_give_custom_raise (__main__.TestEmployee) ... ok\n",
      "test_give_default_raise (__main__.TestEmployee) ... ok\n",
      "\n",
      "----------------------------------------------------------------------\n",
      "Ran 4 tests in 0.022s\n",
      "\n",
      "OK\n"
     ]
    },
    {
     "data": {
      "text/plain": [
       "<unittest.main.TestProgram at 0x264829a97c8>"
      ]
     },
     "execution_count": 71,
     "metadata": {},
     "output_type": "execute_result"
    }
   ],
   "source": [
    "# let us verify more responses to the above one\n",
    "\n",
    "import unittest\n",
    "from survey import AnonymousSurvey\n",
    "\n",
    "class TestAnonymousSurvey(unittest.TestCase):\n",
    "    \"\"\"Tests for the class AnonymousSurvey\"\"\"\n",
    "    \n",
    "    def test_store_single_response(self):\n",
    "        \"\"\"Test that a single response is stored properly\"\"\"\n",
    "        question = \"What is your learned programming labguages?\"\n",
    "        my_survey = AnonymousSurvey(question)\n",
    "        my_survey.store_response('sql')\n",
    "        self.assertIn('sql', my_survey.responses)\n",
    "        \n",
    "    def test_store_three_responses(self):\n",
    "        \"\"\"Test that three individual responses is stored properly\"\"\"\n",
    "        question = \"What is your learned programming labguages?\"\n",
    "        my_survey = AnonymousSurvey(question)\n",
    "        responses = ['sql', 'excel', 'python']\n",
    "        for response in responses:\n",
    "            my_survey.store_response(response)\n",
    "        for response in responses:\n",
    "            self.assertIn(response, my_survey.responses)\n",
    "    \n",
    "unittest.main(argv=['ignored', '-v'], exit=False)\n"
   ]
  },
  {
   "cell_type": "markdown",
   "metadata": {},
   "source": [
    "### The setUp() Method"
   ]
  },
  {
   "cell_type": "code",
   "execution_count": 72,
   "metadata": {},
   "outputs": [
    {
     "name": "stderr",
     "output_type": "stream",
     "text": [
      "test_store_single_response (__main__.TestAnonymousSurvey)\n",
      "Test that a single response is stored properly ... ok\n",
      "test_store_three_responses (__main__.TestAnonymousSurvey)\n",
      "Test that three individual responses are stored properly ... ok\n",
      "test_give_custom_raise (__main__.TestEmployee) ... ok\n",
      "test_give_default_raise (__main__.TestEmployee) ... ok\n",
      "\n",
      "----------------------------------------------------------------------\n",
      "Ran 4 tests in 0.019s\n",
      "\n",
      "OK\n"
     ]
    },
    {
     "data": {
      "text/plain": [
       "<unittest.main.TestProgram at 0x26482ac9e88>"
      ]
     },
     "execution_count": 72,
     "metadata": {},
     "output_type": "execute_result"
    }
   ],
   "source": [
    "# Creating a survey instance and a set of response.\n",
    "# that can be used in both test_store_single_response and test_store_three_responses()\n",
    "\n",
    "import unittest\n",
    "from survey import AnonymousSurvey\n",
    "\n",
    "class TestAnonymousSurvey(unittest.TestCase):\n",
    "    \"\"\"Tests for the class AnonymousSurvey\"\"\"\n",
    "    \n",
    "    def setUp(self):\n",
    "        \"\"\"\n",
    "        Creat a survey and a set of responses for the use in all test methods\n",
    "        \"\"\"\n",
    "        question = \"What is your learned programming languages\"\n",
    "        self.my_survey = AnonymousSurvey(question)\n",
    "        self.responses = ['sql', 'python', 'java']\n",
    "        \n",
    "    def test_store_single_response(self):\n",
    "        \"\"\"Test that a single response is stored properly\"\"\"\n",
    "        self.my_survey.store_response(self.responses[0])\n",
    "        self.assertIn(self.responses[0], self.my_survey.responses)\n",
    "        \n",
    "    def test_store_three_responses(self):\n",
    "        \"\"\"Test that three individual responses are stored properly\"\"\"\n",
    "        for response in self.responses:\n",
    "            self.my_survey.store_response(response)\n",
    "        for response in self.responses:\n",
    "            self.assertIn(response, self.my_survey.responses)\n",
    "            \n",
    "unittest.main(argv=['ignored', '-v'], exit=False)"
   ]
  },
  {
   "cell_type": "code",
   "execution_count": 79,
   "metadata": {},
   "outputs": [
    {
     "name": "stderr",
     "output_type": "stream",
     "text": [
      "test_store_single_response (__main__.TestAnonymousSurvey)\n",
      "Test that a single response is stored properly ... ok\n",
      "test_store_three_responses (__main__.TestAnonymousSurvey)\n",
      "Test that three individual responses are stored properly ... ok\n",
      "test_give_custom_raise (__main__.TestEmployee) ... ok\n",
      "test_give_default_raise (__main__.TestEmployee) ... ok\n",
      "\n",
      "----------------------------------------------------------------------\n",
      "Ran 4 tests in 0.006s\n",
      "\n",
      "OK\n"
     ]
    },
    {
     "data": {
      "text/plain": [
       "<unittest.main.TestProgram at 0x264815f4408>"
      ]
     },
     "execution_count": 79,
     "metadata": {},
     "output_type": "execute_result"
    }
   ],
   "source": [
    "%reload_ext autoreload\n",
    "import unittest\n",
    "from Employee_details import Employee\n",
    "\n",
    "class TestEmployee(unittest.TestCase):\n",
    "    \"\"\"Tests the details and annual salary of employee module\"\"\"\n",
    "    \n",
    "    def setUp(self):\n",
    "        \"\"\"\n",
    "        Create the test for each employee\n",
    "        \"\"\"\n",
    "        self.Emeka = Employee('emeka', 'john', 55000)\n",
    "        self.chioma = Employee('chioma', 'doris', 80000)\n",
    "\n",
    "    def test_give_default_raise(self):\n",
    "        self.Emeka.give_raise()\n",
    "        self.chioma.give_raise()\n",
    "        self.assertEqual(self.Emeka.salary, 60000)\n",
    "        self.assertEqual(self.chioma.salary, 85000)\n",
    "    def test_give_custom_raise(self):\n",
    "        self.Emeka.give_raise(50000)\n",
    "        self.chioma.give_raise(80000)\n",
    "        self.assertEqual(self.Emeka.salary, 105000)\n",
    "        self.assertEqual(self.chioma.salary, 160000)\n",
    "        \n",
    "unittest.main(argv=['ignored', '-v'], exit=False)"
   ]
  },
  {
   "cell_type": "code",
   "execution_count": null,
   "metadata": {},
   "outputs": [],
   "source": []
  }
 ],
 "metadata": {
  "kernelspec": {
   "display_name": "Python 3",
   "language": "python",
   "name": "python3"
  },
  "language_info": {
   "codemirror_mode": {
    "name": "ipython",
    "version": 3
   },
   "file_extension": ".py",
   "mimetype": "text/x-python",
   "name": "python",
   "nbconvert_exporter": "python",
   "pygments_lexer": "ipython3",
   "version": "3.7.7"
  }
 },
 "nbformat": 4,
 "nbformat_minor": 4
}
