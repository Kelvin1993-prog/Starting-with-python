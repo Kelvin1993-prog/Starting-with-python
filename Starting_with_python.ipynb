{
 "cells": [
  {
   "cell_type": "markdown",
   "metadata": {},
   "source": [
    "### All the things you need to know to start with Python"
   ]
  },
  {
   "cell_type": "code",
   "execution_count": 1,
   "metadata": {},
   "outputs": [
    {
     "name": "stdout",
     "output_type": "stream",
     "text": [
      "hello world\n"
     ]
    }
   ],
   "source": [
    "#let's start with the first every concept in programming language\n",
    "#by now, you should have python3 installed in your system\n",
    "\n",
    "print(\"hello world\")\n",
    "\n",
    "#a traditional belief in programming world, that starting with this brings luck. So goodluck to you"
   ]
  },
  {
   "cell_type": "markdown",
   "metadata": {},
   "source": [
    "congrats, you're now a programmer, so where do we move on next?\n",
    "\n"
   ]
  },
  {
   "cell_type": "markdown",
   "metadata": {},
   "source": [
    "### Strings"
   ]
  },
  {
   "cell_type": "markdown",
   "metadata": {},
   "source": [
    "it is a data type. it can be used in many ways and are quite simple.\n",
    "\n",
    "we can refer to strings as a series of characters. Thus anything inside quote are referred to as strings"
   ]
  },
  {
   "cell_type": "code",
   "execution_count": 2,
   "metadata": {},
   "outputs": [
    {
     "name": "stdout",
     "output_type": "stream",
     "text": [
      "I told him that \"Messi seems to be the best player\", on planet earth.\n"
     ]
    }
   ],
   "source": [
    "#example of a string\n",
    "\n",
    "print('I told him that \"Messi seems to be the best player\", on planet earth.')"
   ]
  },
  {
   "cell_type": "code",
   "execution_count": 3,
   "metadata": {},
   "outputs": [
    {
     "name": "stdout",
     "output_type": "stream",
     "text": [
      "Ada Mbaku\n"
     ]
    }
   ],
   "source": [
    "#we can use strings in various ways\n",
    "\n",
    "name = \"ada mbaku\" #cahnging case in string\n",
    "print(name.title()) #watch the output \n",
    "\n",
    "#title() method cahnges our first characters to caplock"
   ]
  },
  {
   "cell_type": "markdown",
   "metadata": {},
   "source": [
    "i mentioned new concepts here. method. a method is an action that python can perform on a piece of data. you can notice that i used the dot(.) option to tell title to act on the variable name.\n",
    "\n",
    "title displays each word in titlecase, that is each word begins with capital letter"
   ]
  },
  {
   "cell_type": "code",
   "execution_count": 4,
   "metadata": {},
   "outputs": [
    {
     "name": "stdout",
     "output_type": "stream",
     "text": [
      "ADA MBAKU\n",
      "ada mbaku\n"
     ]
    }
   ],
   "source": [
    "#let us practice more methods\n",
    "\n",
    "print(name.upper())\n",
    "print(name.lower())"
   ]
  },
  {
   "cell_type": "markdown",
   "metadata": {},
   "source": [
    "### Concatenating or combining strings"
   ]
  },
  {
   "cell_type": "code",
   "execution_count": 5,
   "metadata": {},
   "outputs": [
    {
     "name": "stdout",
     "output_type": "stream",
     "text": [
      "Emeka Johnson\n"
     ]
    }
   ],
   "source": [
    "#let's imagine a case where you want to store and combine the first and last name together.\n",
    "\n",
    "first_name = \"Emeka\" #you can use anything for yours\n",
    "last_name = \"Johnson\"\n",
    "\n",
    "combined_name = first_name + \" \" + last_name #we added a line space using \" \"\n",
    "print(combined_name)\n",
    "\n",
    "#python uses the (+) to combine strings.this method of combining strings is refered to as concatenation"
   ]
  },
  {
   "cell_type": "code",
   "execution_count": 6,
   "metadata": {},
   "outputs": [
    {
     "name": "stdout",
     "output_type": "stream",
     "text": [
      "EMEKA JOHNSON\n"
     ]
    }
   ],
   "source": [
    "#let's make it all caplock\n",
    "\n",
    "print(combined_name.upper())"
   ]
  },
  {
   "cell_type": "code",
   "execution_count": 7,
   "metadata": {},
   "outputs": [
    {
     "name": "stdout",
     "output_type": "stream",
     "text": [
      "Hello Emeka Johnson!\n"
     ]
    }
   ],
   "source": [
    "print(\"Hello\"+ \" \" + combined_name.title() + \"!\")"
   ]
  },
  {
   "cell_type": "markdown",
   "metadata": {},
   "source": [
    "in Programming, whitespace refers to non printing character like space, tabs etc."
   ]
  },
  {
   "cell_type": "code",
   "execution_count": 8,
   "metadata": {},
   "outputs": [
    {
     "name": "stdout",
     "output_type": "stream",
     "text": [
      "python\n",
      "\tpython\n",
      "python \n",
      "is the best\n",
      "langauage ever\n"
     ]
    }
   ],
   "source": [
    "print(\"python\")\n",
    "print(\"\\tpython\")\n",
    "print(\"python \\nis the best\\nlangauage ever\")"
   ]
  },
  {
   "cell_type": "code",
   "execution_count": 9,
   "metadata": {},
   "outputs": [
    {
     "data": {
      "text/plain": [
       "'calistus'"
      ]
     },
     "execution_count": 9,
     "metadata": {},
     "output_type": "execute_result"
    }
   ],
   "source": [
    "#sometimes while working with strings, whitespace can occur at places you don't want. it is  good to make sure you remove it\n",
    "\n",
    "name = \"calistus \"\n",
    "name\n",
    "\n",
    "name.rstrip() #this removes the whitespace found at the right side of the variable\n"
   ]
  },
  {
   "cell_type": "code",
   "execution_count": 10,
   "metadata": {},
   "outputs": [
    {
     "name": "stdout",
     "output_type": "stream",
     "text": [
      "kudo's\n"
     ]
    }
   ],
   "source": [
    "name = \"kudo's\"\n",
    "print(name)"
   ]
  },
  {
   "cell_type": "code",
   "execution_count": 11,
   "metadata": {},
   "outputs": [
    {
     "name": "stdout",
     "output_type": "stream",
     "text": [
      "\tonce you have seen life's trouble, \n",
      "\tthen success is on it's way\n"
     ]
    }
   ],
   "source": [
    "kasie = \"\\tonce you have seen life's trouble, \\n\\tthen success is on it's way\"\n",
    "print(kasie)"
   ]
  },
  {
   "cell_type": "markdown",
   "metadata": {},
   "source": [
    "### Number"
   ]
  },
  {
   "cell_type": "code",
   "execution_count": 12,
   "metadata": {},
   "outputs": [
    {
     "name": "stdout",
     "output_type": "stream",
     "text": [
      "5\n",
      "8\n"
     ]
    }
   ],
   "source": [
    "#integers, python allows us to do numerical calculation on integer values\n",
    "\n",
    "print(2+3)\n",
    "print(2**3)#2 raise to the power of 3\n"
   ]
  },
  {
   "cell_type": "code",
   "execution_count": 13,
   "metadata": {},
   "outputs": [
    {
     "name": "stdout",
     "output_type": "stream",
     "text": [
      "0.554\n",
      "101.80000000000001\n"
     ]
    }
   ],
   "source": [
    "#float, this are numbers with decimal points in python\n",
    "print(0.32 + 0.234)\n",
    "print(78.4+23.4)"
   ]
  },
  {
   "cell_type": "code",
   "execution_count": 14,
   "metadata": {},
   "outputs": [
    {
     "name": "stdout",
     "output_type": "stream",
     "text": [
      "guy happy 34rd birthday\n"
     ]
    }
   ],
   "source": [
    "age = 34\n",
    "message = \"guy \" + \"happy \" + str(age)+ \"rd birthday\"\n",
    "print(message)"
   ]
  },
  {
   "cell_type": "code",
   "execution_count": 15,
   "metadata": {},
   "outputs": [
    {
     "data": {
      "text/plain": [
       "'guy happy 34rd birthday'"
      ]
     },
     "execution_count": 15,
     "metadata": {},
     "output_type": "execute_result"
    }
   ],
   "source": [
    "message.strip()"
   ]
  },
  {
   "cell_type": "code",
   "execution_count": 16,
   "metadata": {},
   "outputs": [
    {
     "name": "stdout",
     "output_type": "stream",
     "text": [
      "8\n",
      "8\n",
      "8.0\n"
     ]
    }
   ],
   "source": [
    "print(3+5)\n",
    "print(2*4)\n",
    "\n",
    "print(16/2)"
   ]
  },
  {
   "cell_type": "code",
   "execution_count": 17,
   "metadata": {},
   "outputs": [
    {
     "name": "stdout",
     "output_type": "stream",
     "text": [
      "can Messi win his 8 ballon d'or?\n"
     ]
    }
   ],
   "source": [
    "messi = 16-8\n",
    "message = \"can Messi win his \" + str(messi) + \" ballon d'or?\"\n",
    "print(message)"
   ]
  },
  {
   "cell_type": "code",
   "execution_count": 18,
   "metadata": {},
   "outputs": [
    {
     "name": "stdout",
     "output_type": "stream",
     "text": [
      "[\"can Messi win his 8 ballon d'or?\"]\n"
     ]
    }
   ],
   "source": [
    "#splitlines splits our message across lines\n",
    "message_type = message.splitlines()\n",
    "print(message_type)\n"
   ]
  },
  {
   "cell_type": "code",
   "execution_count": 19,
   "metadata": {},
   "outputs": [
    {
     "data": {
      "text/plain": [
       "['can', 'Messi', 'win', 'his', '8', 'ballon', \"d'or?\"]"
      ]
     },
     "execution_count": 19,
     "metadata": {},
     "output_type": "execute_result"
    }
   ],
   "source": [
    "#split functions like its name, but this time splits accross words\n",
    "message.split()"
   ]
  },
  {
   "cell_type": "code",
   "execution_count": 20,
   "metadata": {},
   "outputs": [
    {
     "name": "stdout",
     "output_type": "stream",
     "text": [
      "The Zen of Python, by Tim Peters\n",
      "\n",
      "Beautiful is better than ugly.\n",
      "Explicit is better than implicit.\n",
      "Simple is better than complex.\n",
      "Complex is better than complicated.\n",
      "Flat is better than nested.\n",
      "Sparse is better than dense.\n",
      "Readability counts.\n",
      "Special cases aren't special enough to break the rules.\n",
      "Although practicality beats purity.\n",
      "Errors should never pass silently.\n",
      "Unless explicitly silenced.\n",
      "In the face of ambiguity, refuse the temptation to guess.\n",
      "There should be one-- and preferably only one --obvious way to do it.\n",
      "Although that way may not be obvious at first unless you're Dutch.\n",
      "Now is better than never.\n",
      "Although never is often better than *right* now.\n",
      "If the implementation is hard to explain, it's a bad idea.\n",
      "If the implementation is easy to explain, it may be a good idea.\n",
      "Namespaces are one honking great idea -- let's do more of those!\n"
     ]
    }
   ],
   "source": [
    "import this"
   ]
  },
  {
   "cell_type": "markdown",
   "metadata": {},
   "source": [
    "### Welcome to List\n",
    "\n",
    "#### Part 2"
   ]
  },
  {
   "cell_type": "markdown",
   "metadata": {},
   "source": [
    "Brief intro, list allows you to store set of information in one place, whether just a few items or a millions. "
   ]
  },
  {
   "cell_type": "code",
   "execution_count": 21,
   "metadata": {},
   "outputs": [
    {
     "name": "stdout",
     "output_type": "stream",
     "text": [
      "['messi', 'jong', 'suarez', 'dembele', 'busquet']\n",
      "\n",
      "\n",
      "Messi\n"
     ]
    }
   ],
   "source": [
    "#let's create a list of individual players\n",
    "\n",
    "barca = ['messi', 'jong', 'suarez', 'dembele', 'busquet']\n",
    "print(barca)\n",
    "\n",
    "print('\\n')\n",
    "\n",
    "#accessing indiviual players name\n",
    "print(barca[0].title())"
   ]
  },
  {
   "cell_type": "markdown",
   "metadata": {},
   "source": [
    "At this point, you might have wondered while we started at index [0] instead of the usual 1.\n",
    "\n",
    "python considers the first item in a list to be at position 0.\n",
    "\n"
   ]
  },
  {
   "cell_type": "code",
   "execution_count": 22,
   "metadata": {},
   "outputs": [
    {
     "name": "stdout",
     "output_type": "stream",
     "text": [
      "Jong\n",
      "Suarez\n"
     ]
    }
   ],
   "source": [
    "print(barca[1].title()) #returns the 2nd element in the list\n",
    "print(barca[2].title()) #returns the 3rd element in the list"
   ]
  },
  {
   "cell_type": "code",
   "execution_count": 23,
   "metadata": {},
   "outputs": [
    {
     "name": "stdout",
     "output_type": "stream",
     "text": [
      "Busquet\n"
     ]
    }
   ],
   "source": [
    "print(barca[-1].title()) # accessing the last element in the list. python made it possible for us to do this, in cases where we are unfamiliar with the information which usually the case"
   ]
  },
  {
   "cell_type": "code",
   "execution_count": 24,
   "metadata": {},
   "outputs": [
    {
     "name": "stdout",
     "output_type": "stream",
     "text": [
      "Emeka prefer's playing Messi as a striker\n"
     ]
    }
   ],
   "source": [
    "# let us create a message from an element in the list\n",
    "message = \"Emeka \" + \"prefer's \" + \"playing \"+barca[0].title()+\" as a striker\"\n",
    "print(message)"
   ]
  },
  {
   "cell_type": "code",
   "execution_count": 25,
   "metadata": {},
   "outputs": [
    {
     "name": "stdout",
     "output_type": "stream",
     "text": [
      "['benz', 'bmw', 'pigeot', 'ford', 'telsa']\n",
      "\n",
      "\n",
      "['ducati', 'bmw', 'pigeot', 'ford', 'telsa']\n"
     ]
    }
   ],
   "source": [
    "#changing, adding or removing elements\n",
    "\n",
    "cars = ['benz', 'bmw', 'pigeot', 'ford', 'telsa']\n",
    "print(cars)\n",
    "\n",
    "cars[0] = 'ducati' #changing and modifying the first element in my list\n",
    "print('\\n')\n",
    "print(cars)"
   ]
  },
  {
   "cell_type": "code",
   "execution_count": 26,
   "metadata": {},
   "outputs": [
    {
     "name": "stdout",
     "output_type": "stream",
     "text": [
      "['ducati', 'bmw', 'pigeot', 'ford', 'telsa', 'volvo']\n"
     ]
    }
   ],
   "source": [
    "#you can as well add a new element in the list\n",
    "#the simplest way to do this is to append the item to the list\n",
    "\n",
    "cars.append('volvo') #using append method to build our list values\n",
    "print(cars)"
   ]
  },
  {
   "cell_type": "code",
   "execution_count": 27,
   "metadata": {},
   "outputs": [
    {
     "name": "stdout",
     "output_type": "stream",
     "text": [
      "['emeka', 'jeffman', 'Arinze']\n"
     ]
    }
   ],
   "source": [
    "names_guys = []\n",
    "\n",
    "names_guys.append('emeka')\n",
    "names_guys.append('jeffman')\n",
    "names_guys.append('Arinze')\n",
    "print(names_guys)"
   ]
  },
  {
   "cell_type": "code",
   "execution_count": 28,
   "metadata": {},
   "outputs": [
    {
     "name": "stdout",
     "output_type": "stream",
     "text": [
      "['Toyota', 'benz', 'bmw', 'pigeot', 'ford', 'telsa']\n"
     ]
    }
   ],
   "source": [
    "#inserting new element in a list\n",
    "#this enables us to add any element in any position in our list\n",
    "cars = ['benz', 'bmw', 'pigeot', 'ford', 'telsa']\n",
    "cars.insert(0, 'Toyota') #places the new element in the index position 0\n",
    "print(cars)"
   ]
  },
  {
   "cell_type": "code",
   "execution_count": 29,
   "metadata": {},
   "outputs": [
    {
     "name": "stdout",
     "output_type": "stream",
     "text": [
      "['benz', 'bmw', 'ford', 'telsa']\n"
     ]
    }
   ],
   "source": [
    "#let us try the del method i.e deleting\n",
    "\n",
    "cars = ['benz', 'bmw', 'pigeot', 'ford', 'telsa']\n",
    "\n",
    "del cars[2]\n",
    "print(cars)\n"
   ]
  },
  {
   "cell_type": "code",
   "execution_count": 30,
   "metadata": {},
   "outputs": [
    {
     "name": "stdout",
     "output_type": "stream",
     "text": [
      "['benz', 'bmw', 'pigeot', 'ford']\n",
      "telsa\n"
     ]
    }
   ],
   "source": [
    "# we can use the pop method to remove the last item from a list \n",
    "# but we can still access the last element the list later\n",
    "\n",
    "cars = ['benz', 'bmw', 'pigeot', 'ford', 'telsa']\n",
    "popped_cars = cars.pop()\n",
    "print(cars)\n",
    "print(popped_cars) #showing that we can still access the popped element unlike the del case"
   ]
  },
  {
   "cell_type": "code",
   "execution_count": 31,
   "metadata": {},
   "outputs": [
    {
     "name": "stdout",
     "output_type": "stream",
     "text": [
      "the last car i bought was Telsa.\n"
     ]
    }
   ],
   "source": [
    "cars = ['benz', 'bmw', 'pigeot', 'ford', 'telsa']\n",
    "popped_cars = cars.pop()\n",
    "print(\"the last car i bought was \"+ popped_cars.title()+\".\")"
   ]
  },
  {
   "cell_type": "code",
   "execution_count": 32,
   "metadata": {},
   "outputs": [
    {
     "name": "stdout",
     "output_type": "stream",
     "text": [
      "['benz', 'bmw', 'ford', 'telsa']\n"
     ]
    }
   ],
   "source": [
    "#we can use remove method once we are sure of the value we want to remove\n",
    "\n",
    "cars = ['benz', 'bmw', 'pigeot', 'ford', 'telsa']\n",
    "cars.remove('pigeot')\n",
    "print(cars)"
   ]
  },
  {
   "cell_type": "code",
   "execution_count": 33,
   "metadata": {},
   "outputs": [
    {
     "name": "stdout",
     "output_type": "stream",
     "text": [
      "obu  you're welcome to our first dinner meal\n",
      "omeye  you're welcome to our first dinner meal\n",
      "demba  you're welcome to our first dinner meal\n"
     ]
    }
   ],
   "source": [
    "dinner_meal = ['obu', 'omeye', 'demba']\n",
    "print(dinner_meal[0],\" you're welcome to our first dinner meal\")\n",
    "\n",
    "print(dinner_meal[1],\" you're welcome to our first dinner meal\")\n",
    "\n",
    "print(dinner_meal[2],\" you're welcome to our first dinner meal\")"
   ]
  },
  {
   "cell_type": "code",
   "execution_count": 34,
   "metadata": {},
   "outputs": [
    {
     "name": "stdout",
     "output_type": "stream",
     "text": [
      "demba  can't make it to dinner meal\n",
      "obu  you're welcome to our first dinner meal\n",
      "omeye  you're welcome to our first dinner meal\n",
      "Mekus  you're welcome to our first dinner meal\n"
     ]
    }
   ],
   "source": [
    "print(dinner_meal[2],\" can't make it to dinner meal\")\n",
    "\n",
    "dinner_meal = ['obu', 'omeye', 'demba']\n",
    "\n",
    "dinner_meal.remove('demba')\n",
    "\n",
    "dinner_meal.append('Mekus')\n",
    "\n",
    "print(dinner_meal[0],\" you're welcome to our first dinner meal\")\n",
    "\n",
    "print(dinner_meal[1],\" you're welcome to our first dinner meal\")\n",
    "\n",
    "print(dinner_meal[2],\" you're welcome to our first dinner meal\")\n",
    "\n"
   ]
  },
  {
   "cell_type": "code",
   "execution_count": 35,
   "metadata": {},
   "outputs": [
    {
     "name": "stdout",
     "output_type": "stream",
     "text": [
      "egenti  you're welcome to our first dinner meal\n",
      "\n",
      "\n",
      "obu  you're welcome to our first dinner meal\n",
      "\n",
      "\n",
      "omeye  you're welcome to our first dinner meal\n",
      "\n",
      "\n",
      "Mekus  you're welcome to our first dinner meal\n",
      "\n",
      "\n",
      "abada  you're welcome to our first dinner meal\n",
      "\n",
      "\n",
      "tony  you're welcome to our first dinner meal\n",
      "\n",
      "\n",
      "uche  you're welcome to our first dinner meal\n"
     ]
    }
   ],
   "source": [
    "dinner_meal.insert(3,'abada')\n",
    "dinner_meal.insert(4,'tony')\n",
    "dinner_meal.insert(0,'egenti')\n",
    "dinner_meal.append('uche')\n",
    "\n",
    "print(dinner_meal[0],\" you're welcome to our first dinner meal\")\n",
    "print('\\n')\n",
    "print(dinner_meal[1],\" you're welcome to our first dinner meal\")\n",
    "print('\\n')\n",
    "print(dinner_meal[2],\" you're welcome to our first dinner meal\")\n",
    "print('\\n')\n",
    "print(dinner_meal[3],\" you're welcome to our first dinner meal\")\n",
    "print('\\n')\n",
    "print(dinner_meal[4],\" you're welcome to our first dinner meal\")\n",
    "print('\\n')\n",
    "print(dinner_meal[5],\" you're welcome to our first dinner meal\")\n",
    "print('\\n')\n",
    "print(dinner_meal[6],\" you're welcome to our first dinner meal\")\n"
   ]
  },
  {
   "cell_type": "code",
   "execution_count": 36,
   "metadata": {},
   "outputs": [
    {
     "name": "stdout",
     "output_type": "stream",
     "text": [
      "['egenti', 'obu', 'omeye', 'Mekus', 'abada', 'tony', 'uche']\n"
     ]
    }
   ],
   "source": [
    "print(dinner_meal)"
   ]
  },
  {
   "cell_type": "code",
   "execution_count": 37,
   "metadata": {},
   "outputs": [
    {
     "name": "stdout",
     "output_type": "stream",
     "text": [
      "sorry i can only afford inviting two people for dinner\n",
      "\n",
      "\n",
      "Uche sorry i can't invite you now\n",
      "Tony sorry i can't invite you now\n",
      "Abada sorry i can't invite you now\n",
      "Mekus sorry i can't invite you now\n",
      "Omeye sorry i can't invite you now\n",
      "\n",
      "\n",
      "['egenti', 'obu']\n",
      "['egenti', 'obu']\n"
     ]
    }
   ],
   "source": [
    "print(\"sorry i can only afford inviting two people for dinner\")\n",
    "\n",
    "print('\\n')\n",
    "\n",
    "popped_1 = dinner_meal.pop()\n",
    "print(popped_1.title() + \" sorry i can't invite you now\")\n",
    "\n",
    "popped_2 = dinner_meal.pop()\n",
    "print(popped_2.title() + \" sorry i can't invite you now\")\n",
    "popped_3 = dinner_meal.pop()\n",
    "print(popped_3.title() + \" sorry i can't invite you now\")\n",
    "popped_4 = dinner_meal.pop()\n",
    "print(popped_4.title() + \" sorry i can't invite you now\")\n",
    "popped_5 = dinner_meal.pop()\n",
    "print(popped_5.title() + \" sorry i can't invite you now\")\n",
    "\n",
    "print('\\n')\n",
    "print(dinner_meal)\n",
    "\n",
    "\n",
    "\n",
    "print(dinner_meal)"
   ]
  },
  {
   "cell_type": "code",
   "execution_count": 38,
   "metadata": {},
   "outputs": [
    {
     "data": {
      "text/plain": [
       "['egenti', 'obu']"
      ]
     },
     "execution_count": 38,
     "metadata": {},
     "output_type": "execute_result"
    }
   ],
   "source": [
    "dinner_meal"
   ]
  },
  {
   "cell_type": "code",
   "execution_count": 39,
   "metadata": {},
   "outputs": [],
   "source": [
    "del dinner_meal[0]\n",
    "del dinner_meal[0]\n",
    "\n"
   ]
  },
  {
   "cell_type": "code",
   "execution_count": 40,
   "metadata": {},
   "outputs": [
    {
     "name": "stdout",
     "output_type": "stream",
     "text": [
      "[]\n"
     ]
    }
   ],
   "source": [
    "print(dinner_meal)"
   ]
  },
  {
   "cell_type": "markdown",
   "metadata": {},
   "source": [
    "### sorting our list"
   ]
  },
  {
   "cell_type": "code",
   "execution_count": 41,
   "metadata": {
    "scrolled": true
   },
   "outputs": [
    {
     "name": "stdout",
     "output_type": "stream",
     "text": [
      "['benz', 'bmw', 'ford', 'telsa']\n"
     ]
    }
   ],
   "source": [
    "print(cars)"
   ]
  },
  {
   "cell_type": "code",
   "execution_count": 42,
   "metadata": {},
   "outputs": [
    {
     "name": "stdout",
     "output_type": "stream",
     "text": [
      "['benz', 'bmw', 'ford', 'telsa']\n"
     ]
    }
   ],
   "source": [
    "#let us see how python sort methods works\n",
    "\n",
    "cars.sort()#permanent way of sorting our list values\n",
    "print(cars)"
   ]
  },
  {
   "cell_type": "code",
   "execution_count": 43,
   "metadata": {},
   "outputs": [],
   "source": [
    "#sorting in reverse alphabetical order"
   ]
  },
  {
   "cell_type": "code",
   "execution_count": 44,
   "metadata": {},
   "outputs": [
    {
     "name": "stdout",
     "output_type": "stream",
     "text": [
      "['telsa', 'ford', 'bmw', 'benz']\n"
     ]
    }
   ],
   "source": [
    "cars.sort(reverse=True) #cahnging the ordering of our list values\n",
    "print(cars)"
   ]
  },
  {
   "cell_type": "code",
   "execution_count": 45,
   "metadata": {},
   "outputs": [
    {
     "name": "stdout",
     "output_type": "stream",
     "text": [
      "Here is the orginial list of cars:\n",
      "['telsa', 'ford', 'bmw', 'benz']\n",
      "\n",
      " Here is the sorted list of cars\n",
      "['benz', 'bmw', 'ford', 'telsa']\n",
      "\n",
      "\n",
      "['telsa', 'ford', 'bmw', 'benz']\n"
     ]
    }
   ],
   "source": [
    "#sorted is used when we want to make a temporary sorting in our list\n",
    "\n",
    "print(\"Here is the orginial list of cars:\")\n",
    "print(cars)\n",
    "\n",
    "print(\"\\n Here is the sorted list of cars\")\n",
    "print(sorted(cars))\n",
    "\n",
    "print(\"\\n\")\n",
    "print(cars)"
   ]
  },
  {
   "cell_type": "code",
   "execution_count": 46,
   "metadata": {},
   "outputs": [
    {
     "name": "stdout",
     "output_type": "stream",
     "text": [
      "['telsa', 'ford', 'bmw', 'benz']\n",
      "['benz', 'bmw', 'ford', 'telsa']\n"
     ]
    }
   ],
   "source": [
    "print(cars)\n",
    "\n",
    "cars.reverse() #it simply reverses the ordering of a list and not sorting\n",
    "print(cars)"
   ]
  },
  {
   "cell_type": "code",
   "execution_count": 47,
   "metadata": {},
   "outputs": [
    {
     "data": {
      "text/plain": [
       "4"
      ]
     },
     "execution_count": 47,
     "metadata": {},
     "output_type": "execute_result"
    }
   ],
   "source": [
    "#finding the length of a list\n",
    "\n",
    "len(cars)"
   ]
  },
  {
   "cell_type": "code",
   "execution_count": 48,
   "metadata": {},
   "outputs": [
    {
     "name": "stdout",
     "output_type": "stream",
     "text": [
      "['america', 'london', 'nyc', 'rwanda', 'carlifonia']\n",
      "\n",
      "\n",
      "['america', 'carlifonia', 'london', 'nyc', 'rwanda']\n",
      "\n",
      "\n",
      "['america', 'london', 'nyc', 'rwanda', 'carlifonia']\n",
      "\n",
      "\n",
      "['america', 'carlifonia', 'london', 'nyc', 'rwanda']\n"
     ]
    }
   ],
   "source": [
    "place_visit = ['america', 'london', 'nyc', 'rwanda', 'carlifonia']\n",
    "print(place_visit)\n",
    "print(\"\\n\")\n",
    "print(sorted(place_visit))\n",
    "print(\"\\n\")\n",
    "print(place_visit)\n",
    "print(\"\\n\")\n",
    "place_visit.reverse()\n",
    "print(sorted(place_visit))"
   ]
  },
  {
   "cell_type": "code",
   "execution_count": 49,
   "metadata": {},
   "outputs": [
    {
     "name": "stdout",
     "output_type": "stream",
     "text": [
      "['carlifonia', 'rwanda', 'nyc', 'london', 'america']\n"
     ]
    }
   ],
   "source": [
    "print(place_visit)"
   ]
  },
  {
   "cell_type": "code",
   "execution_count": 50,
   "metadata": {},
   "outputs": [
    {
     "name": "stdout",
     "output_type": "stream",
     "text": [
      "0\n",
      "5\n"
     ]
    }
   ],
   "source": [
    "print(len(dinner_meal))\n",
    "print(len(place_visit))\n"
   ]
  },
  {
   "cell_type": "code",
   "execution_count": 51,
   "metadata": {},
   "outputs": [
    {
     "name": "stdout",
     "output_type": "stream",
     "text": [
      "america\n"
     ]
    }
   ],
   "source": [
    "print(place_visit[4])"
   ]
  },
  {
   "cell_type": "markdown",
   "metadata": {},
   "source": [
    "### Working with list"
   ]
  },
  {
   "cell_type": "markdown",
   "metadata": {},
   "source": [
    "I will focus on how to work on a list intuitively by performing looping task to evaluate elements in our list.\n",
    "when you want to do the same action with every item in a list, you can use python for loop"
   ]
  },
  {
   "cell_type": "code",
   "execution_count": 52,
   "metadata": {},
   "outputs": [
    {
     "name": "stdout",
     "output_type": "stream",
     "text": [
      "America, welcome to your dream land.\n",
      "i can't wait to see you again in America\n",
      "\n",
      "London, welcome to your dream land.\n",
      "i can't wait to see you again in London\n",
      "\n",
      "Nyc, welcome to your dream land.\n",
      "i can't wait to see you again in Nyc\n",
      "\n",
      "Rwanda, welcome to your dream land.\n",
      "i can't wait to see you again in Rwanda\n",
      "\n",
      "Carlifonia, welcome to your dream land.\n",
      "i can't wait to see you again in Carlifonia\n",
      "\n",
      "Thank you once more, have a nice stay!\n"
     ]
    }
   ],
   "source": [
    "place_visit = ['america', 'london', 'nyc', 'rwanda', 'carlifonia']\n",
    "\n",
    "#let us use a for loop to print out each places we had visited\n",
    "\n",
    "for place in place_visit:\n",
    "    print(place.title() + \", welcome to your dream land.\")\n",
    "    print(\"i can't wait to see you again in \" + place.title()+'\\n')#using title to capitalize the first word\n",
    "print(\"Thank you once more, have a nice stay!\")\n",
    "#how it works, python moves on the list, prints each element at a time till it encounters nothing again on the list"
   ]
  },
  {
   "cell_type": "code",
   "execution_count": 53,
   "metadata": {},
   "outputs": [
    {
     "name": "stdout",
     "output_type": "stream",
     "text": [
      "this pizza is Okpa\n",
      "i would love to take Okpa again\n",
      "\n",
      "this pizza is Agidi\n",
      "i would love to take Agidi again\n",
      "\n",
      "this pizza is Moi-Moi\n",
      "i would love to take Moi-Moi again\n",
      "\n"
     ]
    }
   ],
   "source": [
    "pizza_list = ['okpa', 'agidi','moi-moi']\n",
    "\n",
    "#using the for loop to print each pizza name\n",
    "\n",
    "for pizza in pizza_list:\n",
    "    print(\"this pizza is \"+ pizza.title())\n",
    "    print(\"i would love to take \"+ pizza.title() + \" again\\n\")"
   ]
  },
  {
   "cell_type": "markdown",
   "metadata": {},
   "source": [
    "### Making Numerical list"
   ]
  },
  {
   "cell_type": "code",
   "execution_count": 54,
   "metadata": {},
   "outputs": [
    {
     "name": "stdout",
     "output_type": "stream",
     "text": [
      "[1, 2, 3, 4, 5, 6]\n"
     ]
    }
   ],
   "source": [
    "#python range function makes it easy to generate a series of number\n",
    "\n",
    "numbers = list(range(1,7))\n",
    "print(numbers)"
   ]
  },
  {
   "cell_type": "code",
   "execution_count": 55,
   "metadata": {},
   "outputs": [
    {
     "name": "stdout",
     "output_type": "stream",
     "text": [
      "[2, 4, 6, 8, 10]\n"
     ]
    }
   ],
   "source": [
    "#we can also use the range function to skip certain values\n",
    "\n",
    "even_num = list(range(2,11,2))\n",
    "print(even_num)"
   ]
  },
  {
   "cell_type": "code",
   "execution_count": 56,
   "metadata": {},
   "outputs": [
    {
     "name": "stdout",
     "output_type": "stream",
     "text": [
      "[1, 4, 9, 16, 25, 36, 49, 64, 81, 100]\n"
     ]
    }
   ],
   "source": [
    "squares = []\n",
    "for value in range(1,11):\n",
    "    sqaure = value**2\n",
    "    squares.append(sqaure)\n",
    "print(squares)"
   ]
  },
  {
   "cell_type": "code",
   "execution_count": 57,
   "metadata": {},
   "outputs": [
    {
     "name": "stdout",
     "output_type": "stream",
     "text": [
      "[1, 4, 9, 16, 25, 36, 49, 64, 81, 100]\n"
     ]
    }
   ],
   "source": [
    "#list comprehension, helps us minimize our coding length\n",
    "squares = [value**2 for value in range(1,11)]\n",
    "print(squares)\n",
    "\n",
    "#step 1 create the variable to store our list\n",
    "#step 2, which value do you wish to be appended to our list(value**2)\n",
    "#step 3, write a for loop you want to feed into the expression. all in bracket\n"
   ]
  },
  {
   "cell_type": "code",
   "execution_count": 58,
   "metadata": {},
   "outputs": [
    {
     "name": "stdout",
     "output_type": "stream",
     "text": [
      "[1, 2, 3, 4, 5, 6, 7, 8, 9, 10, 11, 12, 13, 14, 15, 16, 17, 18, 19, 20]\n"
     ]
    }
   ],
   "source": [
    "num_20 = [value for value in range(1,21)]\n",
    "print(num_20)"
   ]
  },
  {
   "cell_type": "code",
   "execution_count": 59,
   "metadata": {},
   "outputs": [
    {
     "name": "stdout",
     "output_type": "stream",
     "text": [
      "[1, 3, 5, 7, 9, 11, 13, 15, 17, 19]\n"
     ]
    }
   ],
   "source": [
    "odd_num = [value for value in range(1,21,2)]\n",
    "print(odd_num)"
   ]
  },
  {
   "cell_type": "code",
   "execution_count": 60,
   "metadata": {},
   "outputs": [
    {
     "name": "stdout",
     "output_type": "stream",
     "text": [
      "[1, 8, 27, 64, 125, 216, 343, 512, 729]\n"
     ]
    }
   ],
   "source": [
    "cube_num = [value**3 for value in range(1,10)] #list comprehension\n",
    "print(cube_num)"
   ]
  },
  {
   "cell_type": "code",
   "execution_count": 61,
   "metadata": {},
   "outputs": [
    {
     "name": "stdout",
     "output_type": "stream",
     "text": [
      "[1, 8, 27, 64, 125, 216, 343, 512, 729]\n"
     ]
    }
   ],
   "source": [
    "cube_num = []\n",
    "for value in range(1,10):\n",
    "    cube = value **3\n",
    "    cube_num.append(cube)\n",
    "print(cube_num)"
   ]
  },
  {
   "cell_type": "markdown",
   "metadata": {},
   "source": [
    "### Working with part of a list"
   ]
  },
  {
   "cell_type": "code",
   "execution_count": 62,
   "metadata": {},
   "outputs": [
    {
     "name": "stdout",
     "output_type": "stream",
     "text": [
      "['messi', 'vidal', 'suarez']\n",
      "['messi', 'vidal', 'suarez']\n",
      "['coutinho', 'pique', 'dembele']\n",
      "['coutinho', 'pique', 'dembele']\n"
     ]
    }
   ],
   "source": [
    "#a slice allows us to work with a group of elements in a list\n",
    "#to make a slice, we specify the index of the first and last elemnts you want to work with\n",
    "\n",
    "barca_players = ['messi', 'vidal', 'suarez', 'coutinho','pique','dembele']\n",
    "print(barca_players[0:3])\n",
    "print(barca_players[:3])\n",
    "print(barca_players[3:])\n",
    "print(barca_players[-3:])"
   ]
  },
  {
   "cell_type": "code",
   "execution_count": 63,
   "metadata": {},
   "outputs": [
    {
     "name": "stdout",
     "output_type": "stream",
     "text": [
      "here are the best 3 players in barca this season\n",
      " \n",
      "Messi\n",
      "Vidal\n",
      "Suarez\n"
     ]
    }
   ],
   "source": [
    "#loop through a slice\n",
    "print(\"here are the best 3 players in barca this season\\n \")\n",
    "\n",
    "for player in barca_players[:3]:\n",
    "    print(player.title())\n"
   ]
  },
  {
   "cell_type": "code",
   "execution_count": 64,
   "metadata": {},
   "outputs": [
    {
     "name": "stdout",
     "output_type": "stream",
     "text": [
      "here are the best 3 players in barca this season\n",
      "\n",
      "['Messi', 'Vidal', 'Suarez']\n"
     ]
    }
   ],
   "source": [
    "print(\"here are the best 3 players in barca this season\\n\")\n",
    "best_3 = [value.title() for value in barca_players[:3]]\n",
    "print(best_3)"
   ]
  },
  {
   "cell_type": "code",
   "execution_count": 65,
   "metadata": {},
   "outputs": [
    {
     "name": "stdout",
     "output_type": "stream",
     "text": [
      "['Messi', 'Vidal', 'Suarez']\n"
     ]
    }
   ],
   "source": [
    "#lets see how we can copy an entire list\n",
    "new_best =best_3[:] #copying our first list\n",
    "print(new_best)"
   ]
  },
  {
   "cell_type": "code",
   "execution_count": 66,
   "metadata": {},
   "outputs": [
    {
     "name": "stdout",
     "output_type": "stream",
     "text": [
      "['Messi', 'Vidal', 'Suarez', 'Jong']\n",
      "['Messi', 'Vidal', 'Suarez', 'semedo']\n"
     ]
    }
   ],
   "source": [
    "best_3.append('Jong')\n",
    "new_best.append('semedo')\n",
    "\n",
    "print(best_3)\n",
    "'\\n'\n",
    "print(new_best)"
   ]
  },
  {
   "cell_type": "markdown",
   "metadata": {},
   "source": [
    "### welcome to tuple"
   ]
  },
  {
   "cell_type": "markdown",
   "metadata": {},
   "source": [
    "Tuples allow us to create a list of item that can not be changed. This is referred to as being immutable andan immutable list is called tuple"
   ]
  },
  {
   "cell_type": "code",
   "execution_count": 67,
   "metadata": {},
   "outputs": [
    {
     "name": "stdout",
     "output_type": "stream",
     "text": [
      "200\n",
      "50\n"
     ]
    }
   ],
   "source": [
    "#creating a rectangle with an immutable size change\n",
    "\n",
    "dimensions = (200, 50) #tuples are defined with paranthesis instead of a square bracket\n",
    "print(dimensions[0])\n",
    "print(dimensions[1])\n"
   ]
  },
  {
   "cell_type": "code",
   "execution_count": 68,
   "metadata": {
    "scrolled": true
   },
   "outputs": [
    {
     "ename": "TypeError",
     "evalue": "'tuple' object does not support item assignment",
     "output_type": "error",
     "traceback": [
      "\u001b[1;31m---------------------------------------------------------------------------\u001b[0m",
      "\u001b[1;31mTypeError\u001b[0m                                 Traceback (most recent call last)",
      "\u001b[1;32m<ipython-input-68-20f01bcfa349>\u001b[0m in \u001b[0;36m<module>\u001b[1;34m\u001b[0m\n\u001b[0;32m      1\u001b[0m \u001b[1;31m#lets try to see if we can make a change to the tuple items\u001b[0m\u001b[1;33m\u001b[0m\u001b[1;33m\u001b[0m\u001b[1;33m\u001b[0m\u001b[0m\n\u001b[0;32m      2\u001b[0m \u001b[1;33m\u001b[0m\u001b[0m\n\u001b[1;32m----> 3\u001b[1;33m \u001b[0mdimensions\u001b[0m\u001b[1;33m[\u001b[0m\u001b[1;36m0\u001b[0m\u001b[1;33m]\u001b[0m \u001b[1;33m=\u001b[0m \u001b[1;36m300\u001b[0m\u001b[1;33m\u001b[0m\u001b[1;33m\u001b[0m\u001b[0m\n\u001b[0m\u001b[0;32m      4\u001b[0m \u001b[0mprint\u001b[0m\u001b[1;33m(\u001b[0m\u001b[0mdimensions\u001b[0m\u001b[1;33m)\u001b[0m \u001b[1;31m#check out the generated error\u001b[0m\u001b[1;33m\u001b[0m\u001b[1;33m\u001b[0m\u001b[0m\n",
      "\u001b[1;31mTypeError\u001b[0m: 'tuple' object does not support item assignment"
     ]
    }
   ],
   "source": [
    "#lets try to see if we can make a change to the tuple items\n",
    "\n",
    "dimensions[0] = 300\n",
    "print(dimensions) #check out the generated error"
   ]
  },
  {
   "cell_type": "code",
   "execution_count": 69,
   "metadata": {},
   "outputs": [
    {
     "name": "stdout",
     "output_type": "stream",
     "text": [
      "200\n",
      "50\n"
     ]
    }
   ],
   "source": [
    "#let us perform a looping in the tuple\n",
    "\n",
    "for item in dimensions:\n",
    "    print(item)\n",
    "    "
   ]
  },
  {
   "cell_type": "code",
   "execution_count": 70,
   "metadata": {},
   "outputs": [
    {
     "name": "stdout",
     "output_type": "stream",
     "text": [
      "original dimension\n",
      "200\n",
      "50\n",
      "\n",
      "modified dimensions\n",
      "400\n",
      "100\n"
     ]
    }
   ],
   "source": [
    "#though we can't modify our tuple, we can do changes to it \n",
    "#by assigning a new value to the variable of the tuple\n",
    "dimensions = (200, 50) \n",
    "print(\"original dimension\")\n",
    "for item in dimensions:\n",
    "    print(item)\n",
    "    \n",
    "#assigning new value to the variable\n",
    "print(\"\\nmodified dimensions\")\n",
    "dimensions = (400,100) #overwriting tuple in python is valid\n",
    "for item in dimensions:\n",
    "    print(item)"
   ]
  },
  {
   "cell_type": "code",
   "execution_count": 71,
   "metadata": {},
   "outputs": [
    {
     "name": "stdout",
     "output_type": "stream",
     "text": [
      "old menu:\n",
      "rice\n",
      "indomie\n",
      "beans\n",
      "garri\n",
      "soup\n",
      "\n",
      "new menu:\n",
      "rice\n",
      "indomie\n",
      "onion\n",
      "ofe\n",
      "soup\n"
     ]
    }
   ],
   "source": [
    "simple_foods = ('rice', 'indomie', 'beans', 'garri','soup')\n",
    "print(\"old menu:\")\n",
    "for food in simple_foods:\n",
    "    print(food)\n",
    "    \n",
    "simple_foods = ('rice', 'indomie', 'onion', 'ofe','soup')\n",
    "print(\"\\nnew menu:\")\n",
    "for food in simple_foods:\n",
    "    print(food)"
   ]
  },
  {
   "cell_type": "markdown",
   "metadata": {},
   "source": [
    "### IF CONDITION"
   ]
  },
  {
   "cell_type": "markdown",
   "metadata": {},
   "source": [
    "programming mostly involves examining sets of logic through given conditions. python if statement allows you to examine athe current state of a program and respond appropriately to it.\n",
    "\n"
   ]
  },
  {
   "cell_type": "code",
   "execution_count": 72,
   "metadata": {},
   "outputs": [
    {
     "name": "stdout",
     "output_type": "stream",
     "text": [
      "BMW\n",
      "Okada\n",
      "Bike\n",
      "Spider\n",
      "Camery\n",
      "Ford\n"
     ]
    }
   ],
   "source": [
    "#lets experiment a simple if condition.\n",
    "\n",
    "cars = ['bmw','okada','bike','spider','camery','ford']\n",
    "\n",
    "#using for loop to get through our list\n",
    "for car in cars:\n",
    "    if car == 'bmw':\n",
    "        print(car.upper())\n",
    "    else:\n",
    "        print(car.title())\n"
   ]
  },
  {
   "cell_type": "markdown",
   "metadata": {},
   "source": [
    "at the heart of every if statement, is an expression that can be evaluated as either true or false. This statement is known as conditional test. python uses the true and false logic to determine if the code in an if statement should be executed."
   ]
  },
  {
   "cell_type": "code",
   "execution_count": 73,
   "metadata": {},
   "outputs": [
    {
     "name": "stdout",
     "output_type": "stream",
     "text": [
      "hold on, we only have sharwama now!\n"
     ]
    }
   ],
   "source": [
    "requested_pizza = 'sharwama'\n",
    "if requested_pizza != 'mushrooms':\n",
    "    print(\"hold on, we only have sharwama now!\")"
   ]
  },
  {
   "cell_type": "code",
   "execution_count": 74,
   "metadata": {},
   "outputs": [
    {
     "data": {
      "text/plain": [
       "True"
      ]
     },
     "execution_count": 74,
     "metadata": {},
     "output_type": "execute_result"
    }
   ],
   "source": [
    "#lets do multiple conditions checking\n",
    "\n",
    "age_0 = 23\n",
    "age_1 = 24\n",
    "(age_0 >=23) and (age_1<=24)#only performs when both cases are true"
   ]
  },
  {
   "cell_type": "code",
   "execution_count": 75,
   "metadata": {},
   "outputs": [
    {
     "data": {
      "text/plain": [
       "True"
      ]
     },
     "execution_count": 75,
     "metadata": {},
     "output_type": "execute_result"
    }
   ],
   "source": [
    "age_0 = 23\n",
    "age_1 = 0\n",
    "(age_0 >=23) or (age_1>=24)#only performs when either of cases is true"
   ]
  },
  {
   "cell_type": "code",
   "execution_count": 76,
   "metadata": {},
   "outputs": [
    {
     "name": "stdout",
     "output_type": "stream",
     "text": [
      "False\n",
      "True\n"
     ]
    }
   ],
   "source": [
    "#checking whether a value is in the list\n",
    "pizza = ['akara', 'bread','beancake'] ##dont mind my list, just an example\n",
    "print('ofe' in pizza)\n",
    "print('akara' in pizza)"
   ]
  },
  {
   "cell_type": "code",
   "execution_count": 77,
   "metadata": {},
   "outputs": [
    {
     "name": "stdout",
     "output_type": "stream",
     "text": [
      "Ofe, you can now enjoy the meal!\n"
     ]
    }
   ],
   "source": [
    "#checking whether a value is not in a list\n",
    "pizza = ['akara', 'bread','beancake']\n",
    "item = 'ofe'\n",
    "if item not in pizza:\n",
    "    print(item.title()+ \", you can now enjoy the meal!\")"
   ]
  },
  {
   "cell_type": "markdown",
   "metadata": {},
   "source": [
    "### If Statement"
   ]
  },
  {
   "cell_type": "code",
   "execution_count": 78,
   "metadata": {},
   "outputs": [
    {
     "name": "stdout",
     "output_type": "stream",
     "text": [
      "Have you voted?\n",
      "You're Eligible to vote\n"
     ]
    }
   ],
   "source": [
    "#python if statement, processes to a defined result, once the if condition passes the test\n",
    "age = 18\n",
    "if age >= 18:\n",
    "    print(\"Have you voted?\")\n",
    "    print(\"You're Eligible to vote\")\n",
    "    "
   ]
  },
  {
   "cell_type": "code",
   "execution_count": 79,
   "metadata": {},
   "outputs": [
    {
     "name": "stdout",
     "output_type": "stream",
     "text": [
      "you're not up to age\n"
     ]
    }
   ],
   "source": [
    "#let us see the function of the if-else statement\n",
    "age = 17\n",
    "if age >= 18:\n",
    "    print(\"Have you voted?\")\n",
    "    print(\"You're Eligible to vote\")\n",
    "else:\n",
    "    print(\"you're not up to age\")\n"
   ]
  },
  {
   "cell_type": "code",
   "execution_count": 80,
   "metadata": {},
   "outputs": [
    {
     "name": "stdout",
     "output_type": "stream",
     "text": [
      "your fee is $10\n"
     ]
    }
   ],
   "source": [
    "#if elif, else statement\n",
    "\n",
    "age = 34\n",
    "if age <= 4:\n",
    "    print('admission is free')\n",
    "elif age >4 and age <=18:\n",
    "    print('your fee is $5')\n",
    "else:\n",
    "    print('your fee is $10')"
   ]
  },
  {
   "cell_type": "code",
   "execution_count": 102,
   "metadata": {},
   "outputs": [
    {
     "name": "stdout",
     "output_type": "stream",
     "text": [
      "your admission fee is $5.0.\n"
     ]
    }
   ],
   "source": [
    "#we can make our work easier by:\n",
    "age = 67\n",
    "if age <= 4:\n",
    "    price = 0\n",
    "elif age < 18:\n",
    "    price = 5\n",
    "elif age >= 65:\n",
    "    price = 10/2\n",
    "else:\n",
    "    price = 10\n",
    "print(\"your admission fee is $\" + str(price) +'.')\n",
    "\n",
    "#the else statement is a catchall statement. it matches any condition\n",
    "#that wasn't matched by a specific if or elif test and can somtimes include invalid or malicious data\n",
    "\n"
   ]
  },
  {
   "cell_type": "code",
   "execution_count": 82,
   "metadata": {},
   "outputs": [
    {
     "name": "stdout",
     "output_type": "stream",
     "text": [
      "ordered\n",
      "ordered\n",
      "\n",
      "finished making your order\n"
     ]
    }
   ],
   "source": [
    "#testing multiple conditions\n",
    "\n",
    "ordered_food = ['akara', 'pap','onion','oke']\n",
    "if 'akara' in ordered_food:\n",
    "    print('ordered')\n",
    "if 'pap' in ordered_food:\n",
    "    print('ordered')\n",
    "if 'egusi' in ordered_food:\n",
    "    print('ordered')\n",
    "    \n",
    "print(\"\\nfinished making your order\")"
   ]
  },
  {
   "cell_type": "code",
   "execution_count": 83,
   "metadata": {},
   "outputs": [
    {
     "name": "stdout",
     "output_type": "stream",
     "text": [
      "you just end 5 points\n"
     ]
    }
   ],
   "source": [
    "alien_color = ['green','yellow','red']\n",
    "if 'green' in alien_color:\n",
    "    print('you just end 5 points')\n",
    "else:\n",
    "    print('you lost a point')"
   ]
  },
  {
   "cell_type": "code",
   "execution_count": 84,
   "metadata": {},
   "outputs": [
    {
     "name": "stdout",
     "output_type": "stream",
     "text": [
      "you earned 10 point\n"
     ]
    }
   ],
   "source": [
    "alien_color = ['green','yellow','red']\n",
    "if 'orange' in alien_color:\n",
    "    print('you just end 5 points')\n",
    "else:\n",
    "    print('you earned 10 point')"
   ]
  },
  {
   "cell_type": "code",
   "execution_count": 85,
   "metadata": {},
   "outputs": [
    {
     "name": "stdout",
     "output_type": "stream",
     "text": [
      "\n",
      "your age is categorized as elder.\n"
     ]
    }
   ],
   "source": [
    "lifes_stage =  70\n",
    "\n",
    "if lifes_stage < 2:\n",
    "    age = 'baby'\n",
    "elif lifes_stage <=4:\n",
    "    age = 'toddler'\n",
    "elif lifes_stage <13:\n",
    "    age = 'kid'\n",
    "elif lifes_stage<=20:\n",
    "    age = 'teenager'\n",
    "elif lifes_stage < 65:\n",
    "    age = 'adult'\n",
    "else:\n",
    "    age = 'elder'\n",
    "print('\\nyour age is categorized as ' + str(age) + \".\")\n",
    "\n"
   ]
  },
  {
   "cell_type": "code",
   "execution_count": 86,
   "metadata": {},
   "outputs": [
    {
     "name": "stdout",
     "output_type": "stream",
     "text": [
      "Akara has been ordered and have been added\n",
      "Pap has been ordered and have been added\n",
      "Onion has been ordered and have been added\n",
      "Oke has been ordered and have been added\n",
      "\n",
      "finished making your oder\n"
     ]
    }
   ],
   "source": [
    "ordered_food = ['akara', 'pap','onion','oke']\n",
    "for food in ordered_food:\n",
    "    print(food.title() + ' has been ordered ' + 'and have been added')\n",
    "print('\\nfinished making your oder')"
   ]
  },
  {
   "cell_type": "code",
   "execution_count": 87,
   "metadata": {},
   "outputs": [
    {
     "name": "stdout",
     "output_type": "stream",
     "text": [
      "please be patient we are still frying the akara\n"
     ]
    }
   ],
   "source": [
    "ordered_food = ['akara', 'pap','onion','oke']\n",
    "for food in ordered_food:\n",
    "    if food == 'akara':\n",
    "        print('please be patient ' + 'we are still frying the '+ food)"
   ]
  },
  {
   "cell_type": "code",
   "execution_count": 88,
   "metadata": {},
   "outputs": [
    {
     "name": "stdout",
     "output_type": "stream",
     "text": [
      "are you sure you want a new order?\n"
     ]
    }
   ],
   "source": [
    "ordered_food = []\n",
    "if ordered_food:\n",
    "    for food in ordered_food:\n",
    "        print('We will attend to your request shortly')\n",
    "else:\n",
    "    print('are you sure you want a new order?')"
   ]
  },
  {
   "cell_type": "code",
   "execution_count": 89,
   "metadata": {},
   "outputs": [
    {
     "name": "stdout",
     "output_type": "stream",
     "text": [
      "We will attend to your request shortly\n"
     ]
    }
   ],
   "source": [
    "ordered_food = ['bean']\n",
    "if ordered_food:\n",
    "    for food in ordered_food:\n",
    "        print('We will attend to your request shortly')\n",
    "else:\n",
    "    print('are you sure you want a new order?')"
   ]
  },
  {
   "cell_type": "code",
   "execution_count": 90,
   "metadata": {},
   "outputs": [
    {
     "name": "stdout",
     "output_type": "stream",
     "text": [
      "your request for Rice has been recieved and its been processed\n",
      "\n",
      "we currently dont have Spaghetti\n",
      "\n",
      "your request for Beans has been recieved and its been processed\n",
      "\n",
      "your request for Fries has been recieved and its been processed\n",
      "\n",
      "we currently dont have Stew\n",
      "\n",
      "\n",
      "finished making your order!\n"
     ]
    }
   ],
   "source": [
    "available_food = ('rice', 'beans', 'indomie', 'fries')\n",
    "ordered_food = ['rice', 'spaghetti', 'beans', 'fries','stew']\n",
    "\n",
    "for food in ordered_food:\n",
    "    if food in available_food:\n",
    "        print('your request for '+ str(food.title())+ ' has been recieved and its been processed\\n')\n",
    "    else:\n",
    "        print('we currently dont have '+ str(food.title())+\"\\n\")\n",
    "print(\"\\nfinished making your order!\")"
   ]
  },
  {
   "cell_type": "code",
   "execution_count": 91,
   "metadata": {},
   "outputs": [
    {
     "name": "stdout",
     "output_type": "stream",
     "text": [
      "Hello Admin, would you like to see the status report so far?\n",
      "\n",
      "hello Frank you're welcome\n",
      "\n",
      "hello Emeka you're welcome\n",
      "\n",
      "hello Buchi you're welcome\n",
      "\n",
      "hello Okey you're welcome\n",
      "\n",
      "hello Nelson you're welcome\n",
      "\n"
     ]
    }
   ],
   "source": [
    "#making a list of our users\n",
    "users = ('admin','frank','emeka','buchi','okey','nelson')\n",
    "for name in users:\n",
    "    if name == 'admin':\n",
    "        print('Hello Admin, would you like to see the status report so far?\\n')\n",
    "    else:\n",
    "        print(\"hello \"+ str(name.title()) +\" you're welcome\\n\")"
   ]
  },
  {
   "cell_type": "code",
   "execution_count": 92,
   "metadata": {},
   "outputs": [
    {
     "name": "stdout",
     "output_type": "stream",
     "text": [
      "we urgently need new users today\n"
     ]
    }
   ],
   "source": [
    "#checking for no_user\n",
    "no_user = []\n",
    "if no_user:\n",
    "    for name in no_user:\n",
    "        print(\"hello, welcome\")       \n",
    "else:\n",
    "    print(\"we urgently need new users today\")"
   ]
  },
  {
   "cell_type": "code",
   "execution_count": 97,
   "metadata": {},
   "outputs": [
    {
     "name": "stdout",
     "output_type": "stream",
     "text": [
      "Azu is availabe\n",
      "\n",
      "Buchi taken, choose another name\n",
      "\n",
      "Okey taken, choose another name\n",
      "\n",
      "Amara is availabe\n",
      "\n",
      "Nelson taken, choose another name\n",
      "\n"
     ]
    }
   ],
   "source": [
    "current_users = ('admin','frank','emeka','buchi','okey','nelson')\n",
    "new_users = ['azu', 'buchi', 'okey', 'amara','nelson']\n",
    "\n",
    "for name in new_users:\n",
    "    if name in current_users:\n",
    "        print(str(name.title()) +' taken, choose another name\\n')\n",
    "    else:\n",
    "        print(str(name.title())+ ' is availabe\\n')"
   ]
  },
  {
   "cell_type": "code",
   "execution_count": 101,
   "metadata": {},
   "outputs": [
    {
     "name": "stdout",
     "output_type": "stream",
     "text": [
      "1st\n",
      "2nd\n",
      "3rd\n",
      "4th\n",
      "5th\n",
      "6th\n",
      "7th\n",
      "8th\n",
      "9th\n"
     ]
    }
   ],
   "source": [
    "#printing ordinal numbers stored in a list\n",
    "numbers = [1,2,3,4,5,6,7,8,9]\n",
    "for number in numbers:\n",
    "    if number == 1:\n",
    "        print(str(number) +'st')\n",
    "    elif number == 2:\n",
    "        print(str(number) +'nd')\n",
    "    elif number == 3:\n",
    "        print(str(number) +'rd')\n",
    "    else:\n",
    "        print(str(number) +'th')"
   ]
  },
  {
   "cell_type": "code",
   "execution_count": null,
   "metadata": {},
   "outputs": [],
   "source": []
  }
 ],
 "metadata": {
  "kernelspec": {
   "display_name": "Python 3",
   "language": "python",
   "name": "python3"
  },
  "language_info": {
   "codemirror_mode": {
    "name": "ipython",
    "version": 3
   },
   "file_extension": ".py",
   "mimetype": "text/x-python",
   "name": "python",
   "nbconvert_exporter": "python",
   "pygments_lexer": "ipython3",
   "version": "3.7.7"
  }
 },
 "nbformat": 4,
 "nbformat_minor": 4
}
